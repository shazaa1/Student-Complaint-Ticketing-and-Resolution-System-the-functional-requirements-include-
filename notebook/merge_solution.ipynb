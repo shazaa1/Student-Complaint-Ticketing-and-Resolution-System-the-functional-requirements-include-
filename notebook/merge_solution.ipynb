{
  "cells": [
    {
      "cell_type": "markdown",
      "metadata": {
        "id": "yh0RQDv-lze2"
      },
      "source": [
        "dataset_12"
      ]
    },
    {
      "cell_type": "code",
      "execution_count": null,
      "metadata": {
        "colab": {
          "base_uri": "https://localhost:8080/",
          "height": 17
        },
        "id": "FjKPUybSi5JJ",
        "outputId": "dccf2ac7-6417-4e96-c78d-8310388736e4"
      },
      "outputs": [
        {
          "data": {
            "application/javascript": "\n    async function download(id, filename, size) {\n      if (!google.colab.kernel.accessAllowed) {\n        return;\n      }\n      const div = document.createElement('div');\n      const label = document.createElement('label');\n      label.textContent = `Downloading \"${filename}\": `;\n      div.appendChild(label);\n      const progress = document.createElement('progress');\n      progress.max = size;\n      div.appendChild(progress);\n      document.body.appendChild(div);\n\n      const buffers = [];\n      let downloaded = 0;\n\n      const channel = await google.colab.kernel.comms.open(id);\n      // Send a message to notify the kernel that we're ready.\n      channel.send({})\n\n      for await (const message of channel.messages) {\n        // Send a message to notify the kernel that we're ready.\n        channel.send({})\n        if (message.buffers) {\n          for (const buffer of message.buffers) {\n            buffers.push(buffer);\n            downloaded += buffer.byteLength;\n            progress.value = downloaded;\n          }\n        }\n      }\n      const blob = new Blob(buffers, {type: 'application/binary'});\n      const a = document.createElement('a');\n      a.href = window.URL.createObjectURL(blob);\n      a.download = filename;\n      div.appendChild(a);\n      a.click();\n      div.remove();\n    }\n  ",
            "text/plain": [
              "<IPython.core.display.Javascript object>"
            ]
          },
          "metadata": {},
          "output_type": "display_data"
        },
        {
          "data": {
            "application/javascript": "download(\"download_4b1d2798-90f5-42bf-b196-77e776c59538\", \"C:\\\\Users\\\\pc\\\\Desktop\\\\student dataset\\\\subset_with resolution\\\\partition_12_part1_processed.csv\", 9574)",
            "text/plain": [
              "<IPython.core.display.Javascript object>"
            ]
          },
          "metadata": {},
          "output_type": "display_data"
        }
      ],
      "source": [
        "import pandas as pd\n",
        "from google.colab import files\n",
        "\n",
        "data = [\n",
        "    [\"Health and Well-being Support\", \"The lack of mental health resources on campus is really disappointing. It's hard to feel supported when there are so few options for care.\", 16, 3.09, 4, 1, \"M\", \"France\", \"Expand mental health resources on campus by hiring additional counselors and offering free or low-cost therapy sessions.\"],\n",
        "    [\"Health and Well-being Support\", \"I've had to choose between paying for necessary medical treatment and paying for other expenses like rent and groceries. It's not a decision anyone should have to make.\", 21, 3.32, 2, 1, \"F\", \"France\", \"Establish a financial assistance program to help students cover medical expenses and reduce the burden of choosing between healthcare and basic needs.\"],\n",
        "    [\"Health and Well-being Support\", \"I wish there were more options for free or low-cost mental health care. It's hard to afford something that's so essential to our well-being.\", 20, 1.24, 2, 1, \"F\", \"France\", \"Create a wellness fund to provide free or subsidized mental health care for students in need.\"],\n",
        "    [\"Health and Well-being Support\", \"Dealing with medical bills and insurance claims is a full-time job.\", 18, 0.19, 2, 1, \"F\", \"France\", \"Introduce workshops on navigating medical bills and insurance claims to help students manage healthcare-related paperwork efficiently.\"],\n",
        "    [\"International student experiences\", \"1. As an international student, I find it difficult to communicate with my peers because of the language barrier. It's frustrating because I want to be involved in group projects and extracurricular activities, but I struggle to express myself properly.\", 23, 4.0, 1, 1, \"M\", \"France\", \"Launch a language exchange program to help international students improve their communication skills and connect with peers.\"],\n",
        "    [\"International student experiences\", \"2. I feel like there is a cultural gap between me and my classmates. Sometimes I don't understand the references they make or the way they approach certain topics. It makes it hard to feel like I'm truly part of the community.\", 21, 1.38, 2, 1, \"M\", \"France\", \"Organize cultural competency training for domestic students to foster understanding and inclusivity for international students.\"],\n",
        "    [\"International student experiences\", \"3. I wish there were more opportunities for international students to connect with each other. It can be comforting to talk to someone who understands the unique challenges we face, and it would help us feel less isolated.\", 21, 1.48, 5, 1, \"F\", \"France\", \"Create international student support groups to provide a safe space for sharing experiences and building connections.\"],\n",
        "    [\"International student experiences\", \"4. I appreciate the efforts the university makes to provide resources for international students, but sometimes they don't go far enough. I wish there were more language support services and cultural events to help us feel more at home.\", 24, 1.74, 3, 1, \"F\", \"France\", \"Expand language support services, including tutoring and conversation practice, to help international students improve fluency.\"],\n",
        "    [\"International student experiences\", \"5. I struggle to participate in class discussions because I'm not confident in my language skills. It's frustrating because I feel like I have a lot to contribute, but I'm held back by my lack of fluency.\", 21, 2.82, 2, 1, \"F\", \"France\", \"Offer workshops on overcoming language barriers and building confidence in academic and social settings.\"],\n",
        "    [\"International student experiences\", \"6. I wish there were more opportunities for cultural exchange on campus. It would be great to learn more about the backgrounds and experiences of my fellow students, and to share my own culture with them.\", 18, 0.74, 4, 1, \"F\", \"France\", \"Host regular cultural events to celebrate diversity and encourage interaction between international and domestic students.\"],\n",
        "    [\"International student experiences\", \"7. It's hard to make friends as an international student because of the language and cultural barriers. I feel like I'm missing out on a lot of the social aspects of university life.\", 19, 1.91, 4, 1, \"M\", \"France\", \"Establish a buddy system where international students are paired with domestic students for social and academic support.\"],\n",
        "    [\"International student experiences\", \"8. I appreciate the efforts of my professors to make the material accessible to international students, but sometimes it still feels like there's a divide between us and the domestic students.\", 20, 0.19, 5, 1, \"M\", \"France\", \"Provide training for professors on the challenges faced by international students to ensure inclusive teaching practices.\"],\n",
        "    [\"International student experiences\", \"9. I wish there were more support systems in place for international students who are struggling to adjust. It can be overwhelming to navigate a new country and culture on your own.\", 18, 3.58, 1, 1, \"F\", \"France\", \"Develop a peer support network for international students to share tips and advice on adjusting to campus life.\"],\n",
        "    [\"International student experiences\", \"10. I've had some negative experiences with other students who seem impatient or dismissive of my language difficulties. It's disheartening and makes me feel like an outsider.\", 18, 2.95, 2, 1, \"M\", \"France\", \"Create a cultural awareness campaign to educate the campus community about the challenges faced by international students.\"],\n",
        "    [\"International student experiences\", \"11. I feel like I have to work twice as hard as other students just to keep up. It's exhausting and stressful, and sometimes I wonder if it's even worth it.\", 20, 1.01, 3, 1, \"F\", \"France\", \"Offer workshops on time management and study skills tailored to the needs of international students.\"],\n",
        "    [\"International student experiences\", \"12. I wish there were more opportunities for language practice outside of the classroom. It's hard to improve my skills when I don't have many chances to speak with native speakers.\", 27, 3.55, 4, 1, \"M\", \"France\", \"Create a peer-led language practice program to help international students improve their speaking and listening skills.\"],\n",
        "    [\"International student experiences\", \"13. Sometimes I feel like my professors don't fully understand the challenges I face as an international student. I wish there were more opportunities for them to hear our perspectives and concerns.\", 23, 1.2, 4, 1, \"F\", \"France\", \"Host regular town hall meetings for international students to voice their concerns and suggest improvements.\"],\n",
        "    [\"International student experiences\", \"14. I worry that my language difficulties will hold me back in my future career. It's frustrating to think that I might be judged more harshly than native speakers, even if I'm just as qualified.\", 19, 2.04, 1, 1, \"F\", \"France\", \"Create a career support program for international students, including resume building and interview preparation in multiple languages.\"],\n",
        "    [\"International student experiences\", \"15. I appreciate the diversity on campus, but sometimes it feels like there's a lack of understanding between different cultural groups. I wish there were more opportunities for us to come together and learn from each other.\", 16, 2.14, 1, 1, \"M\", \"France\", \"Develop a cultural exchange program where students can share their traditions, food, and customs with the campus community.\"],\n",
        "    [\"International student experiences\", \"16. I feel like my language difficulties sometimes make me seem less intelligent or capable than I really am. It's frustrating to feel like I'm not being judged fairly.\", 20, 3.47, 5, 1, \"F\", \"France\", \"Provide leadership training and opportunities specifically for international students to help them develop skills and contribute to campus life.\"],\n",
        "    [\"International student experiences\", \"17. I wish there were more opportunities for international students to get involved in leadership positions on campus. It would be a great way to develop our skills and contribute to the university community.\", 17, 1.59, 5, 1, \"M\", \"France\", \"Organize networking events tailored to international students to help them build professional connections.\"],\n",
        "    [\"International student experiences\", \"18. It can be hard to navigate the social norms of a new culture. I've had some embarrassing moments where I didn't realize I was being rude or disrespectful.\", 20, 1.82, 3, 1, \"M\", \"France\", \"Offer workshops on navigating cultural differences and social norms to help international students feel more comfortable.\"],\n",
        "    [\"International student experiences\", \"19. I worry that my language difficulties will make it hard for me to network and make professional connections. It's frustrating to feel like I'm at a disadvantage compared to native speakers.\", 16, 1.73, 2, 1, \"F\", \"France\", \"Organize career fairs specifically for international students to connect them with employers who value diverse perspectives.\"],\n",
        "    [\"International student experiences\", \"1. As an international student, I find it difficult to connect with my peers who speak a different language and have different cultural backgrounds than me. It's challenging to navigate social situations and form meaningful relationships.\", 19, 0.44, 2, 1, \"M\", \"France\", \"Introduce a buddy system where international students are paired with domestic students for social and academic support.\"],\n",
        "    [\"International student experiences\", \"2. I wish the university offered more resources and support for international students who are struggling to communicate and connect with others. It can be isolating and overwhelming to be in a foreign country without a strong support system.\", 18, 3.33, 3, 1, \"M\", \"France\", \"Expand counseling services to include support for international students adjusting to a new culture and academic environment.\"],\n",
        "    [\"International student experiences\", \"3. I feel like I'm missing out on a lot of social opportunities because I struggle to communicate with other students who don't speak my language. It's frustrating and discouraging.\", 26, 1.7, 2, 1, \"F\", \"France\", \"Host regular social events specifically for international students to help them build friendships and feel less isolated.\"]\n",
        "]\n",
        "\n",
        "\n",
        "# Define column names\n",
        "columns = [\"Genre\", \"Reports\", \"Age\", \"GPA\", \"Year\", \"Count\", \"Gender\", \"Nationality\", \"Resolution\"]\n",
        "\n",
        "# Create DataFrame\n",
        "df = pd.DataFrame(data, columns=columns)\n",
        "\n",
        "\n",
        "\n",
        "df=pd.DataFrame(data)\n",
        "\n",
        "df.to_csv(r\"C:\\Users\\pc\\Desktop\\student dataset\\subset_with resolution\\partition_12_part1_processed.csv\", index=False)\n",
        "\n",
        "files.download(r\"C:\\Users\\pc\\Desktop\\student dataset\\subset_with resolution\\partition_12_part1_processed.csv\")\n"
      ]
    },
    {
      "cell_type": "code",
      "execution_count": null,
      "metadata": {
        "colab": {
          "base_uri": "https://localhost:8080/",
          "height": 17
        },
        "id": "GAkV07d-T69k",
        "outputId": "68fb78bd-1f03-4175-b30a-06dda1b4546c"
      },
      "outputs": [
        {
          "data": {
            "application/javascript": "\n    async function download(id, filename, size) {\n      if (!google.colab.kernel.accessAllowed) {\n        return;\n      }\n      const div = document.createElement('div');\n      const label = document.createElement('label');\n      label.textContent = `Downloading \"${filename}\": `;\n      div.appendChild(label);\n      const progress = document.createElement('progress');\n      progress.max = size;\n      div.appendChild(progress);\n      document.body.appendChild(div);\n\n      const buffers = [];\n      let downloaded = 0;\n\n      const channel = await google.colab.kernel.comms.open(id);\n      // Send a message to notify the kernel that we're ready.\n      channel.send({})\n\n      for await (const message of channel.messages) {\n        // Send a message to notify the kernel that we're ready.\n        channel.send({})\n        if (message.buffers) {\n          for (const buffer of message.buffers) {\n            buffers.push(buffer);\n            downloaded += buffer.byteLength;\n            progress.value = downloaded;\n          }\n        }\n      }\n      const blob = new Blob(buffers, {type: 'application/binary'});\n      const a = document.createElement('a');\n      a.href = window.URL.createObjectURL(blob);\n      a.download = filename;\n      div.appendChild(a);\n      a.click();\n      div.remove();\n    }\n  ",
            "text/plain": [
              "<IPython.core.display.Javascript object>"
            ]
          },
          "metadata": {},
          "output_type": "display_data"
        },
        {
          "data": {
            "application/javascript": "download(\"download_aaf9481b-1831-4e28-a387-b0fc078db900\", \"C:\\\\Users\\\\pc\\\\Desktop\\\\student dataset\\\\subset_with resolution\\\\partition_12_part2_processed.csv\", 9395)",
            "text/plain": [
              "<IPython.core.display.Javascript object>"
            ]
          },
          "metadata": {},
          "output_type": "display_data"
        }
      ],
      "source": [
        "import pandas as pd\n",
        "from google.colab import files\n",
        "\n",
        "data = [\n",
        "    [\"International student experiences\", \"4. I appreciate the efforts the university has made to create a diverse and inclusive environment, but as an international student, I still feel like an outsider. It's hard to find common ground with people who have such different experiences and perspectives.\", 24, 0.47, 5, 1, \"F\", \"France\", \"Create a feedback system for international students to share their experiences and suggest improvements to campus services.\"],\n",
        "    [\"International student experiences\", \"5. I've been trying to improve my language skills and learn more about the culture of the country I'm studying in, but it's a slow process. Sometimes it feels like there's a language barrier that's impossible to overcome.\", 26, 3.16, 1, 1, \"M\", \"France\", \"Provide access to online language courses and resources to help international students improve their language skills at their own pace.\"],\n",
        "    [\"International student experiences\", \"6. I think it would be helpful if the university organized more events and activities that are specifically designed to bring international and domestic students together. That way, we could learn from each other and build stronger relationships.\", 23, 2.94, 4, 1, \"M\", \"France\", \"Organize study groups for international students to help them collaborate and succeed academically.\"],\n",
        "    [\"International student experiences\", \"7. I appreciate the efforts of my fellow students to include me in their social circles, but sometimes I feel like they're just being polite and don't really want to get to know me. It's hard to know how to approach these situations.\", 20, 0.69, 5, 1, \"M\", \"France\", \"Develop a mobile app with resources for international students, including language tools, event calendars, and support services.\"],\n",
        "    [\"International student experiences\", \"8. I wish the university offered more language classes and tutoring services for international students. It can be difficult to keep up with coursework when you're struggling to understand the language.\", 27, 0.46, 2, 1, \"M\", \"France\", \"Offer workshops on public speaking and presentation skills to help international students build confidence in academic and professional settings.\"],\n",
        "    [\"International student experiences\", \"9. I think it's important for the university to recognize the challenges that international students face and provide more support and resources to help us succeed academically and socially.\", 26, 2.06, 4, 1, \"M\", \"France\", \"Provide scholarships or financial aid specifically for international students to reduce financial stress.\"],\n",
        "    [\"International student experiences\", \"10. Sometimes I feel like my cultural background is a barrier to making friends and fitting in with the rest of the student body. It's hard to know how to bridge that gap and find common ground with people who have such different experiences than me.\", 20, 1.95, 3, 1, \"M\", \"France\", \"Create a cultural exchange program for sharing traditions and customs.\"],\n",
        "    [\"International student experiences\", \"11. I appreciate the efforts of my professors and classmates to help me feel included and supported, but there are still times when I feel like I'm on the outside looking in. It's a tough position to be in.\", 20, 0.36, 2, 1, \"F\", \"France\", \"Provide training for faculty on how to support international students in the classroom and beyond.\"],\n",
        "    [\"International student experiences\", \"12. I think it would be helpful if the university provided more opportunities for international students to get involved in campus organizations and clubs. That way, we could meet more people and feel more connected to the campus community.\", 27, 2.58, 3, 1, \"M\", \"France\", \"Organize networking events tailored to international students to help them build professional connections.\"],\n",
        "    [\"International student experiences\", \"13. I sometimes feel like I'm not taken seriously or my ideas aren't valued because of my accent or the way I express myself. It's discouraging and makes me feel like I don't belong.\", 18, 1.49, 4, 1, \"F\", \"France\", \"Offer workshops on overcoming language barriers and building confidence in academic and social settings.\"],\n",
        "    [\"International student experiences\", \"14. I appreciate the efforts of the university to create a welcoming environment for international students, but sometimes it feels like a lot of the burden is placed on us to adapt and assimilate. It would be nice to have more support and understanding from the rest of the campus community.\", 18, 2.37, 2, 1, \"F\", \"France\", \"Create a cultural awareness campaign to educate the campus community about the challenges faced by international students.\"],\n",
        "    [\"International student experiences\", \"15. I've been trying to connect with other international students who speak the same language as me, but it's been difficult to find people who share my interests and hobbies. It can be isolating.\", 25, 3.63, 3, 1, \"F\", \"France\", \"Host regular social events specifically for international students to help them build friendships and feel less isolated.\"],\n",
        "    [\"International student experiences\", \"16. I think it's important for the university to provide more cultural competency training for all students and faculty. That way, we can all learn how to better communicate and interact with people from different backgrounds.\", 25, 0.09, 3, 1, \"F\", \"France\", \"Provide training for faculty on how to support international students in the classroom and beyond.\"],\n",
        "    [\"International student experiences\", \"17. Sometimes I feel like my language and cultural differences are all people see when they look at me. I want to be recognized for my talents and abilities, not just my background.\", 27, 0.95, 4, 1, \"F\", \"France\", \"Create a career support program for international students, including resume building and interview preparation in multiple languages.\"],\n",
        "    [\"International student experiences\", \"18. I think it's important for the university to create more opportunities for international students\", 17, 0.11, 2, 1, \"M\", \"France\", \"Develop a mobile app with resources for international students, including language tools, event calendars, and support services.\"],\n",
        "    [\"International student experiences\", \"1. I feel isolated and lonely sometimes because I can't connect with other students due to the language barrier. It's hard to join conversations and make friends when you don't speak the same language.\", 24, 3.24, 1, 1, \"F\", \"France\", \"Launch a language exchange program to help international students improve their communication skills and connect with peers.\"],\n",
        "    [\"International student experiences\", \"2. I love the diversity on campus, but sometimes it's hard to communicate with international students because of the cultural differences. It can be frustrating trying to understand their perspectives and vice versa.\", 25, 3.46, 4, 1, \"F\", \"France\", \"Organize cultural competency training for domestic students to foster understanding and inclusivity for international students.\"],\n",
        "    [\"International student experiences\", \"3. I think it would be helpful if the university provided more opportunities for international and domestic students to interact and learn from each other. Maybe language classes or cultural events.\", 17, 2.68, 3, 1, \"F\", \"France\", \"Host regular cultural events to celebrate diversity and encourage interaction between international and domestic students.\"],\n",
        "    [\"International student experiences\", \"4. I feel like I'm missing out on a lot because I can't fully participate in class discussions and group projects. It's hard to contribute when you don't have a full understanding of the language.\", 16, 1.8, 3, 1, \"M\", \"France\", \"Offer workshops on overcoming language barriers and building confidence in academic and social settings.\"],\n",
        "    [\"International student experiences\", \"5. I appreciate the efforts that some professors make to accommodate international students, but I think there could be more support and resources available. Maybe a tutoring program or language exchange program.\", 24, 2.48, 3, 1, \"M\", \"France\", \"Expand language support services, including tutoring and conversation practice, to help international students improve fluency.\"],\n",
        "    [\"International student experiences\", \"6. It's frustrating when professors and classmates assume that all students are familiar with certain cultural references or idioms. It would be nice if there was more education and awareness around cultural differences.\", 23, 1.02, 4, 1, \"F\", \"France\", \"Provide training for professors on the challenges faced by international students to ensure inclusive teaching practices.\"],\n",
        "    [\"International student experiences\", \"7. I've noticed that some international students are hesitant to speak up in class or ask questions because they're afraid of being misunderstood or judged. It would be great if the university provided more opportunities for them to practice their language skills in a safe and supportive environment.\", 22, 1.3, 2, 1, \"F\", \"France\", \"Create a peer-led language practice program to help international students improve their speaking and listening skills.\"],\n",
        "    [\"International student experiences\", \"8. I think it would be helpful if the university provided more resources for international students who are struggling with language or cultural barriers. Maybe a mentorship program or support group.\", 17, 0.3, 3, 1, \"M\", \"France\", \"Establish a mentorship program pairing international students with domestic students for academic and social support.\"],\n",
        "    [\"International student experiences\", \"9. As a domestic student, I sometimes feel guilty that I don't know more about other cultures and languages. I wish there were more opportunities for me to learn and engage with international students.\", 25, 3.94, 5, 1, \"M\", \"France\", \"Organize cultural exchange programs where domestic and international students can learn from each other's cultures and experiences.\"]\n",
        "]\n",
        "\n",
        "import pandas as pd\n",
        "\n",
        "columns = [\"Genre\", \"Reports\", \"Age\", \"GPA\", \"Year\", \"Count\", \"Gender\", \"Nationality\", \"Resolution\"]\n",
        "\n",
        "df = pd.DataFrame(data, columns=columns)\n",
        "\n",
        "\n",
        "df=pd.DataFrame(data)\n",
        "\n",
        "df.to_csv(r\"C:\\Users\\pc\\Desktop\\student dataset\\subset_with resolution\\partition_12_part2_processed.csv\", index=False)\n",
        "\n",
        "files.download(r\"C:\\Users\\pc\\Desktop\\student dataset\\subset_with resolution\\partition_12_part2_processed.csv\")\n"
      ]
    },
    {
      "cell_type": "markdown",
      "metadata": {
        "id": "aao36YTzUImC"
      },
      "source": [
        "dataset_13"
      ]
    },
    {
      "cell_type": "code",
      "execution_count": null,
      "metadata": {
        "colab": {
          "base_uri": "https://localhost:8080/",
          "height": 17
        },
        "id": "NU4wn83zUIKU",
        "outputId": "94d50317-3598-4cbd-9c2e-fbb52d0bf742"
      },
      "outputs": [
        {
          "data": {
            "application/javascript": "\n    async function download(id, filename, size) {\n      if (!google.colab.kernel.accessAllowed) {\n        return;\n      }\n      const div = document.createElement('div');\n      const label = document.createElement('label');\n      label.textContent = `Downloading \"${filename}\": `;\n      div.appendChild(label);\n      const progress = document.createElement('progress');\n      progress.max = size;\n      div.appendChild(progress);\n      document.body.appendChild(div);\n\n      const buffers = [];\n      let downloaded = 0;\n\n      const channel = await google.colab.kernel.comms.open(id);\n      // Send a message to notify the kernel that we're ready.\n      channel.send({})\n\n      for await (const message of channel.messages) {\n        // Send a message to notify the kernel that we're ready.\n        channel.send({})\n        if (message.buffers) {\n          for (const buffer of message.buffers) {\n            buffers.push(buffer);\n            downloaded += buffer.byteLength;\n            progress.value = downloaded;\n          }\n        }\n      }\n      const blob = new Blob(buffers, {type: 'application/binary'});\n      const a = document.createElement('a');\n      a.href = window.URL.createObjectURL(blob);\n      a.download = filename;\n      div.appendChild(a);\n      a.click();\n      div.remove();\n    }\n  ",
            "text/plain": [
              "<IPython.core.display.Javascript object>"
            ]
          },
          "metadata": {},
          "output_type": "display_data"
        },
        {
          "data": {
            "application/javascript": "download(\"download_b77e8b4d-306d-4156-ade0-571af6870997\", \"C:\\\\Users\\\\pc\\\\Desktop\\\\student dataset\\\\subset_with resolution\\\\partition_13_part1_processed.csv\", 7774)",
            "text/plain": [
              "<IPython.core.display.Javascript object>"
            ]
          },
          "metadata": {},
          "output_type": "display_data"
        }
      ],
      "source": [
        "\n",
        "import pandas as pd\n",
        "\n",
        "data = [\n",
        "    [\"International student experiences\", \"I've had some great conversations and learned a lot from international students, but it can still be frustrating when we can't fully communicate. I think the university should invest more in language and culture education for all students.\", 26, 2.56, 3, 1, \"M\", \"France\", \"Introduce mandatory language and cultural competency training for all students to improve communication and understanding between international and domestic students.\"],\n",
        "    [\"International student experiences\", \"I feel like I'm missing out on some of the benefits of a diverse student body because I can't fully connect with international students. It would be great if there were more opportunities for us to interact and learn from each other.\", 18, 3.39, 2, 1, \"M\", \"France\", \"Organize regular cultural exchange events and workshops to foster interaction and learning between international and domestic students.\"],\n",
        "    [\"International student experiences\", \"I think it's important for the university to prioritize language and cultural diversity in its recruitment efforts. We need more international students and domestic students from diverse backgrounds to create a truly inclusive community.\", 19, 0.85, 5, 1, \"F\", \"France\", \"Develop a recruitment strategy that emphasizes diversity and inclusion, targeting both international and domestic students from varied cultural and linguistic backgrounds.\"],\n",
        "    [\"International student experiences\", \"It can be difficult to navigate social situations with international students because there are often cultural norms and expectations that I'm not familiar with. I wish there were more resources available to help bridge these gaps.\", 19, 3.19, 4, 1, \"F\", \"France\", \"Create a cultural sensitivity training program for all students to help them navigate and understand different cultural norms and expectations.\"],\n",
        "    [\"International student experiences\", \"I think it's important for the university to create a welcoming and inclusive environment for all students, regardless of their language or cultural background. We should celebrate our differences and learn from each other.\", 22, 3.14, 3, 1, \"M\", \"France\", \"Launch a campus-wide inclusivity campaign that celebrates cultural diversity and encourages students to share and learn from each other's backgrounds.\"],\n",
        "    [\"International student experiences\", \"Sometimes I feel like there's a divide between international and domestic students, and it's hard to bridge that gap. I think the university should do more to encourage and facilitate cross-cultural interactions.\", 16, 1.58, 1, 1, \"F\", \"France\", \"Establish a buddy program that pairs international and domestic students to foster cross-cultural friendships and understanding.\"],\n",
        "    [\"International student experiences\", \"I've noticed that some international students struggle with homesickness and feeling isolated. It would be great if the university provided more resources and support for these students.\", 26, 1.23, 2, 1, \"F\", \"France\", \"Expand counseling services to include specialized support for international students dealing with homesickness and isolation.\"],\n",
        "    [\"International student experiences\", \"I think it would be helpful if the university offered more language courses for students who want to learn a new language. This would not only help international students, but also domestic students who are interested in language and culture.\", 25, 2.15, 4, 1, \"F\", \"France\", \"Introduce a variety of language courses and cultural workshops to encourage language learning and cultural exchange among all students.\"],\n",
        "    [\"International student experiences\", \"I appreciate the diversity on campus, but sometimes it can be hard to navigate the different cultural norms and expectations. It would be great if the university provided more education and awareness around these issues.\", 18, 1.57, 1, 1, \"M\", \"France\", \"Develop a cultural awareness program that educates students on different cultural norms and expectations to promote understanding and inclusivity.\"],\n",
        "    [\"International student experiences\", \"I think it's important for the university to provide opportunities for international students to share their cultures and traditions.\", 22, 1.01, 1, 1, \"M\", \"France\", \"Organize cultural festivals and events where international students can showcase their traditions and share their cultures with the campus community.\"],\n",
        "    [\"International student experiences\", \"I find it difficult to communicate with my peers who are from different countries. Sometimes, I struggle to understand their accents or the way they express themselves.\", 17, 3.61, 4, 1, \"F\", \"France\", \"Offer accent reduction workshops and communication skills training to help students better understand and interact with peers from different linguistic backgrounds.\"],\n",
        "    [\"International student experiences\", \"As an international student, I often feel left out in group activities as most students prefer to converse in their native language.\", 22, 0.55, 4, 1, \"F\", \"France\", \"Encourage the use of a common language in group activities and provide language support to help international students feel included.\"],\n",
        "    [\"International student experiences\", \"It can be frustrating to constantly have to explain my cultural background to others, especially when they don't seem interested in understanding.\", 17, 0.62, 2, 1, \"F\", \"France\", \"Promote cultural awareness campaigns to encourage students to learn about and respect each other's cultural backgrounds.\"],\n",
        "    [\"International student experiences\", \"I wish there were more opportunities to learn about different cultures and interact with students from diverse backgrounds.\", 21, 1.78, 3, 1, \"F\", \"France\", \"Organize cultural exchange programs and events to facilitate interaction and learning among students from diverse backgrounds.\"],\n",
        "    [\"International student experiences\", \"The language barrier can make it hard to participate in class discussions, which can be isolating.\", 21, 2.28, 4, 1, \"F\", \"France\", \"Provide language support services, such as tutoring and conversation practice, to help international students improve their language skills and participate more actively in class discussions.\"],\n",
        "    [\"International student experiences\", \"I often feel like an outsider in social situations, as I struggle to connect with others due to cultural differences.\", 20, 2.16, 1, 1, \"F\", \"France\", \"Create social integration programs that help international students connect with peers and build meaningful relationships.\"],\n",
        "    [\"International student experiences\", \"It would be great if the university could organize more events that celebrate cultural diversity and promote inclusivity.\", 16, 2.49, 2, 1, \"F\", \"France\", \"Host regular cultural festivals and events that celebrate diversity and promote inclusivity on campus.\"],\n",
        "    [\"International student experiences\", \"As an international student, I sometimes feel like I'm being judged based on stereotypes and misconceptions about my home country.\", 23, 1.8, 3, 1, \"M\", \"France\", \"Implement anti-stereotyping campaigns and workshops to educate students about the dangers of stereotypes and promote a more inclusive environment.\"],\n",
        "    [\"International student experiences\", \"I find it challenging to make friends with local students, as we often have different interests and experiences.\", 26, 0.01, 2, 1, \"F\", \"France\", \"Organize interest-based clubs and activities that bring together students with similar interests, regardless of their cultural backgrounds.\"],\n",
        "    [\"International student experiences\", \"There's a lack of awareness and understanding about the challenges faced by international students, which can make it hard to feel supported.\", 18, 3.62, 4, 1, \"F\", \"France\", \"Launch awareness campaigns to educate the campus community about the challenges faced by international students and promote a more supportive environment.\"],\n",
        "    [\"International student experiences\", \"I wish there were more language support programs available to help me improve my English skills.\", 25, 1.77, 2, 1, \"M\", \"Mexico\", \"Expand language support services, including tutoring and conversation practice, to help international students improve their language skills.\"]\n",
        "]\n",
        "\n",
        "\n",
        "\n",
        "columns = [\"Genre\", \"Reports\", \"Age\", \"GPA\", \"Year\", \"Count\", \"Gender\", \"Nationality\", \"Resolution\"]\n",
        "\n",
        "df = pd.DataFrame(data, columns=columns)\n",
        "\n",
        "df=pd.DataFrame(data)\n",
        "\n",
        "df.to_csv(r\"C:\\Users\\pc\\Desktop\\student dataset\\subset_with resolution\\partition_13_part1_processed.csv\", index=False)\n",
        "\n",
        "files.download(r\"C:\\Users\\pc\\Desktop\\student dataset\\subset_with resolution\\partition_13_part1_processed.csv\")\n"
      ]
    },
    {
      "cell_type": "code",
      "execution_count": null,
      "metadata": {
        "colab": {
          "base_uri": "https://localhost:8080/",
          "height": 17
        },
        "id": "P8udvpr9W6BZ",
        "outputId": "7033d7c6-5070-46d6-e10b-fd016f0a81e3"
      },
      "outputs": [
        {
          "data": {
            "application/javascript": "\n    async function download(id, filename, size) {\n      if (!google.colab.kernel.accessAllowed) {\n        return;\n      }\n      const div = document.createElement('div');\n      const label = document.createElement('label');\n      label.textContent = `Downloading \"${filename}\": `;\n      div.appendChild(label);\n      const progress = document.createElement('progress');\n      progress.max = size;\n      div.appendChild(progress);\n      document.body.appendChild(div);\n\n      const buffers = [];\n      let downloaded = 0;\n\n      const channel = await google.colab.kernel.comms.open(id);\n      // Send a message to notify the kernel that we're ready.\n      channel.send({})\n\n      for await (const message of channel.messages) {\n        // Send a message to notify the kernel that we're ready.\n        channel.send({})\n        if (message.buffers) {\n          for (const buffer of message.buffers) {\n            buffers.push(buffer);\n            downloaded += buffer.byteLength;\n            progress.value = downloaded;\n          }\n        }\n      }\n      const blob = new Blob(buffers, {type: 'application/binary'});\n      const a = document.createElement('a');\n      a.href = window.URL.createObjectURL(blob);\n      a.download = filename;\n      div.appendChild(a);\n      a.click();\n      div.remove();\n    }\n  ",
            "text/plain": [
              "<IPython.core.display.Javascript object>"
            ]
          },
          "metadata": {},
          "output_type": "display_data"
        },
        {
          "data": {
            "application/javascript": "download(\"download_e6c33bfc-e013-43fd-abdf-b78098258288\", \"C:\\\\Users\\\\pc\\\\Desktop\\\\student dataset\\\\subset_with resolution\\\\partition_13_part2_processed.csv\", 8751)",
            "text/plain": [
              "<IPython.core.display.Javascript object>"
            ]
          },
          "metadata": {},
          "output_type": "display_data"
        }
      ],
      "source": [
        "\n",
        "data = [\n",
        "    [\"International student experiences\", \"It can be tough to adapt to a new culture and environment, especially when there are cultural differences that I'm not used to.\", 21, 1.68, 1, 1, \"F\", \"Mexico\", \"Provide cultural orientation programs to help international students adapt to the new culture and environment.\"],\n",
        "    [\"International student experiences\", \"I feel like I have to constantly explain myself and my culture to others, which can be exhausting.\", 20, 0.65, 2, 1, \"F\", \"Mexico\", \"Promote cultural awareness campaigns to encourage students to learn about and respect each other's cultural backgrounds.\"],\n",
        "    [\"International student experiences\", \"It's hard to make connections with people when you don't share the same cultural references and experiences.\", 27, 0.03, 5, 1, \"F\", \"Mexico\", \"Organize cultural exchange programs and events to facilitate interaction and learning among students from diverse backgrounds.\"],\n",
        "    [\"International student experiences\", \"Sometimes, I feel like my accent is a barrier to effective communication with my peers and professors.\", 26, 3.33, 3, 1, \"F\", \"Mexico\", \"Offer accent reduction workshops and communication skills training to help students improve their communication skills.\"],\n",
        "    [\"International student experiences\", \"I wish there were more opportunities for international and local students to collaborate and work together on projects.\", 19, 2.57, 5, 1, \"F\", \"Mexico\", \"Create collaborative projects and group activities that encourage international and domestic students to work together.\"],\n",
        "    [\"International student experiences\", \"There's a lack of cultural sensitivity and awareness on campus, which can lead to misunderstandings and conflicts.\", 16, 2.99, 1, 1, \"F\", \"Mexico\", \"Develop a cultural sensitivity training program for all students to promote understanding and reduce conflicts.\"],\n",
        "    [\"International student experiences\", \"It's frustrating when people make assumptions about me based on my race or ethnicity, without taking the time to get to know me as an individual.\", 18, 3.38, 2, 1, \"F\", \"Mexico\", \"Implement anti-stereotyping campaigns and workshops to educate students about the dangers of stereotypes and promote a more inclusive environment.\"],\n",
        "    [\"International student experiences\", \"As an international student, I sometimes feel like I'm not taken seriously in academic settings because of my accent or cultural background.\", 24, 3.47, 1, 1, \"M\", \"Mexico\", \"Provide training for faculty and staff on how to support international students and ensure they are treated fairly in academic settings.\"],\n",
        "    [\"International student experiences\", \"I would love to see more cultural exchange programs offered by the university to help students learn from each other.\", 22, 1.13, 2, 1, \"M\", \"Mexico\", \"Organize cultural exchange programs and events to facilitate interaction and learning among students from diverse backgrounds.\"],\n",
        "    [\"International student experiences\", \"It can be difficult to find common ground with people from vastly different cultures and backgrounds.\", 27, 0.67, 1, 1, \"M\", \"Mexico\", \"Create interest-based clubs and activities that bring together students with similar interests, regardless of their cultural backgrounds.\"],\n",
        "    [\"International student experiences\", \"I wish there were more resources available to help international students navigate the challenges of studying abroad.\", 20, 3.12, 4, 1, \"M\", \"Mexico\", \"Expand support services for international students, including orientation programs, counseling, and academic advising.\"],\n",
        "    [\"International student experiences\", \"I sometimes feel like I have to compromise my cultural identity in order to fit in with my peers.\", 22, 2.78, 4, 1, \"M\", \"Mexico\", \"Promote cultural awareness campaigns to encourage students to embrace and celebrate their cultural identities.\"],\n",
        "    [\"International student experiences\", \"It can be tough to balance the demands of academic work with the challenges of adapting to a new culture.\", 21, 0.8, 3, 1, \"F\", \"Mexico\", \"Provide time management and stress reduction workshops tailored to the needs of international students.\"],\n",
        "    [\"International student experiences\", \"I wish there were more opportunities to learn about the local culture and customs, as well as share my own cultural traditions with others.\", 19, 1.8, 2, 1, \"F\", \"Mexico\", \"Organize cultural festivals and events where international students can showcase their traditions and share their cultures with the campus community.\"],\n",
        "    [\"International student experiences\", \"Sometimes, I feel like I'm not able to fully express myself or my opinions in discussions because of language barriers.\", 25, 2.92, 5, 1, \"M\", \"Mexico\", \"Provide language support services, such as tutoring and conversation practice, to help international students improve their language skills and participate more actively in discussions.\"],\n",
        "    [\"International student experiences\", \"I would appreciate it if the university could offer more language support services to help me improve my communication skills.\", 23, 1.25, 1, 1, \"M\", \"Mexico\", \"Expand language support services, including tutoring and conversation practice, to help international students improve their communication skills.\"],\n",
        "    [\"International student experiences\", \"It can be hard to navigate the social scene on campus when you don't share the same interests or cultural background as most students.\", 26, 1.88, 1, 1, \"M\", \"Mexico\", \"Create interest-based clubs and activities that bring together students with similar interests, regardless of their cultural backgrounds.\"],\n",
        "    [\"International student experiences\", \"I find it difficult to build relationships with professors and academic advisors because of the language and cultural barriers.\", 18, 1.44, 1, 1, \"M\", \"Mexico\", \"Provide training for faculty and staff on how to support international students and build stronger relationships with them.\"],\n",
        "    [\"International student experiences\", \"I wish there were more opportunities for international students to share their perspectives and experiences with the wider campus community.\", 18, 2.34, 3, 1, \"M\", \"Mexico\", \"Organize forums and events where international students can share their perspectives and experiences with the campus community.\"],\n",
        "    [\"Online learning\", \"The online learning experience has been difficult due to poor internet connectivity and frequent technical difficulties.\", 27, 2.25, 3, 1, \"F\", \"Mexico\", \"Provide technical support and resources to help students overcome internet connectivity and technical issues during online learning.\"],\n",
        "    [\"Online learning\", \"Limited access to online resources has made it difficult to complete assignments and stay on track with coursework.\", 17, 3.28, 4, 1, \"M\", \"Mexico\", \"Expand access to online resources and provide training on how to effectively use them for coursework.\"],\n",
        "    [\"Online learning\", \"Time zone differences for online classes have been a challenge for international students who have to adjust their schedules to accommodate the class times.\", 26, 3.17, 4, 1, \"F\", \"Mexico\", \"Offer flexible class schedules and recorded lectures to accommodate students in different time zones.\"],\n",
        "    [\"Online learning\", \"Professors have limited availability during online classes, which has made it difficult to get the support needed to succeed in the course.\", 19, 2.73, 2, 1, \"F\", \"Mexico\", \"Increase professor availability during online classes and provide additional support through teaching assistants.\"],\n",
        "    [\"Online learning\", \"Online students have limited access to internships and job opportunities, which puts them at a disadvantage compared to on-campus students.\", 17, 2.23, 1, 1, \"M\", \"Mexico\", \"Expand virtual internship and job opportunities for online students to ensure they have equal access to career development resources.\"],\n",
        "    [\"Online learning\", \"The lack of face-to-face interaction in online classes has made it difficult to engage with peers and build relationships with professors.\", 26, 1.27, 3, 1, \"F\", \"Mexico\", \"Introduce virtual networking events and discussion forums to help online students engage with peers and professors.\"],\n",
        "    [\"Online learning\", \"Technical difficulties with online classes have caused some students to fall behind on coursework and struggle to catch up.\", 22, 0.88, 2, 1, \"M\", \"Mexico\", \"Provide technical support and resources to help students overcome technical difficulties and stay on track with coursework.\"],\n",
        "    [\"Online learning\", \"Limited access to online resources has made it difficult to find and access the materials needed to complete assignments and study for exams.\", 25, 2.96, 5, 1, \"M\", \"Mexico\", \"Expand access to online resources and provide training on how to effectively use them for coursework.\"],\n",
        "    [\"Online learning\", \"Time zone differences for online classes have made it challenging to balance coursework with other commitments and responsibilities.\", 19, 1.65, 4, 1, \"F\", \"Mexico\", \"Offer flexible class schedules and recorded lectures to accommodate students in different time zones.\"],\n",
        "    [\"Online learning\", \"Limited availability of professors during online classes has made it difficult to get timely feedback and support on coursework.\", 24, 2.69, 1, 1, \"M\", \"Mexico\", \"Increase professor availability during online classes and provide additional support through teaching assistants.\"]\n",
        "]\n",
        "\n",
        "columns = [\"Genre\", \"Reports\", \"Age\", \"GPA\", \"Year\", \"Count\", \"Gender\", \"Nationality\", \"Resolution\"]\n",
        "\n",
        "data = pd.DataFrame(data, columns=columns)\n",
        "\n",
        "\n",
        "df=pd.DataFrame(data)\n",
        "\n",
        "df.to_csv(r\"C:\\Users\\pc\\Desktop\\student dataset\\subset_with resolution\\partition_13_part2_processed.csv\", index=False)\n",
        "\n",
        "files.download(r\"C:\\Users\\pc\\Desktop\\student dataset\\subset_with resolution\\partition_13_part2_processed.csv\")\n",
        "\n"
      ]
    },
    {
      "cell_type": "markdown",
      "metadata": {
        "id": "ybNZryXvXOXK"
      },
      "source": [
        "dataset_14"
      ]
    },
    {
      "cell_type": "code",
      "execution_count": null,
      "metadata": {
        "colab": {
          "base_uri": "https://localhost:8080/",
          "height": 17
        },
        "id": "NOCpigReXS_7",
        "outputId": "a715a281-c015-4c30-d3c1-61ea22b31c2e"
      },
      "outputs": [
        {
          "data": {
            "application/javascript": "\n    async function download(id, filename, size) {\n      if (!google.colab.kernel.accessAllowed) {\n        return;\n      }\n      const div = document.createElement('div');\n      const label = document.createElement('label');\n      label.textContent = `Downloading \"${filename}\": `;\n      div.appendChild(label);\n      const progress = document.createElement('progress');\n      progress.max = size;\n      div.appendChild(progress);\n      document.body.appendChild(div);\n\n      const buffers = [];\n      let downloaded = 0;\n\n      const channel = await google.colab.kernel.comms.open(id);\n      // Send a message to notify the kernel that we're ready.\n      channel.send({})\n\n      for await (const message of channel.messages) {\n        // Send a message to notify the kernel that we're ready.\n        channel.send({})\n        if (message.buffers) {\n          for (const buffer of message.buffers) {\n            buffers.push(buffer);\n            downloaded += buffer.byteLength;\n            progress.value = downloaded;\n          }\n        }\n      }\n      const blob = new Blob(buffers, {type: 'application/binary'});\n      const a = document.createElement('a');\n      a.href = window.URL.createObjectURL(blob);\n      a.download = filename;\n      div.appendChild(a);\n      a.click();\n      div.remove();\n    }\n  ",
            "text/plain": [
              "<IPython.core.display.Javascript object>"
            ]
          },
          "metadata": {},
          "output_type": "display_data"
        },
        {
          "data": {
            "application/javascript": "download(\"download_e47d5c84-4ee9-46f0-b3f8-1cb942525d19\", \"C:\\\\Users\\\\pc\\\\Desktop\\\\student dataset\\\\subset_with resolution\\\\partition_14_part1_processed.csv\", 6267)",
            "text/plain": [
              "<IPython.core.display.Javascript object>"
            ]
          },
          "metadata": {},
          "output_type": "display_data"
        }
      ],
      "source": [
        "import pandas as pd\n",
        "\n",
        "data = [\n",
        "    [\"Online learning\", \"Online students often miss out on networking opportunities and face-to-face interactions with professors and peers.\", 23, 0.51, 5, 1, \"M\", \"Mexico\", \"Organize virtual networking events and discussion forums to help online students connect with professors and peers.\"],\n",
        "    [\"Online learning\", \"The lack of access to on-campus resources, such as the library and student support services, has put online students at a disadvantage.\", 27, 2.34, 2, 1, \"F\", \"Mexico\", \"Provide online students with access to digital library resources and virtual student support services.\"],\n",
        "    [\"Online learning\", \"Technical difficulties with online classes have caused some students to become frustrated and lose motivation.\", 19, 3.04, 5, 1, \"F\", \"Mexico\", \"Offer technical support and troubleshooting services to help students resolve technical issues and stay motivated.\"],\n",
        "    [\"Online learning\", \"Limited access to online resources has made it difficult to fully engage with course material and succeed in the class.\", 16, 1.0, 1, 1, \"F\", \"Mexico\", \"Expand access to online resources and provide training on how to effectively use them for coursework.\"],\n",
        "    [\"Online learning\", \"Time zone differences for online classes have made it difficult to attend live lectures and participate in group activities.\", 25, 2.16, 5, 1, \"M\", \"Mexico\", \"Offer flexible class schedules and recorded lectures to accommodate students in different time zones.\"],\n",
        "    [\"Online learning\", \"Limited availability of professors during online classes has made it difficult to get personalized attention and support.\", 26, 0.9, 1, 1, \"F\", \"Mexico\", \"Increase professor availability during online classes and provide additional support through teaching assistants.\"],\n",
        "    [\"Online learning\", \"Online students often feel isolated and disconnected from the campus community.\", 22, 3.32, 5, 1, \"F\", \"Mexico\", \"Create virtual social events and online communities to help online students feel more connected to the campus community.\"],\n",
        "    [\"Online learning\", \"Technical difficulties with online classes have caused some students to question the effectiveness of online learning.\", 17, 0.95, 1, 1, \"M\", \"Mexico\", \"Provide technical support and resources to help students overcome technical difficulties and improve their online learning experience.\"],\n",
        "    [\"Online learning\", \"Limited access to online resources has made it difficult to stay organized and keep track of assignments and deadlines.\", 22, 1.42, 3, 1, \"M\", \"Mexico\", \"Introduce digital tools and apps to help students stay organized and manage their assignments and deadlines effectively.\"],\n",
        "    [\"Online learning\", \"Time zone differences for online classes have made it difficult to balance coursework with work and other responsibilities.\", 19, 0.39, 4, 1, \"M\", \"Mexico\", \"Offer flexible class schedules and recorded lectures to accommodate students in different time zones.\"],\n",
        "    [\"Online learning\", \"Limited availability of professors during online classes has made it difficult to get the guidance needed to succeed in the course.\", 19, 0.36, 2, 1, \"M\", \"Mexico\", \"Increase professor availability during online classes and provide additional support through teaching assistants.\"],\n",
        "    [\"Online learning\", \"Online students often struggle to stay motivated and engaged in their coursework without the support of in-person interactions.\", 25, 2.23, 5, 1, \"F\", \"Mexico\", \"Introduce virtual study groups and peer support networks to help students stay motivated and engaged.\"],\n",
        "    [\"Online learning\", \"Technical difficulties with online classes have caused some students to fall behind and struggle to catch up.\", 17, 3.14, 1, 1, \"M\", \"Mexico\", \"Provide technical support and resources to help students overcome technical difficulties and stay on track with coursework.\"],\n",
        "    [\"Online learning\", \"Limited access to online resources has made it difficult to fully participate in class discussions and activities.\", 16, 2.09, 1, 1, \"M\", \"Mexico\", \"Expand access to online resources and provide training on how to effectively use them for coursework.\"],\n",
        "    [\"Online learning\", \"Time zone differences for online classes have made it difficult to attend office hours and get individualized attention from professors.\", 26, 2.23, 5, 1, \"M\", \"Mexico\", \"Offer flexible office hours and one-on-one virtual meetings to accommodate students in different time zones.\"],\n",
        "    [\"Online learning\", \"Limited availability of professors during online classes has made it difficult to get timely feedback on assignments and exams.\", 22, 3.0, 2, 1, \"F\", \"Mexico\", \"Increase professor availability during online classes and provide additional support through teaching assistants.\"],\n",
        "    [\"Online learning\", \"Online students often feel like they are missing out on the full college experience by not being on campus.\", 21, 0.91, 5, 1, \"F\", \"Mexico\", \"Create virtual campus tours and online events to help online students feel more connected to the campus community.\"],\n",
        "    [\"Online learning\", \"Technical difficulties with online classes have caused some students to become discouraged and lose motivation.\", 22, 0.69, 5, 1, \"M\", \"Mexico\", \"Provide technical support and resources to help students overcome technical difficulties and improve their online learning experience.\"],\n",
        "    [\"Online learning\", \"Limited access to online resources has made it difficult to access additional support and resources for struggling students.\", 25, 2.69, 1, 1, \"M\", \"Mexico\", \"Expand access to online resources and provide additional support services for struggling students.\"],\n",
        "    [\"Online learning\", \"Time zone differences for online classes have made it difficult to participate in group projects and work collaboratively with peers.\", 23, 2.95, 3, 1, \"F\", \"Mexico\", \"Offer flexible group project schedules and virtual collaboration tools to accommodate students in different time zones.\"],\n",
        "    [\"Online learning\", \"Online classes are not the same as in-person classes. I find it hard to stay engaged and motivated with online learning.\", 17, 0.1, 3, 1, \"F\", \"Mexico\", \"Introduce interactive and engaging online learning tools to help students stay motivated and engaged.\"],\n",
        "    [\"Online learning\", \"Technical issues with the online platform make it difficult to participate in class and complete assignments.\", 26, 0.55, 2, 1, \"M\", \"Mexico\", \"Provide technical support and resources to help students overcome technical difficulties and participate effectively in online classes.\"],\n",
        "    [\"Online learning\", \"The lack of in-person interaction and support from professors has been challenging in my online courses.\", 23, 2.23, 1, 1, \"M\", \"Mexico\", \"Increase professor availability during online classes and provide additional support through teaching assistants.\"]\n",
        "]\n",
        "\n",
        "columns = [\"Genre\", \"Reports\", \"Age\", \"GPA\", \"Year\", \"Count\", \"Gender\", \"Nationality\", \"Resolution\"]\n",
        "\n",
        "data = pd.DataFrame(data, columns=columns)\n",
        "\n",
        "\n",
        "df=pd.DataFrame(data)\n",
        "\n",
        "df.to_csv(r\"C:\\Users\\pc\\Desktop\\student dataset\\subset_with resolution\\partition_14_part1_processed.csv\", index=False)\n",
        "\n",
        "files.download(r\"C:\\Users\\pc\\Desktop\\student dataset\\subset_with resolution\\partition_14_part1_processed.csv\")\n",
        "\n"
      ]
    },
    {
      "cell_type": "code",
      "execution_count": null,
      "metadata": {
        "colab": {
          "base_uri": "https://localhost:8080/",
          "height": 17
        },
        "id": "T-tKRMqvYcCb",
        "outputId": "a021f30f-1d12-49f3-f729-86b445969ab0"
      },
      "outputs": [
        {
          "data": {
            "application/javascript": "\n    async function download(id, filename, size) {\n      if (!google.colab.kernel.accessAllowed) {\n        return;\n      }\n      const div = document.createElement('div');\n      const label = document.createElement('label');\n      label.textContent = `Downloading \"${filename}\": `;\n      div.appendChild(label);\n      const progress = document.createElement('progress');\n      progress.max = size;\n      div.appendChild(progress);\n      document.body.appendChild(div);\n\n      const buffers = [];\n      let downloaded = 0;\n\n      const channel = await google.colab.kernel.comms.open(id);\n      // Send a message to notify the kernel that we're ready.\n      channel.send({})\n\n      for await (const message of channel.messages) {\n        // Send a message to notify the kernel that we're ready.\n        channel.send({})\n        if (message.buffers) {\n          for (const buffer of message.buffers) {\n            buffers.push(buffer);\n            downloaded += buffer.byteLength;\n            progress.value = downloaded;\n          }\n        }\n      }\n      const blob = new Blob(buffers, {type: 'application/binary'});\n      const a = document.createElement('a');\n      a.href = window.URL.createObjectURL(blob);\n      a.download = filename;\n      div.appendChild(a);\n      a.click();\n      div.remove();\n    }\n  ",
            "text/plain": [
              "<IPython.core.display.Javascript object>"
            ]
          },
          "metadata": {},
          "output_type": "display_data"
        },
        {
          "data": {
            "application/javascript": "download(\"download_75444957-6bba-42e2-afd4-b5a619f4bf39\", \"C:\\\\Users\\\\pc\\\\Desktop\\\\student dataset\\\\subset_with resolution\\\\partition_14_part2_processed.csv\", 7060)",
            "text/plain": [
              "<IPython.core.display.Javascript object>"
            ]
          },
          "metadata": {},
          "output_type": "display_data"
        }
      ],
      "source": [
        "import pandas as pd\n",
        "\n",
        "data = [\n",
        "    [\"Online learning\", \"Online classes require a lot of self-discipline and time management skills that not all students have developed yet.\", 26, 2.98, 1, 1, \"F\", \"Mexico\", \"Offer workshops on time management and self-discipline to help students succeed in online classes.\"],\n",
        "    [\"Online learning\", \"It is difficult to build relationships with classmates and professors in an online setting.\", 16, 3.95, 2, 1, \"M\", \"Mexico\", \"Create virtual networking events and discussion forums to help students build relationships with classmates and professors.\"],\n",
        "    [\"Online learning\", \"The quality of education in online classes is not the same as in-person classes, and it can be frustrating to pay full tuition for a lesser experience.\", 20, 3.5, 5, 1, \"F\", \"Mexico\", \"Improve the quality of online classes by incorporating interactive and engaging teaching methods.\"],\n",
        "    [\"Online learning\", \"The lack of access to campus resources and facilities is a major downside to online classes.\", 23, 2.72, 3, 1, \"M\", \"Mexico\", \"Provide online students with access to digital library resources and virtual student support services.\"],\n",
        "    [\"Online learning\", \"The time difference for international students can make it difficult to attend online classes and participate in group projects.\", 22, 3.85, 1, 1, \"F\", \"Mexico\", \"Offer flexible class schedules and recorded lectures to accommodate students in different time zones.\"],\n",
        "    [\"Online learning\", \"The lack of face-to-face interaction in online classes makes it hard to ask questions and receive feedback.\", 19, 3.11, 3, 1, \"M\", \"Mexico\", \"Increase professor availability during online classes and provide additional support through teaching assistants.\"],\n",
        "    [\"Online learning\", \"The online format can be especially challenging for hands-on courses like art, music, and lab-based sciences.\", 23, 2.87, 5, 1, \"F\", \"Mexico\", \"Develop virtual simulations and interactive tools to help students in hands-on courses succeed in an online format.\"],\n",
        "    [\"Online learning\", \"Limited access to technical resources and software can hinder the learning experience in online classes.\", 22, 1.68, 3, 1, \"F\", \"Mexico\", \"Provide online students with access to necessary technical resources and software.\"],\n",
        "    [\"Online learning\", \"It is challenging to maintain focus and avoid distractions during online classes, especially for students living in crowded or noisy environments.\", 23, 2.5, 5, 1, \"M\", \"Mexico\", \"Offer workshops on focus and productivity to help students succeed in online classes.\"],\n",
        "    [\"Online learning\", \"The increased screen time from online classes can cause eye strain and fatigue.\", 17, 1.48, 1, 1, \"M\", \"Mexico\", \"Provide resources and tips on managing screen time and reducing eye strain for online students.\"],\n",
        "    [\"Online learning\", \"Online exams and assessments can be more challenging and stressful than in-person tests.\", 18, 2.9, 1, 1, \"F\", \"Mexico\", \"Offer practice exams and stress management workshops to help students prepare for online assessments.\"],\n",
        "    [\"Online learning\", \"It is difficult to stay motivated and accountable for completing online coursework without the structure of in-person classes.\", 16, 0.12, 3, 1, \"F\", \"Mexico\", \"Introduce virtual study groups and peer support networks to help students stay motivated and accountable.\"],\n",
        "    [\"Online learning\", \"Online classes can exacerbate feelings of isolation and loneliness for students who struggle to make connections with peers.\", 19, 3.73, 1, 1, \"F\", \"Mexico\", \"Create virtual social events and online communities to help students feel more connected to their peers.\"],\n",
        "    [\"Online learning\", \"Technical difficulties with online exams and quizzes can lead to anxiety and frustration.\", 20, 3.05, 4, 1, \"M\", \"Mexico\", \"Provide technical support and resources to help students overcome technical difficulties during online exams.\"],\n",
        "    [\"Online learning\", \"The lack of access to professors during online classes can make it difficult to receive help and feedback on coursework.\", 25, 1.02, 4, 1, \"F\", \"Mexico\", \"Increase professor availability during online classes and provide additional support through teaching assistants.\"],\n",
        "    [\"Online learning\", \"Online classes can make it harder to balance academic responsibilities with work or family obligations.\", 22, 0.36, 2, 1, \"M\", \"Mexico\", \"Offer flexible class schedules and recorded lectures to help students balance academic responsibilities with other commitments.\"],\n",
        "    [\"Online learning\", \"Limited access to internships and job opportunities for online students can hinder their career prospects.\", 22, 3.0, 5, 1, \"F\", \"Mexico\", \"Expand virtual internship and job opportunities for online students to ensure they have equal access to career development resources.\"],\n",
        "    [\"Online learning\", \"The lack of networking opportunities and professional development events for online students can be a major drawback.\", 25, 3.78, 3, 1, \"F\", \"Mexico\", \"Organize virtual networking events and professional development workshops for online students.\"],\n",
        "    [\"Online learning\", \"The online format can make it challenging to participate in extracurricular activities and clubs.\", 27, 0.46, 5, 1, \"M\", \"Mexico\", \"Create virtual extracurricular activities and clubs to help online students stay engaged and connected.\"],\n",
        "    [\"Online learning\", \"Online classes can create a sense of disconnection from the campus community and culture.\", 23, 1.75, 2, 1, \"F\", \"Mexico\", \"Create virtual campus tours and online events to help online students feel more connected to the campus community.\"],\n",
        "    [\"Online learning\", \"It is harder to form study groups and collaborate with classmates in an online setting.\", 24, 2.0, 5, 1, \"F\", \"Mexico\", \"Introduce virtual study groups and collaboration tools to help students work together effectively.\"],\n",
        "    [\"Online learning\", \"Technical difficulties with online class recordings can lead to missed lectures and important information.\", 19, 4.0, 4, 1, \"M\", \"Mexico\", \"Provide technical support and resources to help students access online class recordings and stay on track with coursework.\"],\n",
        "    [\"Online learning\", \"The lack of access to campus facilities like libraries and study spaces can make it harder to study and complete coursework.\", 20, 0.06, 3, 1, \"M\", \"Mexico\", \"Provide online students with access to digital library resources and virtual study spaces.\"],\n",
        "    [\"Online learning\", \"Online classes can be particularly challenging for students who need hands-on assistance from professors or peers.\", 22, 3.49, 2, 1, \"F\", \"Mexico\", \"Increase professor availability during online classes and provide additional support through teaching assistants.\"],\n",
        "    [\"Online learning\", \"The lack of in-person support and resources for mental health and wellness can make online classes particularly difficult for some students.\", 23, 0.12, 5, 1, \"F\", \"Mexico\", \"Expand virtual mental health and wellness resources for online students, including counseling and support groups.\"],\n",
        "    [\"Online learning\", \"The lack of access to campus events and activities can make the college experience feel incomplete for online students.\", 27, 1.54, 1, 1, \"F\", \"Mexico\", \"Create virtual campus events and activities to help online students feel more connected to the college experience.\"],\n",
        "    [\"Online learning\", \"The limited availability of online courses and programs can make it difficult for students to meet graduation requirements or pursue specific fields of study.\", 20, 1.35, 2, 1, \"F\", \"Mexico\", \"Expand the availability of online courses and programs to ensure students can meet graduation requirements and pursue their desired fields of study.\"]\n",
        "]\n",
        "\n",
        "columns = [\"Genre\", \"Reports\", \"Age\", \"GPA\", \"Year\", \"Count\", \"Gender\", \"Nationality\", \"Resolution\"]\n",
        "\n",
        "data = pd.DataFrame(data, columns=columns)\n",
        "\n",
        "\n",
        "df=pd.DataFrame(data)\n",
        "\n",
        "df.to_csv(r\"C:\\Users\\pc\\Desktop\\student dataset\\subset_with resolution\\partition_14_part2_processed.csv\", index=False)\n",
        "\n",
        "files.download(r\"C:\\Users\\pc\\Desktop\\student dataset\\subset_with resolution\\partition_14_part2_processed.csv\")\n"
      ]
    },
    {
      "cell_type": "markdown",
      "metadata": {
        "id": "AGRIwJ3eYrOL"
      },
      "source": [
        "dataset_15"
      ]
    },
    {
      "cell_type": "code",
      "execution_count": null,
      "metadata": {
        "colab": {
          "base_uri": "https://localhost:8080/",
          "height": 17
        },
        "id": "0mKWuro1YwvS",
        "outputId": "6247aee7-6291-47fe-fb56-0dd47e2b9f47"
      },
      "outputs": [
        {
          "data": {
            "application/javascript": "\n    async function download(id, filename, size) {\n      if (!google.colab.kernel.accessAllowed) {\n        return;\n      }\n      const div = document.createElement('div');\n      const label = document.createElement('label');\n      label.textContent = `Downloading \"${filename}\": `;\n      div.appendChild(label);\n      const progress = document.createElement('progress');\n      progress.max = size;\n      div.appendChild(progress);\n      document.body.appendChild(div);\n\n      const buffers = [];\n      let downloaded = 0;\n\n      const channel = await google.colab.kernel.comms.open(id);\n      // Send a message to notify the kernel that we're ready.\n      channel.send({})\n\n      for await (const message of channel.messages) {\n        // Send a message to notify the kernel that we're ready.\n        channel.send({})\n        if (message.buffers) {\n          for (const buffer of message.buffers) {\n            buffers.push(buffer);\n            downloaded += buffer.byteLength;\n            progress.value = downloaded;\n          }\n        }\n      }\n      const blob = new Blob(buffers, {type: 'application/binary'});\n      const a = document.createElement('a');\n      a.href = window.URL.createObjectURL(blob);\n      a.download = filename;\n      div.appendChild(a);\n      a.click();\n      div.remove();\n    }\n  ",
            "text/plain": [
              "<IPython.core.display.Javascript object>"
            ]
          },
          "metadata": {},
          "output_type": "display_data"
        },
        {
          "data": {
            "application/javascript": "download(\"download_91f39c21-f68b-4288-8480-f7b35c833334\", \"C:\\\\Users\\\\pc\\\\Desktop\\\\student dataset\\\\subset_with resolution\\\\partition_15_part1_processed.csv\", 6707)",
            "text/plain": [
              "<IPython.core.display.Javascript object>"
            ]
          },
          "metadata": {},
          "output_type": "display_data"
        }
      ],
      "source": [
        "import pandas as pd\n",
        "\n",
        "data = [\n",
        "    [\"Online learning\", \"Online classes are a convenient way to learn, but the technical difficulties I faced this semester made it very frustrating.\", 26, 0.93, 3, 1, \"M\", \"Mexico\", \"Provide technical support and troubleshooting services to help students resolve technical issues and improve their online learning experience.\"],\n",
        "    [\"Online learning\", \"I struggled with finding all the necessary resources for my online classes, and the limited access to them made it even harder.\", 16, 0.04, 4, 1, \"F\", \"Mexico\", \"Expand access to online resources and provide training on how to effectively use them for coursework.\"],\n",
        "    [\"Online learning\", \"Being in a different time zone than my online classes made it hard to participate in live discussions and group work.\", 23, 2.12, 1, 1, \"F\", \"Mexico\", \"Offer flexible class schedules and recorded lectures to accommodate students in different time zones.\"],\n",
        "    [\"Online learning\", \"It was difficult to get in touch with my professors during online classes and I often had to wait for days to receive a response.\", 26, 3.85, 4, 1, \"F\", \"Mexico\", \"Increase professor availability during online classes and provide additional support through teaching assistants.\"],\n",
        "    [\"Online learning\", \"As an online student, I feel like I'm missing out on internship and job opportunities that are only available to in-person students.\", 22, 1.17, 2, 1, \"F\", \"Mexico\", \"Expand virtual internship and job opportunities for online students to ensure they have equal access to career development resources.\"],\n",
        "    [\"Online learning\", \"The lack of interaction and engagement in my online classes made it hard to stay motivated and focused on the material.\", 18, 0.26, 2, 1, \"F\", \"Mexico\", \"Introduce interactive and engaging online learning tools to help students stay motivated and engaged.\"],\n",
        "    [\"Online learning\", \"I wish there were more opportunities for online students to collaborate and connect with each other.\", 19, 3.51, 5, 1, \"F\", \"Mexico\", \"Create virtual study groups and peer support networks to help online students collaborate and connect.\"],\n",
        "    [\"Online learning\", \"The online platform we use for classes is outdated and difficult to navigate, which makes the learning experience more frustrating.\", 26, 1.04, 3, 1, \"M\", \"Mexico\", \"Upgrade the online learning platform to a more user-friendly and modern system to improve the learning experience.\"],\n",
        "    [\"Online learning\", \"I struggled with managing my time effectively during online classes, especially with other commitments like work and family.\", 19, 2.12, 2, 1, \"F\", \"Mexico\", \"Offer workshops on time management and self-discipline to help students succeed in online classes.\"],\n",
        "    [\"Online learning\", \"The lack of face-to-face interaction in my online classes made it hard to build relationships with my classmates and professors.\", 23, 2.4, 4, 1, \"M\", \"Mexico\", \"Create virtual networking events and discussion forums to help students build relationships with classmates and professors.\"],\n",
        "    [\"Online learning\", \"The limited access to online tutoring and academic support made it hard to succeed in my classes.\", 27, 1.38, 2, 1, \"M\", \"Mexico\", \"Expand access to online tutoring and academic support services to help students succeed in their classes.\"],\n",
        "    [\"Online learning\", \"I experienced a lot of technical difficulties during my online exams, which caused me a lot of stress and anxiety.\", 24, 0.88, 2, 1, \"M\", \"Mexico\", \"Provide technical support and resources to help students overcome technical difficulties during online exams.\"],\n",
        "    [\"Online learning\", \"The online class discussion boards were often filled with unhelpful and irrelevant comments, which made it hard to engage with the material.\", 19, 1.79, 1, 1, \"F\", \"Mexico\", \"Implement moderation and guidelines for online discussion boards to ensure they remain relevant and helpful for students.\"],\n",
        "    [\"Online learning\", \"I feel like I'm not getting my money's worth with online classes, as the learning experience isn't the same as in-person classes.\", 22, 0.03, 1, 1, \"F\", \"Mexico\", \"Improve the quality of online classes by incorporating interactive and engaging teaching methods.\"],\n",
        "    [\"Online learning\", \"It's hard to feel connected to my university and the campus community when I'm taking classes online from a different location.\", 20, 0.2, 2, 1, \"F\", \"Mexico\", \"Create virtual campus tours and online events to help online students feel more connected to the campus community.\"],\n",
        "    [\"Online learning\", \"The lack of structure and routine in my online classes made it hard to stay motivated and focused on the material.\", 26, 0.86, 5, 1, \"F\", \"Mexico\", \"Introduce structured schedules and routines for online classes to help students stay motivated and focused.\"],\n",
        "    [\"Online learning\", \"I had difficulty adjusting to the online learning environment, and I feel like I'm not getting the same quality education as in-person students.\", 27, 0.27, 1, 1, \"M\", \"Mexico\", \"Provide orientation and training sessions to help students adjust to the online learning environment and succeed in their classes.\"],\n",
        "    [\"Online learning\", \"The online classes are not accommodating to students with different learning styles and preferences.\", 21, 0.18, 4, 1, \"M\", \"Mexico\", \"Incorporate diverse teaching methods and materials to accommodate different learning styles and preferences in online classes.\"],\n",
        "    [\"Online learning\", \"The lack of in-person feedback and interaction with my professors made it hard to improve my skills and knowledge.\", 25, 2.57, 1, 1, \"M\", \"Mexico\", \"Increase professor availability during online classes and provide additional support through teaching assistants.\"],\n",
        "    [\"Online learning\", \"As an online student, I feel isolated and disconnected from the campus community and extracurricular activities.\", 18, 1.15, 5, 1, \"F\", \"Mexico\", \"Create virtual extracurricular activities and clubs to help online students stay engaged and connected.\"],\n",
        "    [\"Online learning\", \"The limited access to online library resources and research databases made it hard to complete assignments and projects.\", 27, 1.07, 1, 1, \"M\", \"Mexico\", \"Provide online students with access to digital library resources and research databases.\"],\n",
        "    [\"Online learning\", \"It's frustrating to have to rely on technology for my education, especially when it's not always reliable or user-friendly.\", 18, 3.96, 2, 1, \"F\", \"Mexico\", \"Upgrade the online learning platform to a more reliable and user-friendly system to improve the learning experience.\"],\n",
        "    [\"Online learning\", \"I feel like online classes aren't preparing me for the real world and workplace, where in-person communication and collaboration are essential skills.\", 19, 3.74, 4, 1, \"M\", \"Mexico\", \"Introduce virtual simulations and interactive tools to help students develop in-person communication and collaboration skills in an online format.\"],\n",
        "    [\"Online learning\", \"The online platform we use for classes is not accessible for students with disabilities, which is a major issue.\", 21, 0.83, 5, 1, \"F\", \"Mexico\", \"Ensure the online learning platform is accessible for students with disabilities by incorporating accessibility features and providing additional support.\"]\n",
        "]\n",
        "\n",
        "columns = [\"Genre\", \"Reports\", \"Age\", \"GPA\", \"Year\", \"Count\", \"Gender\", \"Nationality\", \"Resolution\"]\n",
        "\n",
        "data = pd.DataFrame(data, columns=columns)\n",
        "\n",
        "\n",
        "df=pd.DataFrame(data)\n",
        "\n",
        "\n",
        "\n",
        "df.to_csv(r\"C:\\Users\\pc\\Desktop\\student dataset\\subset_with resolution\\partition_15_part1_processed.csv\", index=False)\n",
        "\n",
        "files.download(r\"C:\\Users\\pc\\Desktop\\student dataset\\subset_with resolution\\partition_15_part1_processed.csv\")\n"
      ]
    },
    {
      "cell_type": "code",
      "execution_count": null,
      "metadata": {
        "colab": {
          "base_uri": "https://localhost:8080/",
          "height": 17
        },
        "id": "nILZoeF8aa9M",
        "outputId": "4e36306c-5e95-499d-8bb6-f906c335c218"
      },
      "outputs": [
        {
          "data": {
            "application/javascript": "\n    async function download(id, filename, size) {\n      if (!google.colab.kernel.accessAllowed) {\n        return;\n      }\n      const div = document.createElement('div');\n      const label = document.createElement('label');\n      label.textContent = `Downloading \"${filename}\": `;\n      div.appendChild(label);\n      const progress = document.createElement('progress');\n      progress.max = size;\n      div.appendChild(progress);\n      document.body.appendChild(div);\n\n      const buffers = [];\n      let downloaded = 0;\n\n      const channel = await google.colab.kernel.comms.open(id);\n      // Send a message to notify the kernel that we're ready.\n      channel.send({})\n\n      for await (const message of channel.messages) {\n        // Send a message to notify the kernel that we're ready.\n        channel.send({})\n        if (message.buffers) {\n          for (const buffer of message.buffers) {\n            buffers.push(buffer);\n            downloaded += buffer.byteLength;\n            progress.value = downloaded;\n          }\n        }\n      }\n      const blob = new Blob(buffers, {type: 'application/binary'});\n      const a = document.createElement('a');\n      a.href = window.URL.createObjectURL(blob);\n      a.download = filename;\n      div.appendChild(a);\n      a.click();\n      div.remove();\n    }\n  ",
            "text/plain": [
              "<IPython.core.display.Javascript object>"
            ]
          },
          "metadata": {},
          "output_type": "display_data"
        },
        {
          "data": {
            "application/javascript": "download(\"download_13961cc4-f7d6-498f-be32-563579bb321e\", \"C:\\\\Users\\\\pc\\\\Desktop\\\\student dataset\\\\subset_with resolution\\\\partition_15_part2_processed.csv\", 8400)",
            "text/plain": [
              "<IPython.core.display.Javascript object>"
            ]
          },
          "metadata": {},
          "output_type": "display_data"
        }
      ],
      "source": [
        "import pandas as pd\n",
        "\n",
        "data = [\n",
        "    [\"Online learning\", \"I wish there were more opportunities for online students to interact with professors and receive feedback on their work.\", 19, 1.96, 2, 1, \"F\", \"Mexico\", \"Increase professor availability during online classes and provide additional support through teaching assistants.\"],\n",
        "    [\"Online learning\", \"The lack of structure and clear expectations in my online classes made it hard to know what was expected of me and how to succeed.\", 25, 0.7, 3, 1, \"M\", \"Mexico\", \"Provide clear guidelines and expectations for online classes to help students understand what is required to succeed.\"],\n",
        "    [\"Online learning\", \"As an online student, I feel like I'm not receiving the same level of support and resources as in-person students.\", 20, 2.18, 2, 1, \"F\", \"Mexico\", \"Expand support services for online students, including counseling, academic advising, and technical support.\"],\n",
        "    [\"Online learning\", \"I had to spend a lot of money on additional technology and equipment to participate in my online classes, which was a financial burden.\", 16, 3.79, 5, 1, \"F\", \"Mexico\", \"Provide financial assistance or subsidies for students who need to purchase additional technology and equipment for online classes.\"],\n",
        "    [\"Online learning\", \"The lack of hands-on learning and practical experience in my online classes made it hard to apply the knowledge to real-world situations.\", 22, 3.62, 3, 1, \"F\", \"Mexico\", \"Develop virtual simulations and interactive tools to help students gain hands-on learning and practical experience in an online format.\"],\n",
        "    [\"Online learning\", \"I feel like I'm missing out on the social and networking opportunities that come with in-person classes and campus events.\", 21, 0.11, 2, 1, \"F\", \"Mexico\", \"Create virtual networking events and social activities to help online students connect with peers and build relationships.\"],\n",
        "    [\"Student Affairs\", \"I recently applied for a military certificate through the student affairs office, but it's been weeks and I haven't received any update on the status of my application.\", 17, 3.28, 4, 1, \"F\", \"Mexico\", \"Implement a tracking system for certificate applications to provide students with real-time updates on the status of their requests.\"],\n",
        "    [\"Student Affairs\", \"The student affairs office seems to be disorganized and inefficient when it comes to managing birth certificates. I had to make multiple trips to their office just to get mine processed.\", 19, 2.47, 4, 1, \"M\", \"Mexico\", \"Streamline the process for managing birth certificates and reduce the need for multiple visits to the student affairs office.\"],\n",
        "    [\"Student Affairs\", \"I need my training certificate for an internship opportunity, but the student affairs office keeps giving me the runaround and hasn't provided any clear timeline for when I can expect to receive it.\", 18, 2.98, 5, 1, \"F\", \"Mexico\", \"Provide clear timelines and regular updates for students requesting training certificates to ensure they can meet internship deadlines.\"],\n",
        "    [\"Student Affairs\", \"The process for obtaining student certificates is unnecessarily complicated and time-consuming. It's taking away from my ability to focus on my studies.\", 26, 3.19, 3, 1, \"M\", \"Mexico\", \"Simplify the process for obtaining student certificates and reduce the time required to process requests.\"],\n",
        "    [\"Student Affairs\", \"The student affairs office needs to do a better job of communicating with students about the status of their certificate requests. It's frustrating not knowing where things stand.\", 18, 1.4, 5, 1, \"M\", \"Mexico\", \"Implement a communication system to keep students informed about the status of their certificate requests.\"],\n",
        "    [\"Student Affairs\", \"I submitted my military certificate application on time, but the student affairs office failed to process it in a timely manner, causing me to miss out on a scholarship opportunity.\", 23, 0.36, 2, 1, \"M\", \"Mexico\", \"Prioritize the timely processing of military certificate applications to ensure students do not miss out on scholarship opportunities.\"],\n",
        "    [\"Student Affairs\", \"The student affairs office needs to streamline their processes for managing birth certificates. It shouldn't take weeks to get a simple document processed.\", 16, 2.96, 5, 1, \"M\", \"Mexico\", \"Streamline the process for managing birth certificates and reduce the time required to process requests.\"],\n",
        "    [\"Student Affairs\", \"I've been waiting for my training certificate for over a month now, and every time I follow up with the student affairs office, they tell me it's still being processed.\", 22, 0.44, 3, 1, \"F\", \"Mexico\", \"Provide clear timelines and regular updates for students requesting training certificates to ensure they can meet their deadlines.\"],\n",
        "    [\"Student Affairs\", \"The lack of transparency in the student affairs office's certificate management processes is unacceptable. Students deserve better communication and clearer timelines.\", 27, 2.37, 5, 1, \"M\", \"Mexico\", \"Implement a transparent and efficient system for managing certificates, with clear timelines and regular updates for students.\"],\n",
        "    [\"Student Affairs\", \"I've had nothing but frustration and delays in trying to obtain my student certificates. The student affairs office needs to overhaul their processes and make it easier for students to get what they need.\", 26, 2.14, 4, 1, \"F\", \"Mexico\", \"Overhaul the certificate management processes to make them more efficient and student-friendly.\"],\n",
        "    [\"Student Affairs\", \"The student affairs office seems to prioritize administrative tasks over student needs. It's time for them to focus on improving their services for students.\", 21, 0.67, 1, 1, \"M\", \"Mexico\", \"Shift the focus of the student affairs office to prioritize student needs and improve the quality of their services.\"],\n",
        "    [\"Student Affairs\", \"I had to wait in line for hours just to submit my military certificate application, and it still hasn't been processed. This is unacceptable.\", 19, 1.97, 4, 1, \"F\", \"Mexico\", \"Implement an online submission system for certificate applications to reduce wait times and improve efficiency.\"],\n",
        "    [\"Student Affairs\", \"The student affairs office should provide online options for submitting and tracking certificate requests. It would save students a lot of time and hassle.\", 18, 3.8, 1, 1, \"M\", \"Mexico\", \"Introduce an online portal for submitting and tracking certificate requests to streamline the process and save students time.\"],\n",
        "    [\"Student Affairs\", \"I've heard from multiple students that the student affairs office is notoriously slow when it comes to processing birth certificates. It's time for them to make some changes.\", 18, 1.4, 2, 1, \"F\", \"Mexico\", \"Streamline the process for managing birth certificates and reduce the time required to process requests.\"],\n",
        "    [\"Student Affairs\", \"The student affairs office needs to take responsibility for their mistakes and improve their processes for managing certificates. Students shouldn't have to suffer because of their incompetence.\", 18, 0.03, 4, 1, \"F\", \"Mexico\", \"Implement accountability measures and improve the efficiency of certificate management processes to better serve students.\"],\n",
        "    [\"Student Affairs\", \"I'm worried that my training certificate won't be processed in time for me to start my internship. The student affairs office needs to prioritize student needs and make sure these documents are processed quickly.\", 18, 0.07, 2, 1, \"M\", \"Mexico\", \"Prioritize the timely processing of training certificates to ensure students can meet internship deadlines.\"],\n",
        "    [\"Student Affairs\", \"The lack of organization and communication in the student affairs office is causing a lot of unnecessary stress for students. It's time for them to step up and do better.\", 16, 3.99, 3, 1, \"F\", \"Mexico\", \"Improve the organization and communication within the student affairs office to reduce stress and better serve students.\"],\n",
        "    [\"Student Affairs\", \"I've had to jump through so many hoops just to get my student certificates. The student affairs office needs to simplify their processes and make it easier for students to get what they need.\", 25, 1.04, 2, 1, \"M\", \"Mexico\", \"Simplify the process for obtaining student certificates and reduce the time required to process requests.\"],\n",
        "    [\"Student Affairs\", \"I've had to miss multiple classes just to go to the student affairs office and follow up on my certificate requests. This is unacceptable and needs to change.\", 16, 2.54, 2, 1, \"M\", \"Mexico\", \"Implement an online submission and tracking system for certificate requests to reduce the need for in-person visits.\"],\n",
        "    [\"Student Affairs\", \"The student affairs office needs to invest in better technology and systems for managing certificates. It's 2023, and we shouldn't still be dealing with paper forms and long wait times.\", 18, 1.57, 4, 1, \"M\", \"Mexico\", \"Upgrade the technology and systems used for managing certificates to improve efficiency and reduce wait times.\"]\n",
        "]\n",
        "\n",
        "columns = [\"Genre\", \"Reports\", \"Age\", \"GPA\", \"Year\", \"Count\", \"Gender\", \"Nationality\", \"Resolution\"]\n",
        "\n",
        "data = pd.DataFrame(data, columns=columns)\n",
        "\n",
        "\n",
        "df=pd.DataFrame(data)\n",
        "\n",
        "df.to_csv(r\"C:\\Users\\pc\\Desktop\\student dataset\\subset_with resolution\\partition_15_part2_processed.csv\", index=False)\n",
        "\n",
        "files.download(r\"C:\\Users\\pc\\Desktop\\student dataset\\subset_with resolution\\partition_15_part2_processed.csv\")\n"
      ]
    },
    {
      "cell_type": "markdown",
      "metadata": {
        "id": "txhNuzJkbIXF"
      },
      "source": [
        "dataset_16"
      ]
    },
    {
      "cell_type": "code",
      "execution_count": null,
      "metadata": {
        "colab": {
          "base_uri": "https://localhost:8080/",
          "height": 17
        },
        "id": "zJ2of5jjbKsM",
        "outputId": "5cb4c44f-adeb-41e7-b0a5-96e160614d93"
      },
      "outputs": [
        {
          "data": {
            "application/javascript": "\n    async function download(id, filename, size) {\n      if (!google.colab.kernel.accessAllowed) {\n        return;\n      }\n      const div = document.createElement('div');\n      const label = document.createElement('label');\n      label.textContent = `Downloading \"${filename}\": `;\n      div.appendChild(label);\n      const progress = document.createElement('progress');\n      progress.max = size;\n      div.appendChild(progress);\n      document.body.appendChild(div);\n\n      const buffers = [];\n      let downloaded = 0;\n\n      const channel = await google.colab.kernel.comms.open(id);\n      // Send a message to notify the kernel that we're ready.\n      channel.send({})\n\n      for await (const message of channel.messages) {\n        // Send a message to notify the kernel that we're ready.\n        channel.send({})\n        if (message.buffers) {\n          for (const buffer of message.buffers) {\n            buffers.push(buffer);\n            downloaded += buffer.byteLength;\n            progress.value = downloaded;\n          }\n        }\n      }\n      const blob = new Blob(buffers, {type: 'application/binary'});\n      const a = document.createElement('a');\n      a.href = window.URL.createObjectURL(blob);\n      a.download = filename;\n      div.appendChild(a);\n      a.click();\n      div.remove();\n    }\n  ",
            "text/plain": [
              "<IPython.core.display.Javascript object>"
            ]
          },
          "metadata": {},
          "output_type": "display_data"
        },
        {
          "data": {
            "application/javascript": "download(\"download_9270b905-74c1-4d08-86cd-b8b319a97655\", \"C:\\\\Users\\\\pc\\\\Desktop\\\\student dataset\\\\subset_with resolution\\\\partition_16_part1_processed.csv\", 7552)",
            "text/plain": [
              "<IPython.core.display.Javascript object>"
            ]
          },
          "metadata": {},
          "output_type": "display_data"
        }
      ],
      "source": [
        "import pandas as pd\n",
        "\n",
        "data = [\n",
        "    [\"Student Affairs\", \"I'm tired of feeling like I have to beg for my own certificates. The student affairs office needs to start prioritizing student needs over bureaucratic red tape.\", 22, 2.86, 3, 1, \"M\", \"Mexico\", \"Streamline the certificate issuance process and prioritize student needs by reducing bureaucratic hurdles and improving communication.\"],\n",
        "    [\"Student Affairs\", \"I submitted my birth certificate application weeks ago, but the student affairs office still hasn't processed it.\", 26, 2.81, 4, 1, \"M\", \"Mexico\", \"Implement a tracking system for certificate applications to provide students with real-time updates on the status of their requests.\"],\n",
        "    [\"Student Affairs\", \"I've been trying to get my military certificate verified by the university for weeks now, but every time I go to the office they tell me there's a problem with the paperwork. It's frustrating because I need this certificate to apply for certain internships.\", 18, 3.73, 4, 1, \"F\", \"Mexico\", \"Simplify the verification process for military certificates and provide clear timelines for processing.\"],\n",
        "    [\"Student Affairs\", \"The process for obtaining my birth certificate through the university has been a nightmare. The website was difficult to navigate and the customer service was unhelpful. It's ridiculous that something so important has to be so difficult to obtain.\", 21, 1.65, 5, 1, \"F\", \"Mexico\", \"Improve the website's user interface and provide better customer service to assist students with certificate requests.\"],\n",
        "    [\"Student Affairs\", \"I received my training certificate from a course I took over the summer, but the university won't accept it because it's from a non-accredited institution. This is frustrating because the course was relevant to my major and I learned a lot from it.\", 25, 3.05, 1, 1, \"F\", \"Mexico\", \"Review the accreditation requirements and consider accepting certificates from relevant non-accredited institutions on a case-by-case basis.\"],\n",
        "    [\"Student Affairs\", \"I've had multiple issues with the student affairs office regarding scheduling conflicts and paperwork errors. It seems like they're understaffed and overwhelmed, but it's frustrating when it affects my ability to graduate on time.\", 27, 2.63, 1, 1, \"M\", \"Mexico\", \"Increase staffing levels and improve training for student affairs office employees to reduce errors and improve efficiency.\"],\n",
        "    [\"Student Affairs\", \"The process for ordering official transcripts from the university is unnecessarily complicated. It should be as simple as submitting a request online, but instead I have to navigate a confusing system and wait weeks for it to be processed.\", 22, 2.07, 3, 1, \"M\", \"Mexico\", \"Simplify the transcript ordering process by creating an online portal for easy submission and tracking.\"],\n",
        "    [\"Student Affairs\", \"I've been trying to update my personal information with the university, but the website keeps glitching and I can't get through to customer service. It's frustrating because this information is important for communication and academic purposes.\", 23, 1.53, 2, 1, \"M\", \"Mexico\", \"Fix website glitches and improve customer service to assist students with updating personal information.\"],\n",
        "    [\"Student Affairs\", \"I recently applied for a scholarship through the university, but the application process was confusing and the instructions were unclear. It's frustrating to spend so much time on an application only to find out that I didn't meet the criteria.\", 21, 0.74, 1, 1, \"F\", \"Mexico\", \"Simplify the scholarship application process and provide clear instructions and criteria for applicants.\"],\n",
        "    [\"Student Affairs\", \"The university should provide more resources for students who are applying for internships and jobs. It's difficult to navigate the job market on your own, and career services is often understaffed and overworked.\", 25, 2.6, 3, 1, \"F\", \"Mexico\", \"Expand career services and provide more resources for students seeking internships and jobs, including workshops and one-on-one advising.\"],\n",
        "    [\"Student Affairs\", \"I've had issues with financial aid and scholarships, and it seems like the university is always changing their policies and requirements. It's frustrating because I rely on this support to continue my education.\", 18, 2.71, 5, 1, \"F\", \"Mexico\", \"Provide consistent and clear communication about financial aid and scholarship policies to reduce confusion and frustration.\"],\n",
        "    [\"Student Affairs\", \"The university should prioritize mental health resources for students. It's a stressful time in our lives and it's important to have access to counseling and support services when we need it.\", 27, 1.97, 3, 1, \"F\", \"Mexico\", \"Expand mental health resources, including counseling and support services, to better serve students' needs.\"],\n",
        "    [\"Housing and Transportation\", \"The cost of rent in the area around the university is just too high, and it's really hard to find affordable housing that's also close to campus.\", 20, 2.98, 1, 1, \"F\", \"Mexico\", \"Work with local landlords and housing authorities to create more affordable housing options for students near campus.\"],\n",
        "    [\"Housing and Transportation\", \"I've had to commute from the suburbs to the university every day, and the public transportation system is just not reliable enough. I've been late to class several times because of delays and cancellations.\", 26, 0.03, 3, 1, \"F\", \"South Africa\", \"Improve the reliability of public transportation by increasing the frequency of buses and trains and addressing delays and cancellations.\"],\n",
        "    [\"Housing and Transportation\", \"Finding a parking spot on campus is nearly impossible, and the parking fees are exorbitant. It's just not worth it to bring my car to school.\", 21, 0.23, 1, 1, \"F\", \"South Africa\", \"Increase the number of parking spots on campus and reduce parking fees to make it more affordable for students.\"],\n",
        "    [\"Housing and Transportation\", \"The apartments in the university area are often run-down and poorly maintained, which makes it difficult to focus on studying when I'm living in such a stressful environment.\", 23, 2.98, 4, 1, \"F\", \"South Africa\", \"Work with local landlords to improve the quality of housing options near campus and ensure they are well-maintained.\"],\n",
        "    [\"Housing and Transportation\", \"I have to take two buses and a train just to get to campus, and the trip takes over an hour each way. It's exhausting and it takes away from my study time.\", 27, 1.94, 2, 1, \"M\", \"South Africa\", \"Explore options for more direct transportation routes to campus to reduce travel time for students.\"],\n",
        "    [\"Housing and Transportation\", \"The traffic around campus is always terrible, and it can take me up to an hour just to travel a few miles. It's frustrating and stressful.\", 22, 0.08, 4, 1, \"F\", \"South Africa\", \"Work with local authorities to improve traffic flow around campus and reduce congestion.\"],\n",
        "    [\"Housing and Transportation\", \"I've been looking for affordable housing near campus for months, but everything is either too expensive or too far away. It's discouraging and I'm not sure what to do.\", 24, 3.25, 2, 1, \"F\", \"South Africa\", \"Create a housing assistance program to help students find affordable housing near campus.\"],\n",
        "    [\"Housing and Transportation\", \"The public transportation system is so overcrowded during peak hours that it's often impossible to get a seat, and I end up standing for the entire ride to campus.\", 17, 2.24, 2, 1, \"F\", \"South Africa\", \"Increase the number of buses and trains during peak hours to reduce overcrowding and ensure students have a comfortable commute.\"],\n",
        "    [\"Housing and Transportation\", \"The housing options near campus are very limited, and many landlords take advantage of the high demand by charging outrageous prices for subpar apartments.\", 20, 3.27, 2, 1, \"F\", \"South Africa\", \"Work with local authorities to regulate rental prices and ensure housing options near campus are affordable and of good quality.\"]\n",
        "]\n",
        "\n",
        "columns = [\"Genre\", \"Reports\", \"Age\", \"GPA\", \"Year\", \"Count\", \"Gender\", \"Nationality\", \"Resolution\"]\n",
        "\n",
        "data = pd.DataFrame(data, columns=columns)\n",
        "\n",
        "\n",
        "\n",
        "df=pd.DataFrame(data)\n",
        "\n",
        "\n",
        "df.to_csv(r\"C:\\Users\\pc\\Desktop\\student dataset\\subset_with resolution\\partition_16_part1_processed.csv\", index=False)\n",
        "\n",
        "files.download(r\"C:\\Users\\pc\\Desktop\\student dataset\\subset_with resolution\\partition_16_part1_processed.csv\")\n",
        "\n"
      ]
    },
    {
      "cell_type": "code",
      "execution_count": null,
      "metadata": {
        "colab": {
          "base_uri": "https://localhost:8080/",
          "height": 17
        },
        "id": "qcS7uAmkc1ol",
        "outputId": "6a48913b-d7e1-49db-b2b8-02b253075676"
      },
      "outputs": [
        {
          "data": {
            "application/javascript": "\n    async function download(id, filename, size) {\n      if (!google.colab.kernel.accessAllowed) {\n        return;\n      }\n      const div = document.createElement('div');\n      const label = document.createElement('label');\n      label.textContent = `Downloading \"${filename}\": `;\n      div.appendChild(label);\n      const progress = document.createElement('progress');\n      progress.max = size;\n      div.appendChild(progress);\n      document.body.appendChild(div);\n\n      const buffers = [];\n      let downloaded = 0;\n\n      const channel = await google.colab.kernel.comms.open(id);\n      // Send a message to notify the kernel that we're ready.\n      channel.send({})\n\n      for await (const message of channel.messages) {\n        // Send a message to notify the kernel that we're ready.\n        channel.send({})\n        if (message.buffers) {\n          for (const buffer of message.buffers) {\n            buffers.push(buffer);\n            downloaded += buffer.byteLength;\n            progress.value = downloaded;\n          }\n        }\n      }\n      const blob = new Blob(buffers, {type: 'application/binary'});\n      const a = document.createElement('a');\n      a.href = window.URL.createObjectURL(blob);\n      a.download = filename;\n      div.appendChild(a);\n      a.click();\n      div.remove();\n    }\n  ",
            "text/plain": [
              "<IPython.core.display.Javascript object>"
            ]
          },
          "metadata": {},
          "output_type": "display_data"
        },
        {
          "data": {
            "application/javascript": "download(\"download_773b9f45-1d28-45d5-82fe-1e8d742f1940\", \"C:\\\\Users\\\\pc\\\\Desktop\\\\student dataset\\\\subset_with resolution\\\\partition_16_part2_processed.csv\", 8284)",
            "text/plain": [
              "<IPython.core.display.Javascript object>"
            ]
          },
          "metadata": {},
          "output_type": "display_data"
        }
      ],
      "source": [
        "import pandas as pd\n",
        "\n",
        "data = [\n",
        "    [\"Housing and Transportation\", \"I rely on public transportation to get to campus, but the buses are often late or don't show up at all. It's frustrating and makes it hard to plan my day.\", 26, 0.56, 2, 1, \"M\", \"South Africa\", \"Improve the reliability of public transportation by addressing delays and ensuring buses run on schedule.\"],\n",
        "    [\"Housing and Transportation\", \"I have to commute for over an hour each way to get to campus, and the time and money I spend on transportation really add up.\", 24, 1.03, 3, 1, \"M\", \"South Africa\", \"Explore options for more direct transportation routes to campus to reduce travel time and costs for students.\"],\n",
        "    [\"Housing and Transportation\", \"I've had to switch apartments several times because of problems with landlords or roommates, and it's really disrupted my studies and my life.\", 20, 1.63, 4, 1, \"F\", \"South Africa\", \"Provide resources and support for students dealing with housing issues, including mediation services for roommate conflicts.\"],\n",
        "    [\"Housing and Transportation\", \"The public transportation system shuts down early in the evening, which makes it hard for me to attend evening classes or study sessions.\", 21, 2.85, 3, 1, \"F\", \"South Africa\", \"Extend the operating hours of public transportation to accommodate students attending evening classes or study sessions.\"],\n",
        "    [\"Housing and Transportation\", \"The university should do more to provide affordable and accessible housing options for students, especially those from low-income backgrounds.\", 25, 2.17, 5, 1, \"F\", \"South Africa\", \"Develop affordable housing options on or near campus to support students from low-income backgrounds.\"],\n",
        "    [\"Housing and Transportation\", \"I've had to take out loans just to cover the cost of housing and transportation, which adds to the stress and pressure of being a student.\", 27, 2.66, 5, 1, \"M\", \"South Africa\", \"Provide financial assistance or subsidies for students struggling with housing and transportation costs.\"],\n",
        "    [\"Housing and Transportation\", \"The public transportation system is often overcrowded and noisy, which makes it hard to concentrate on studying or getting any work done.\", 26, 2.51, 3, 1, \"M\", \"South Africa\", \"Increase the number of buses and trains during peak hours to reduce overcrowding and noise levels.\"],\n",
        "    [\"Housing and Transportation\", \"I've had to resort to sleeping on a friend's couch because I can't afford the rent in the university area, and it's really taking a toll on my mental health.\", 21, 1.2, 4, 1, \"M\", \"South Africa\", \"Provide emergency housing assistance for students who are struggling to afford rent near campus.\"],\n",
        "    [\"Housing and Transportation\", \"The lack of affordable and safe housing options near campus is a serious issue that the university needs to address.\", 24, 2.0, 2, 1, \"M\", \"South Africa\", \"Work with local authorities and landlords to create more affordable and safe housing options near campus.\"],\n",
        "    [\"Housing and Transportation\", \"I've had to miss class several times because of transportation issues, and it's really hurt my grades and my overall academic performance.\", 27, 2.35, 3, 1, \"F\", \"South Africa\", \"Improve the reliability of public transportation to ensure students can attend classes without disruptions.\"],\n",
        "    [\"Housing and Transportation\", \"The university should provide more support and resources for students who live off-campus, especially those who are struggling with housing and transportation issues.\", 23, 3.17, 2, 1, \"M\", \"South Africa\", \"Expand support services for off-campus students, including housing and transportation assistance.\"],\n",
        "    [\"Housing and Transportation\", \"The high cost of housing and transportation is a barrier that prevents many students from pursuing higher education, and it's a problem that needs to be addressed at a systemic level.\", 25, 3.34, 3, 1, \"M\", \"South Africa\", \"Advocate for systemic changes to reduce the cost of housing and transportation for students, including government subsidies and partnerships with local businesses.\"],\n",
        "    [\"Housing and Transportation\", \"The long commute to and from campus takes up so much of my day that I don't have much time or energy left for studying or extracurricular activities.\", 21, 0.02, 1, 1, \"F\", \"South Africa\", \"Explore options for more direct transportation routes to campus to reduce travel time and improve students' quality of life.\"],\n",
        "    [\"Housing and Transportation\", \"The public transportation system is often unreliable and unsafe, which makes me feel anxious and stressed every time I use it.\", 23, 3.3, 5, 1, \"M\", \"South Africa\", \"Improve the safety and reliability of public transportation by increasing security measures and addressing delays and cancellations.\"],\n",
        "    [\"Housing and Transportation\", \"I've been living off-campus for a year now and finding affordable housing near the university is a nightmare. I wish there were more affordable options for students.\", 17, 1.42, 1, 1, \"M\", \"South Africa\", \"Work with local landlords and housing authorities to create more affordable housing options for students near campus.\"],\n",
        "    [\"Housing and Transportation\", \"The transportation system in my city is not reliable at all, I've had to miss multiple classes due to late buses and trains.\", 26, 2.53, 4, 1, \"M\", \"South Africa\", \"Improve the reliability of public transportation by increasing the frequency of buses and trains and addressing delays and cancellations.\"],\n",
        "    [\"Housing and Transportation\", \"It's so frustrating having to pay such high rent for a tiny apartment that's miles away from the university.\", 25, 2.79, 1, 1, \"M\", \"South Africa\", \"Work with local landlords to reduce rental prices and improve the quality of housing options near campus.\"],\n",
        "    [\"Housing and Transportation\", \"I've had to switch apartments multiple times because my landlord kept increasing the rent without warning. It's not fair for students who are already struggling to make ends meet.\", 21, 3.06, 2, 1, \"M\", \"South Africa\", \"Advocate for rent control policies to protect students from sudden rent increases.\"],\n",
        "    [\"Housing and Transportation\", \"The public transportation in my city is so crowded during peak hours, it's impossible to get a seat.\", 16, 2.46, 4, 1, \"F\", \"Yemen\", \"Increase the number of buses and trains during peak hours to reduce overcrowding and ensure students have a comfortable commute.\"],\n",
        "    [\"Housing and Transportation\", \"I've had to drop out of a few classes because the bus schedule didn't line up with my class schedule.\", 21, 1.45, 3, 1, \"M\", \"Yemen\", \"Adjust bus schedules to better align with class schedules and ensure students can attend all their classes.\"],\n",
        "    [\"Housing and Transportation\", \"Finding a parking spot near the university is a nightmare, and the parking fees are outrageous.\", 26, 3.61, 4, 1, \"F\", \"Yemen\", \"Increase the number of parking spots on campus and reduce parking fees to make it more affordable for students.\"],\n",
        "    [\"Housing and Transportation\", \"The nearest grocery store is a 30-minute bus ride away, making it difficult to buy fresh groceries.\", 23, 0.72, 3, 1, \"M\", \"Yemen\", \"Work with local businesses to open a grocery store closer to campus to make it easier for students to access fresh groceries.\"],\n",
        "    [\"Housing and Transportation\", \"I have to walk 20 minutes to the bus stop every day, which is not ideal during the winter months.\", 17, 2.93, 4, 1, \"M\", \"Yemen\", \"Explore options for adding more bus stops closer to student housing areas to reduce walking time.\"],\n",
        "    [\"Housing and Transportation\", \"I wish the university would provide more affordable housing options for students who can't afford to pay rent in the city.\", 16, 3.46, 1, 1, \"F\", \"Yemen\", \"Develop affordable housing options on or near campus to support students who are struggling with rent costs.\"],\n",
        "    [\"Housing and Transportation\", \"The bus service in my area is so infrequent, it's impossible to get anywhere on time.\", 17, 2.69, 2, 1, \"M\", \"Yemen\", \"Increase the frequency of bus services in areas with high student populations to ensure timely transportation.\"],\n",
        "    [\"Housing and Transportation\", \"The housing options near the university are so limited, it's impossible to find a decent place to live.\", 19, 0.26, 4, 1, \"M\", \"Yemen\", \"Work with local landlords and housing authorities to create more housing options near campus.\"],\n",
        "    [\"Housing and Transportation\", \"I had to take out a student loan just to be able to afford the rent for my apartment.\", 24, 3.19, 5, 1, \"F\", \"Yemen\", \"Provide financial assistance or subsidies for students struggling with housing costs.\"],\n",
        "    [\"Housing and Transportation\", \"The rent for a one-bedroom apartment near the university is more than my monthly student loan payment.\", 22, 2.06, 3, 1, \"M\", \"Yemen\", \"Advocate for rent control policies to reduce rental prices near campus and make housing more affordable for students.\"]\n",
        "]\n",
        "\n",
        "columns = [\"Genre\", \"Reports\", \"Age\", \"GPA\", \"Year\", \"Count\", \"Gender\", \"Nationality\", \"Resolution\"]\n",
        "\n",
        "data = pd.DataFrame(data, columns=columns)\n",
        "\n",
        "\n",
        "df=pd.DataFrame(data)\n",
        "\n",
        "\n",
        "df.to_csv(r\"C:\\Users\\pc\\Desktop\\student dataset\\subset_with resolution\\partition_16_part2_processed.csv\", index=False)\n",
        "\n",
        "files.download(r\"C:\\Users\\pc\\Desktop\\student dataset\\subset_with resolution\\partition_16_part2_processed.csv\")\n",
        "\n",
        "\n"
      ]
    },
    {
      "cell_type": "markdown",
      "metadata": {
        "id": "RC7KZ1TPc_4a"
      },
      "source": [
        "dataset_17"
      ]
    },
    {
      "cell_type": "code",
      "execution_count": null,
      "metadata": {
        "colab": {
          "base_uri": "https://localhost:8080/",
          "height": 17
        },
        "id": "PudqLhtzdXxp",
        "outputId": "4ee22fc0-40d4-460e-8b41-99a86d65a285"
      },
      "outputs": [
        {
          "data": {
            "application/javascript": "\n    async function download(id, filename, size) {\n      if (!google.colab.kernel.accessAllowed) {\n        return;\n      }\n      const div = document.createElement('div');\n      const label = document.createElement('label');\n      label.textContent = `Downloading \"${filename}\": `;\n      div.appendChild(label);\n      const progress = document.createElement('progress');\n      progress.max = size;\n      div.appendChild(progress);\n      document.body.appendChild(div);\n\n      const buffers = [];\n      let downloaded = 0;\n\n      const channel = await google.colab.kernel.comms.open(id);\n      // Send a message to notify the kernel that we're ready.\n      channel.send({})\n\n      for await (const message of channel.messages) {\n        // Send a message to notify the kernel that we're ready.\n        channel.send({})\n        if (message.buffers) {\n          for (const buffer of message.buffers) {\n            buffers.push(buffer);\n            downloaded += buffer.byteLength;\n            progress.value = downloaded;\n          }\n        }\n      }\n      const blob = new Blob(buffers, {type: 'application/binary'});\n      const a = document.createElement('a');\n      a.href = window.URL.createObjectURL(blob);\n      a.download = filename;\n      div.appendChild(a);\n      a.click();\n      div.remove();\n    }\n  ",
            "text/plain": [
              "<IPython.core.display.Javascript object>"
            ]
          },
          "metadata": {},
          "output_type": "display_data"
        },
        {
          "data": {
            "application/javascript": "download(\"download_6f160cbb-8a0a-4297-95db-4a36bbb2667f\", \"C:\\\\Users\\\\pc\\\\Desktop\\\\student dataset\\\\subset_with resolution\\\\partition_17_part1_processed.csv\", 6831)",
            "text/plain": [
              "<IPython.core.display.Javascript object>"
            ]
          },
          "metadata": {},
          "output_type": "display_data"
        }
      ],
      "source": [
        "import pandas as pd\n",
        "\n",
        "data = [\n",
        "    [\"Housing and Transportation\", \"I've had to share a room with a stranger just to be able to afford rent.\", 16, 3.92, 2, 1, \"F\", \"Yemen\", \"Provide more affordable housing options for students to reduce the need for shared living arrangements.\"],\n",
        "    [\"Housing and Transportation\", \"I've had to borrow money from my parents just to be able to pay for rent and transportation costs.\", 23, 0.44, 2, 1, \"F\", \"Yemen\", \"Offer financial assistance or subsidies for students struggling with housing and transportation costs.\"],\n",
        "    [\"Housing and Transportation\", \"The nearest bus stop is a 15-minute walk away from my apartment, which is not ideal during the winter months.\", 19, 1.68, 5, 1, \"F\", \"Yemen\", \"Explore options for adding more bus stops closer to student housing areas to reduce walking time.\"],\n",
        "    [\"Housing and Transportation\", \"The university should provide shuttle buses to off-campus students, especially during peak class times.\", 22, 1.08, 3, 1, \"M\", \"Yemen\", \"Introduce shuttle bus services for off-campus students to ensure timely and convenient transportation to campus.\"],\n",
        "    [\"Housing and Transportation\", \"I wish the university would provide more affordable parking options for students who have to drive to class.\", 24, 1.86, 3, 1, \"F\", \"Yemen\", \"Reduce parking fees and increase the number of affordable parking options for students.\"],\n",
        "    [\"Housing and Transportation\", \"The traffic near the university is so bad during peak hours, it's impossible to get anywhere on time.\", 26, 0.93, 1, 1, \"M\", \"Yemen\", \"Work with local authorities to improve traffic flow around campus and reduce congestion during peak hours.\"],\n",
        "    [\"Housing and Transportation\", \"The rent prices near the university are so high, it's impossible to live without roommates.\", 20, 2.9, 5, 1, \"F\", \"Yemen\", \"Work with local landlords to reduce rental prices and create more affordable housing options for students.\"],\n",
        "    [\"Housing and Transportation\", \"I've had to move to a different city just to be able to afford housing and transportation costs.\", 18, 0.26, 2, 1, \"F\", \"Yemen\", \"Provide financial assistance or subsidies for students struggling with housing and transportation costs.\"],\n",
        "    [\"Housing and Transportation\", \"The bus stops near my apartment are not well-lit, making it feel unsafe to wait for the bus at night.\", 23, 2.76, 2, 1, \"F\", \"Yemen\", \"Improve lighting at bus stops near student housing areas to ensure safety for students traveling at night.\"],\n",
        "    [\"Housing and Transportation\", \"I wish there were more bike lanes near the university, it would make it easier to commute by bike.\", 21, 3.48, 5, 1, \"F\", \"Yemen\", \"Work with local authorities to create more bike lanes near campus to promote safe and convenient biking options for students.\"],\n",
        "    [\"Housing and Transportation\", \"The public transportation in my city is not accessible for students with disabilities.\", 23, 3.15, 4, 1, \"F\", \"Yemen\", \"Ensure public transportation is accessible for students with disabilities by incorporating accessibility features and providing additional support.\"],\n",
        "    [\"Housing and Transportation\", \"I've had to take a part-time job just to be able to afford rent and transportation costs.\", 16, 1.32, 3, 1, \"F\", \"Yemen\", \"Provide financial assistance or subsidies for students struggling with housing and transportation costs.\"],\n",
        "    [\"Housing and Transportation\", \"The university should provide more affordable on-campus housing options for students who can't afford to live off-campus.\", 16, 0.87, 1, 1, \"M\", \"Yemen\", \"Develop more affordable on-campus housing options to support students who are struggling with rent costs.\"],\n",
        "    [\"Housing and Transportation\", \"I wish the university would provide more information about affordable housing options near the university.\", 21, 0.61, 5, 1, \"F\", \"Yemen\", \"Create a housing resource center to provide students with information about affordable housing options near campus.\"],\n",
        "    [\"Housing and Transportation\", \"The housing options near the university are so limited, it's impossible to find a place to live that's not infested with pests.\", 24, 3.36, 3, 1, \"F\", \"Yemen\", \"Work with local landlords to improve the quality of housing options near campus and ensure they are pest-free.\"],\n",
        "    [\"Housing and Transportation\", \"The university should provide more information about transportation options for students who live off-campus.\", 17, 3.01, 4, 1, \"M\", \"Yemen\", \"Create a transportation resource center to provide students with information about transportation options near campus.\"],\n",
        "    [\"Housing and Transportation\", \"The parking lots near the university are always full, making it impossible to find a spot.\", 23, 0.63, 4, 1, \"F\", \"Yemen\", \"Increase the number of parking spots on campus and reduce parking fees to make it more affordable for students.\"],\n",
        "    [\"Housing and Transportation\", \"I'm really struggling to find affordable housing close to campus. Everything seems to be way out of my budget, and it's frustrating to feel like I have to compromise on the quality of my living situation just to be able to afford rent.\", 16, 0.41, 4, 1, \"F\", \"Yemen\", \"Work with local landlords and housing authorities to create more affordable housing options for students near campus.\"],\n",
        "    [\"Housing and Transportation\", \"The public transportation options in this area are terrible. Buses are always late or overcrowded, and there are never enough taxis or ride-sharing services available. It's making it really difficult for me to get to class on time and stay on top of my schedule.\", 26, 0.15, 4, 1, \"M\", \"Yemen\", \"Improve the reliability of public transportation by increasing the frequency of buses and trains and addressing delays and cancellations.\"],\n",
        "    [\"Housing and Transportation\", \"I feel like the university should be doing more to provide affordable housing options for students. It's not fair that we have to choose between living in subpar conditions or going into debt just to afford rent.\", 23, 1.54, 5, 1, \"F\", \"Yemen\", \"Develop more affordable housing options on or near campus to support students who are struggling with rent costs.\"],\n",
        "    [\"Housing and Transportation\", \"I don't have a car, and the only transportation option near my apartment is the bus. But the bus route doesn't go directly to campus, so I have to transfer multiple times just to get to class. It's a huge waste of time and energy.\", 24, 1.61, 2, 1, \"M\", \"Yemen\", \"Explore options for more direct transportation routes to campus to reduce travel time for students.\"],\n",
        "    [\"Housing and Transportation\", \"The housing market in this area is so competitive that I feel like I'm constantly battling with other students to find a decent place to live. It's stressful and exhausting, and I wish there were more options available to us.\", 25, 1.3, 1, 1, \"M\", \"Yemen\", \"Work with local landlords and housing authorities to create more housing options near campus to reduce competition and stress for students.\"],\n",
        "    [\"Housing and Transportation\", \"The cost of rent in this area is astronomical. I'm already working a part-time job just to make ends meet, and it's frustrating to feel like I'm barely scraping by even though I'm a full-time student.\", 23, 3.79, 2, 1, \"F\", \"Yemen\", \"Provide financial assistance or subsidies for students struggling with housing costs.\"]\n",
        "]\n",
        "\n",
        "columns = [\"Genre\", \"Reports\", \"Age\", \"GPA\", \"Year\", \"Count\", \"Gender\", \"Nationality\", \"Resolution\"]\n",
        "\n",
        "data = pd.DataFrame(data, columns=columns)\n",
        "\n",
        "\n",
        "df=pd.DataFrame(data)\n",
        "\n",
        "\n",
        "df.to_csv(r\"C:\\Users\\pc\\Desktop\\student dataset\\subset_with resolution\\partition_17_part1_processed.csv\", index=False)\n",
        "\n",
        "files.download(r\"C:\\Users\\pc\\Desktop\\student dataset\\subset_with resolution\\partition_17_part1_processed.csv\")\n",
        "\n"
      ]
    },
    {
      "cell_type": "code",
      "execution_count": null,
      "metadata": {
        "colab": {
          "base_uri": "https://localhost:8080/",
          "height": 17
        },
        "id": "FJXYLXXeeH0-",
        "outputId": "cc4a5292-122b-4ed9-8b9e-73e4e300fff4"
      },
      "outputs": [
        {
          "data": {
            "application/javascript": "\n    async function download(id, filename, size) {\n      if (!google.colab.kernel.accessAllowed) {\n        return;\n      }\n      const div = document.createElement('div');\n      const label = document.createElement('label');\n      label.textContent = `Downloading \"${filename}\": `;\n      div.appendChild(label);\n      const progress = document.createElement('progress');\n      progress.max = size;\n      div.appendChild(progress);\n      document.body.appendChild(div);\n\n      const buffers = [];\n      let downloaded = 0;\n\n      const channel = await google.colab.kernel.comms.open(id);\n      // Send a message to notify the kernel that we're ready.\n      channel.send({})\n\n      for await (const message of channel.messages) {\n        // Send a message to notify the kernel that we're ready.\n        channel.send({})\n        if (message.buffers) {\n          for (const buffer of message.buffers) {\n            buffers.push(buffer);\n            downloaded += buffer.byteLength;\n            progress.value = downloaded;\n          }\n        }\n      }\n      const blob = new Blob(buffers, {type: 'application/binary'});\n      const a = document.createElement('a');\n      a.href = window.URL.createObjectURL(blob);\n      a.download = filename;\n      div.appendChild(a);\n      a.click();\n      div.remove();\n    }\n  ",
            "text/plain": [
              "<IPython.core.display.Javascript object>"
            ]
          },
          "metadata": {},
          "output_type": "display_data"
        },
        {
          "data": {
            "application/javascript": "download(\"download_c6b99598-3574-466f-89cc-6fbbd451b0d2\", \"C:\\\\Users\\\\pc\\\\Desktop\\\\student dataset\\\\subset_with resolution\\\\partition_17_part2_processed.csv\", 10905)",
            "text/plain": [
              "<IPython.core.display.Javascript object>"
            ]
          },
          "metadata": {},
          "output_type": "display_data"
        }
      ],
      "source": [
        "import pandas as pd\n",
        "\n",
        "data = [\n",
        "    [\"Housing and Transportation\", \"I'm really disappointed with the state of the public transportation system here. It's unreliable and inconvenient, and it's making it really difficult for me to stay on top of my studies and extracurricular activities.\", 17, 0.59, 1, 1, \"M\", \"Yemen\", \"Improve the reliability of public transportation by increasing the frequency of buses and trains and addressing delays and cancellations.\"],\n",
        "    [\"Housing and Transportation\", \"I feel like the university should be doing more to incentivize landlords to offer affordable housing to students. It's not fair that we have to pay so much just to have a place to live while we're pursuing our degrees.\", 23, 1.29, 1, 1, \"F\", \"Yemen\", \"Work with local landlords to offer incentives for providing affordable housing options to students.\"],\n",
        "    [\"Housing and Transportation\", \"The lack of affordable housing options in this area is really limiting my choices. I feel like I have to settle for a place that's far away from campus and not very nice, just because it's the only thing I can afford.\", 27, 3.57, 2, 1, \"M\", \"Yemen\", \"Develop more affordable housing options on or near campus to support students who are struggling with rent costs.\"],\n",
        "    [\"Housing and Transportation\", \"I have to rely on public transportation to get around, but the bus schedule is so sporadic that I'm constantly running late for classes and appointments. It's really frustrating and stressful.\", 20, 1.28, 2, 1, \"F\", \"Yemen\", \"Improve the reliability of public transportation by increasing the frequency of buses and trains and addressing delays and cancellations.\"],\n",
        "    [\"Activities and Travelling\", \"I've been looking for ways to explore the area around campus and get to know the city better, but it's hard to find affordable and convenient transportation options. I wish there were more affordable shuttle services or student discounts for public transit.\", 16, 2.06, 3, 1, \"M\", \"Yemen\", \"Introduce affordable shuttle services and student discounts for public transportation to help students explore the area around campus.\"],\n",
        "    [\"Activities and Travelling\", \"I'm really interested in trying out some new outdoor activities, but I don't know where to start. It would be great if the university offered more organized trips and activities, like hiking or kayaking, so that I could explore the area with other students.\", 23, 2.56, 3, 1, \"F\", \"Yemen\", \"Organize more outdoor activities and trips, such as hiking and kayaking, to help students explore the area and build connections with peers.\"],\n",
        "    [\"Activities and Travelling\", \"I've been feeling really burned out lately, and I think it's because I haven't had a chance to take a break and do something fun outside of class. I wish there were more social events and activities on campus that were geared towards stress relief and self-care.\", 18, 3.11, 4, 1, \"M\", \"Yemen\", \"Introduce more social events and activities focused on stress relief and self-care to help students recharge and maintain their well-being.\"],\n",
        "    [\"Activities and Travelling\", \"I'm from out of town, and I'm having a hard time finding my way around the city. It would be great if the university offered more orientation sessions or tours for new students, so that we could feel more confident and comfortable navigating the area.\", 19, 2.45, 2, 1, \"F\", \"Yemen\", \"Provide more orientation sessions and tours for new students to help them navigate the city and feel more comfortable.\"],\n",
        "    [\"Activities and Travelling\", \"I'm interested in studying abroad, but I'm not sure where to start. It would be great if the university had more resources and support for students who are considering international programs or trips.\", 23, 3.4, 1, 1, \"M\", \"Yemen\", \"Expand resources and support for students interested in studying abroad, including workshops and one-on-one advising.\"],\n",
        "    [\"Activities and Travelling\", \"I'm a transfer student, and I feel like I'm missing out on a lot of the traditional college experiences like road trips and spring break. It would be great if there were more organized trips and activities for transfer students, so that we could feel more connected to the university community.\", 16, 2.83, 3, 1, \"F\", \"Yemen\", \"Organize more trips and activities specifically for transfer students to help them feel more connected to the university community.\"],\n",
        "    [\"Activities and Travelling\", \"I love exploring new places and trying new things, but it's hard to find the time and money to do so while I'm in school. It would be great if there were more affordable and accessible travel options for students, like student discounts on airfare or organized weekend trips.\", 17, 2.31, 1, 1, \"M\", \"Yemen\", \"Introduce affordable travel options, such as student discounts on airfare and organized weekend trips, to help students explore new places.\"],\n",
        "    [\"Activities and Travelling\", \"I'm interested in getting involved in outdoor activities and adventure sports, but I don't have a lot of experience. It would be great if the university offered more beginner-friendly courses and workshops, so that I could build my skills and confidence in a supportive environment.\", 16, 1.86, 4, 1, \"M\", \"Yemen\", \"Offer beginner-friendly courses and workshops for outdoor activities and adventure sports to help students build skills and confidence.\"],\n",
        "    [\"Activities and Travelling\", \"I'm interested in exploring the arts and cultural scene in the city, but I'm not sure where to start. It would be great if the university offered more organized trips and events to museums, galleries, and theaters, so that I could discover new things and learn from other students.\", 19, 0.94, 5, 1, \"F\", \"Yemen\", \"Organize more trips and events to museums, galleries, and theaters to help students explore the arts and cultural scene in the city.\"],\n",
        "    [\"Activities and Travelling\", \"I'm passionate about sustainability and the environment, and I would love to get involved in eco-tourism or sustainable travel. It would be great if the university had more resources and support for students who are interested in these topics, so that we could learn about sustainable travel options and make more informed choices.\", 25, 1.95, 4, 1, \"F\", \"Yemen\", \"Provide resources and support for students interested in eco-tourism and sustainable travel, including workshops and information sessions.\"],\n",
        "    [\"Activities and Travelling\", \"I went on a trip with the university's travel club, but the accommodations were terrible. The hotel was dirty and uncomfortable, and it really detracted from the overall experience.\", 22, 3.21, 5, 1, \"F\", \"Yemen\", \"Ensure that accommodations for university-sponsored trips meet quality standards to provide students with a positive experience.\"],\n",
        "    [\"Activities and Travelling\", \"I was really excited to go on a weekend trip with my friends, but the transportation ended up being a nightmare. Our bus broke down on the side of the road, and we ended up being stranded for hours.\", 20, 3.09, 4, 1, \"M\", \"Yemen\", \"Improve the reliability of transportation for university-sponsored trips to ensure students have a safe and enjoyable experience.\"],\n",
        "    [\"Activities and Travelling\", \"I wish there were more affordable travel options for students. It's hard to justify spending a ton of money on a trip when we're already struggling to make ends meet with tuition and living expenses.\", 21, 0.14, 2, 1, \"F\", \"Indonesia\", \"Introduce affordable travel options, such as student discounts on airfare and organized weekend trips, to help students explore new places.\"],\n",
        "    [\"Activities and Travelling\", \"I love exploring new places and trying new things, but it's hard to do that on a student budget. I wish there were more free or low-cost activities available in the area.\", 20, 2.04, 2, 1, \"F\", \"Indonesia\", \"Organize more free or low-cost activities for students to explore the area and try new things.\"],\n",
        "    [\"Activities and Travelling\", \"I went on a trip to a nearby city with the school's travel program, but I felt like we didn't get to see as much as we could have. The itinerary was too packed, and we didn't have enough time to really explore and enjoy each location.\", 26, 1.38, 4, 1, \"M\", \"Indonesia\", \"Adjust the itinerary for university-sponsored trips to allow more time for students to explore and enjoy each location.\"],\n",
        "    [\"Activities and Travelling\", \"I'm always looking for fun and interesting things to do on the weekends, but it seems like everything costs money. I wish there were more free events and activities available for students.\", 17, 1.54, 5, 1, \"M\", \"Indonesia\", \"Organize more free events and activities for students to enjoy on weekends.\"],\n",
        "    [\"Activities and Travelling\", \"I went on a study abroad program, but I felt like I didn't get enough support from the school. I had trouble adjusting to the new culture and environment, and I wish there had been more resources available to help me.\", 21, 3.16, 5, 1, \"F\", \"Indonesia\", \"Expand support services for students participating in study abroad programs, including cultural orientation and counseling.\"],\n",
        "    [\"Activities and Travelling\", \"I'm really interested in outdoor activities like hiking and camping, but I don't have a car to get to the nearest parks and trails. It's frustrating to feel like I'm missing out on something that I really enjoy.\", 17, 1.72, 3, 1, \"M\", \"Indonesia\", \"Organize transportation for students interested in outdoor activities, such as hiking and camping, to ensure they can participate.\"],\n",
        "    [\"Activities and Travelling\", \"I went on a trip with a student organization, but the leaders didn't seem very organized. We were always running late or missing important details, and it made the trip more stressful than it needed to be.\", 19, 1.98, 1, 1, \"M\", \"Indonesia\", \"Provide training for student organization leaders to ensure trips are well-organized and stress-free for participants.\"],\n",
        "    [\"Activities and Travelling\", \"I wish there were more opportunities to travel and explore the world while still earning college credit. It would be a great way to combine my academic and personal interests.\", 27, 1.86, 5, 1, \"M\", \"Indonesia\", \"Expand study abroad and travel programs that allow students to earn college credit while exploring the world.\"],\n",
        "    [\"Activities and Travelling\", \"I love the study abroad programs offered by our university. They've given me the chance to see the world and experience new cultures, all while earning credit towards my degree.\", 20, 3.84, 1, 1, \"F\", \"Indonesia\", \"Continue to promote and expand study abroad programs to provide more students with opportunities to explore the world and earn college credit.\"],\n",
        "    [\"Activities and Travelling\", \"I wish there were more affordable travel options available for students. It's hard to save up enough money to take a trip when you're already paying for tuition, textbooks, and rent.\", 25, 2.42, 3, 1, \"M\", \"Indonesia\", \"Introduce affordable travel options, such as student discounts on airfare and organized weekend trips, to help students explore new places.\"],\n",
        "    [\"Activities and Travelling\", \"The university-sponsored trips and excursions are always a lot of fun, but they tend to fill up quickly. I wish there were more spots available so that more students could participate.\", 18, 2.95, 5, 1, \"M\", \"Indonesia\", \"Increase the number of spots available for university-sponsored trips and excursions to allow more students to participate.\"]\n",
        "]\n",
        "\n",
        "columns = [\"Genre\", \"Reports\", \"Age\", \"GPA\", \"Year\", \"Count\", \"Gender\", \"Nationality\", \"Resolution\"]\n",
        "\n",
        "data = pd.DataFrame(data, columns=columns)\n",
        "\n",
        "\n",
        "\n",
        "df=pd.DataFrame(data)\n",
        "\n",
        "\n",
        "df.to_csv(r\"C:\\Users\\pc\\Desktop\\student dataset\\subset_with resolution\\partition_17_part2_processed.csv\", index=False)\n",
        "\n",
        "files.download(r\"C:\\Users\\pc\\Desktop\\student dataset\\subset_with resolution\\partition_17_part2_processed.csv\")\n",
        "\n"
      ]
    },
    {
      "cell_type": "markdown",
      "metadata": {
        "id": "tZ-lUiQqeRFU"
      },
      "source": [
        "dataset_18"
      ]
    },
    {
      "cell_type": "code",
      "execution_count": null,
      "metadata": {
        "colab": {
          "base_uri": "https://localhost:8080/",
          "height": 17
        },
        "id": "XRhzyy-weSob",
        "outputId": "34df1abf-b5cd-4e95-e403-8e00b6c77383"
      },
      "outputs": [
        {
          "data": {
            "application/javascript": "\n    async function download(id, filename, size) {\n      if (!google.colab.kernel.accessAllowed) {\n        return;\n      }\n      const div = document.createElement('div');\n      const label = document.createElement('label');\n      label.textContent = `Downloading \"${filename}\": `;\n      div.appendChild(label);\n      const progress = document.createElement('progress');\n      progress.max = size;\n      div.appendChild(progress);\n      document.body.appendChild(div);\n\n      const buffers = [];\n      let downloaded = 0;\n\n      const channel = await google.colab.kernel.comms.open(id);\n      // Send a message to notify the kernel that we're ready.\n      channel.send({})\n\n      for await (const message of channel.messages) {\n        // Send a message to notify the kernel that we're ready.\n        channel.send({})\n        if (message.buffers) {\n          for (const buffer of message.buffers) {\n            buffers.push(buffer);\n            downloaded += buffer.byteLength;\n            progress.value = downloaded;\n          }\n        }\n      }\n      const blob = new Blob(buffers, {type: 'application/binary'});\n      const a = document.createElement('a');\n      a.href = window.URL.createObjectURL(blob);\n      a.download = filename;\n      div.appendChild(a);\n      a.click();\n      div.remove();\n    }\n  ",
            "text/plain": [
              "<IPython.core.display.Javascript object>"
            ]
          },
          "metadata": {},
          "output_type": "display_data"
        },
        {
          "data": {
            "application/javascript": "download(\"download_b8765ff0-53bf-4c36-8a9a-f255d5f7bcb7\", \"C:\\\\Users\\\\pc\\\\Desktop\\\\student dataset\\\\subset_with resolution\\\\partition_18_part1_processed.csv\", 7861)",
            "text/plain": [
              "<IPython.core.display.Javascript object>"
            ]
          },
          "metadata": {},
          "output_type": "display_data"
        }
      ],
      "source": [
        "import pandas as pd\n",
        "\n",
        "data = [\n",
        "    [\"Activities and Travelling\", \"I really enjoy hiking and exploring the outdoors, but it can be tough to find good hiking trails and parks nearby. I wish there were more options available for students who want to get outside and explore.\", 19, 3.12, 3, 1, \"M\", \"Indonesia\", \"Organize guided hiking trips and provide maps of nearby trails and parks to help students explore the outdoors.\"],\n",
        "    [\"Activities and Travelling\", \"I love going to concerts and music festivals, but it's hard to find events that fit within my budget. It would be great if the university offered discounted tickets to students for these types of events.\", 23, 2.93, 4, 1, \"F\", \"Indonesia\", \"Partner with local venues to offer discounted tickets for concerts and music festivals to students.\"],\n",
        "    [\"Activities and Travelling\", \"I've always been interested in volunteering and giving back to my community, and the university has provided me with some great opportunities to do so. It's been really rewarding to be able to make a difference.\", 27, 2.47, 2, 1, \"F\", \"Indonesia\", \"Expand volunteer opportunities and promote existing programs to encourage more students to get involved in community service.\"],\n",
        "    [\"Activities and Travelling\", \"I wish there were more opportunities to connect with other students who have similar interests. It can be tough to find a community of like-minded individuals on such a large campus.\", 26, 3.06, 3, 1, \"M\", \"Indonesia\", \"Create interest-based clubs and organizations to help students connect with others who share their passions.\"],\n",
        "    [\"Activities and Travelling\", \"I really enjoy exploring new neighborhoods and trying new restaurants, but it can be tough to find affordable options. It would be great if the university offered a foodie club or something similar.\", 20, 2.61, 1, 1, \"M\", \"Indonesia\", \"Establish a foodie club to help students explore affordable dining options and share their culinary experiences.\"],\n",
        "    [\"Activities and Travelling\", \"I'm not really into partying or going out to bars, but it feels like that's the only social scene available on campus. I wish there were more options for students who want to have fun without drinking.\", 24, 2.77, 5, 1, \"M\", \"Indonesia\", \"Organize more alcohol-free social events and activities to cater to students who prefer non-drinking socializing.\"],\n",
        "    [\"Activities and Travelling\", \"I love going to sporting events and cheering on our school's teams. It's a great way to feel connected to the university and get involved in the campus community.\", 22, 1.05, 5, 1, \"F\", \"Indonesia\", \"Promote school spirit by organizing more sporting events and offering discounted tickets for students.\"],\n",
        "    [\"Activities and Travelling\", \"I wish there were more opportunities for outdoor recreation, like kayaking or camping. It would be great to be able to get away from campus and explore the natural beauty of the area.\", 21, 0.15, 2, 1, \"M\", \"Indonesia\", \"Organize outdoor recreation trips, such as kayaking and camping, to help students explore the natural beauty of the area.\"],\n",
        "    [\"Activities and Travelling\", \"I'm really interested in photography, but it can be tough to find good locations to take photos. I wish there were more scenic spots around campus for students to explore.\", 25, 0.38, 3, 1, \"F\", \"Indonesia\", \"Create a photography club and provide a guide to scenic spots around campus for students to explore and take photos.\"],\n",
        "    [\"Activities and Travelling\", \"I really enjoy attending lectures and talks on campus. It's a great way to learn new things and expand my knowledge beyond my coursework.\", 26, 0.95, 4, 1, \"M\", \"Indonesia\", \"Organize more lectures and talks on a variety of topics to provide students with opportunities to expand their knowledge.\"],\n",
        "    [\"Activities and Travelling\", \"I love attending film screenings and discussions on campus. It's a great way to engage with the arts and see films that I might not have discovered on my own.\", 25, 2.16, 1, 1, \"F\", \"Indonesia\", \"Host regular film screenings and discussions to help students engage with the arts and discover new films.\"],\n",
        "    [\"Activities and Travelling\", \"I wish there were more opportunities to connect with alumni and professionals in my field. It would be great to network and get advice from people who have been through the same things I'm going through now.\", 21, 3.29, 2, 1, \"F\", \"Indonesia\", \"Organize networking events and mentorship programs to connect students with alumni and professionals in their field.\"],\n",
        "    [\"Activities and Travelling\", \"I love taking weekend trips to nearby cities and towns. It's a great way to see new places and experience different cultures, without having to spend a lot of money.\", 21, 0.36, 3, 1, \"F\", \"Indonesia\", \"Organize affordable weekend trips to nearby cities and towns to help students explore new places and cultures.\"],\n",
        "    [\"Activities and Travelling\", \"I really enjoy attending book clubs and literary events on campus. It's a great way to engage with literature and connect with other book lovers.\", 21, 3.74, 4, 1, \"F\", \"Indonesia\", \"Expand book clubs and literary events on campus to provide more opportunities for students to engage with literature.\"],\n",
        "    [\"Activities and Travelling\", \"I wish there were more opportunities for students to get involved in research projects and work with faculty members outside of the classroom. It would be a great way to gain hands-on experience in my field.\", 20, 0.25, 3, 1, \"M\", \"Indonesia\", \"Create more research opportunities and promote existing programs to help students gain hands-on experience in their field.\"],\n",
        "    [\"Activities and Travelling\", \"I love attending poetry readings and spoken word events on campus. It's a great way to connect with the creative community and hear from talented writers.\", 22, 0.14, 2, 1, \"M\", \"Indonesia\", \"Host regular poetry readings and spoken word events to help students connect with the creative community.\"],\n",
        "    [\"Activities and Travelling\", \"I wish there were more opportunities for students to learn about and engage with different cultures and traditions.\", 17, 1.26, 5, 1, \"M\", \"Indonesia\", \"Organize cultural events and workshops to help students learn about and engage with different cultures and traditions.\"],\n",
        "    [\"Food and Cantines\", \"I am disappointed with the food options available on campus. There are not enough healthy options, and the quality of the food is subpar.\", 21, 1.54, 2, 1, \"M\", \"Indonesia\", \"Improve the quality and variety of food options on campus, with a focus on healthy and nutritious meals.\"],\n",
        "    [\"Food and Cantines\", \"The cafeteria on campus is always crowded, and it's difficult to find a seat during peak hours. The university should consider expanding the cafeteria or adding additional dining areas.\", 21, 0.86, 3, 1, \"M\", \"Indonesia\", \"Expand the cafeteria or add additional dining areas to reduce overcrowding during peak hours.\"],\n",
        "    [\"Food and Cantines\", \"I appreciate the variety of food options available on campus, but the prices are too high. It's not feasible for students to eat on campus every day.\", 17, 0.13, 5, 1, \"F\", \"Indonesia\", \"Reduce food prices on campus and offer more affordable meal plans for students.\"],\n",
        "    [\"Food and Cantines\", \"The food available on campus is too greasy and unhealthy. The university should focus on offering more nutritious options.\", 23, 3.81, 4, 1, \"M\", \"Indonesia\", \"Introduce more nutritious and healthy food options on campus to promote student well-being.\"],\n",
        "    [\"Food and Cantines\", \"The vending machines on campus are frequently out of order, which is frustrating when I need a quick snack between classes.\", 18, 3.5, 3, 1, \"F\", \"Indonesia\", \"Regularly maintain and repair vending machines to ensure they are always operational.\"],\n",
        "    [\"Food and Cantines\", \"I love the variety of snacks available at the campus convenience store, but the prices are too high. It would be great if the university could offer more affordable options.\", 19, 0.15, 1, 1, \"M\", \"Indonesia\", \"Reduce prices at the campus convenience store and offer more affordable snack options.\"],\n",
        "    [\"Food and Cantines\", \"The campus coffee shop is always crowded, and it takes forever to get my order. I wish there were more employees working during peak hours.\", 20, 3.88, 2, 1, \"M\", \"Indonesia\", \"Increase staffing at the campus coffee shop during peak hours to reduce wait times.\"]\n",
        "]\n",
        "\n",
        "columns = [\"Genre\", \"Reports\", \"Age\", \"GPA\", \"Year\", \"Count\", \"Gender\", \"Nationality\", \"Resolution\"]\n",
        "\n",
        "data = pd.DataFrame(data, columns=columns)\n",
        "\n",
        "\n",
        "\n",
        "df=pd.DataFrame(data)\n",
        "\n",
        "\n",
        "df.to_csv(r\"C:\\Users\\pc\\Desktop\\student dataset\\subset_with resolution\\partition_18_part1_processed.csv\", index=False)\n",
        "\n",
        "files.download(r\"C:\\Users\\pc\\Desktop\\student dataset\\subset_with resolution\\partition_18_part1_processed.csv\")\n",
        "\n"
      ]
    },
    {
      "cell_type": "code",
      "execution_count": null,
      "metadata": {
        "colab": {
          "base_uri": "https://localhost:8080/",
          "height": 17
        },
        "id": "x4w4j3umf8Ds",
        "outputId": "fb657ab3-4e99-4eac-ccef-6ddb565cbdf8"
      },
      "outputs": [
        {
          "data": {
            "application/javascript": "\n    async function download(id, filename, size) {\n      if (!google.colab.kernel.accessAllowed) {\n        return;\n      }\n      const div = document.createElement('div');\n      const label = document.createElement('label');\n      label.textContent = `Downloading \"${filename}\": `;\n      div.appendChild(label);\n      const progress = document.createElement('progress');\n      progress.max = size;\n      div.appendChild(progress);\n      document.body.appendChild(div);\n\n      const buffers = [];\n      let downloaded = 0;\n\n      const channel = await google.colab.kernel.comms.open(id);\n      // Send a message to notify the kernel that we're ready.\n      channel.send({})\n\n      for await (const message of channel.messages) {\n        // Send a message to notify the kernel that we're ready.\n        channel.send({})\n        if (message.buffers) {\n          for (const buffer of message.buffers) {\n            buffers.push(buffer);\n            downloaded += buffer.byteLength;\n            progress.value = downloaded;\n          }\n        }\n      }\n      const blob = new Blob(buffers, {type: 'application/binary'});\n      const a = document.createElement('a');\n      a.href = window.URL.createObjectURL(blob);\n      a.download = filename;\n      div.appendChild(a);\n      a.click();\n      div.remove();\n    }\n  ",
            "text/plain": [
              "<IPython.core.display.Javascript object>"
            ]
          },
          "metadata": {},
          "output_type": "display_data"
        },
        {
          "data": {
            "application/javascript": "download(\"download_06f0307c-78fa-4ff2-94b2-0d56ff555dde\", \"C:\\\\Users\\\\pc\\\\Desktop\\\\student dataset\\\\subset_with resolution\\\\partition_18_part2_processed.csv\", 6796)",
            "text/plain": [
              "<IPython.core.display.Javascript object>"
            ]
          },
          "metadata": {},
          "output_type": "display_data"
        }
      ],
      "source": [
        "\n",
        "import pandas as pd\n",
        "\n",
        "data = [\n",
        "    [\"Food and Cantines\", \"I appreciate the vegan and vegetarian options available on campus, but they are often sold out or not replenished in a timely manner.\", 26, 3.98, 4, 1, \"F\", \"Indonesia\", \"Ensure vegan and vegetarian options are consistently stocked and replenished in a timely manner.\"],\n",
        "    [\"Food and Cantines\", \"The campus dining hall should offer more international cuisine options. The food is too focused on American cuisine.\", 27, 0.34, 4, 1, \"M\", \"Indonesia\", \"Introduce more international cuisine options in the campus dining hall to cater to diverse student preferences.\"],\n",
        "    [\"Food and Cantines\", \"The food available on campus is not accommodating for students with allergies. The university should provide more allergy-friendly options.\", 22, 1.69, 4, 1, \"M\", \"Indonesia\", \"Expand allergy-friendly food options on campus to ensure all students can safely enjoy meals.\"],\n",
        "    [\"Food and Cantines\", \"I wish there were more food trucks on campus. The lines are always too long, and the trucks are only available on certain days.\", 19, 3.85, 4, 1, \"M\", \"Indonesia\", \"Increase the number of food trucks on campus and ensure they are available more frequently.\"],\n",
        "    [\"Food and Cantines\", \"The campus snack bars often run out of popular items, which is frustrating for students who rely on these options for meals.\", 23, 3.32, 1, 1, \"M\", \"Indonesia\", \"Regularly restock popular items at campus snack bars to ensure they are always available.\"],\n",
        "    [\"Food and Cantines\", \"The food available on campus is too repetitive. I wish there were more rotating menu options.\", 20, 3.91, 2, 1, \"M\", \"Indonesia\", \"Introduce rotating menu options in the campus dining hall to provide more variety for students.\"],\n",
        "    [\"Food and Cantines\", \"The meal plan options are too limited. It would be great if the university could offer more flexible options for students who don't eat on campus every day.\", 21, 2.36, 4, 1, \"M\", \"Indonesia\", \"Offer more flexible meal plan options to cater to students with varying dining needs.\"],\n",
        "    [\"Food and Cantines\", \"The campus convenience store should offer more healthy snack options. Most of the items available are high in sugar and calories.\", 22, 2.92, 4, 1, \"M\", \"Indonesia\", \"Expand the selection of healthy snack options at the campus convenience store.\"],\n",
        "    [\"Food and Cantines\", \"I appreciate the campus food co-op, but the prices are too high for most students to afford.\", 18, 4.47, 3, 1, \"M\", \"Indonesia\", \"Reduce prices at the campus food co-op to make it more affordable for students.\"],\n",
        "    [\"Food and Cantines\", \"The food available on campus is often lukewarm or cold. The university should focus on improving the quality of the food.\", 20, 3.78, 2, 1, \"M\", \"Indonesia\", \"Improve the quality of food served on campus by ensuring it is served at the appropriate temperature.\"],\n",
        "    [\"Food and Cantines\", \"The campus food court should offer more variety. It's difficult to find something I want to eat every day.\", 22, 2.07, 5, 1, \"M\", \"Indonesia\", \"Introduce more variety in the campus food court to cater to diverse student preferences.\"],\n",
        "    [\"Food and Cantines\", \"I wish the campus cafeteria would offer more breakfast options. It's difficult to find a healthy breakfast on campus.\", 22, 1.4, 5, 1, \"M\", \"Indonesia\", \"Expand breakfast options in the campus cafeteria, with a focus on healthy choices.\"],\n",
        "    [\"Food and Cantines\", \"The campus dining hall is not open late enough. It would be great if it could stay open until later in the evening.\", 23, 2.58, 5, 1, \"M\", \"Indonesia\", \"Extend the operating hours of the campus dining hall to accommodate students with late schedules.\"],\n",
        "    [\"Food and Cantines\", \"The quality of the food on campus varies widely. Sometimes it's great, but other times it's barely edible.\", 21, 1.4, 1, 1, \"M\", \"Indonesia\", \"Ensure consistent quality of food served on campus by implementing stricter quality control measures.\"],\n",
        "    [\"Food and Cantines\", \"The prices at the campus coffee shop are too high. It would be great if there were more affordable options for students.\", 21, 4.06, 3, 1, \"M\", \"Indonesia\", \"Reduce prices at the campus coffee shop and offer more affordable drink options for students.\"],\n",
        "    [\"Food and Cantines\", \"The campus dining hall should offer more grab-and-go options for students who are in a hurry.\", 19, 1.06, 3, 1, \"M\", \"Indonesia\", \"Introduce more grab-and-go options in the campus dining hall for students with busy schedules.\"],\n",
        "    [\"Food and Cantines\", \"I appreciate the late-night dining options available on campus, but the food is often not fresh or of good quality.\", 23, 2.16, 2, 1, \"M\", \"Indonesia\", \"Improve the quality of late-night dining options on campus to ensure they are fresh and satisfying.\"],\n",
        "    [\"Food and Cantines\", \"The campus convenience store should offer more non-perishable food options for students who don't have access to a fridge.\", 21, 3.57, 5, 1, \"M\", \"Indonesia\", \"Expand the selection of non-perishable food options at the campus convenience store for students without access to a fridge.\"],\n",
        "    [\"Food and Cantines\", \"The food available on campus is often too spicy or too bland. The university should work on offering more balanced flavors.\", 19, 3.43, 2, 1, \"M\", \"Indonesia\", \"Offer a wider range of balanced flavors in campus dining options to cater to diverse student preferences.\"],\n",
        "    [\"Food and Cantines\", \"The campus dining hall should offer more gluten-free options for students with celiac disease or gluten intolerance.\", 19, 2.73, 5, 1, \"M\", \"Indonesia\", \"Expand gluten-free options in the campus dining hall to accommodate students with dietary restrictions.\"],\n",
        "    [\"Food and Cantines\", \"The campus coffee shop should offer more non-coffee drink options. Not all students drink coffee.\", 18, 4.65, 3, 1, \"M\", \"Indonesia\", \"Introduce more non-coffee drink options at the campus coffee shop to cater to all students.\"],\n",
        "    [\"Food and Cantines\", \"The food options on campus are quite limited and not very appetizing. I wish there were more healthy options available.\", 22, 3.99, 1, 1, \"M\", \"Indonesia\", \"Expand the variety of food options on campus, with a focus on healthy and appetizing choices.\"],\n",
        "    [\"Food and Cantines\", \"I appreciate that there are a few vegetarian options available, but they often run out quickly and I end up having to choose from the same limited menu.\", 20, 1.03, 3, 1, \"M\", \"Indonesia\", \"Ensure vegetarian options are consistently stocked and replenished in a timely manner.\"],\n",
        "    [\"Food and Cantines\", \"The food served in the cafeteria is not worth the price. It's often undercooked and the portions are small.\", 23, 1.12, 4, 1, \"M\", \"Indonesia\", \"Improve the quality and portion sizes of food served in the cafeteria to ensure it is worth the price.\"],\n",
        "    [\"Food and Cantines\", \"I wish there were more affordable options for snacks and drinks on campus. The vending machines are often empty or not working.\", 21, 2.31, 3, 1, \"M\", \"Indonesia\", \"Reduce prices for snacks and drinks on campus and ensure vending machines are regularly stocked and operational.\"],\n",
        "    [\"Food and Cantines\", \"The coffee served in the student center is too expensive for what it is. I would love to see more affordable options available.\", 18, 2.35, 1, 1, \"F\", \"Indonesia\", \"Reduce the price of coffee in the student center and introduce more affordable drink options.\"]\n",
        "]\n",
        "\n",
        "\n",
        "columns = [\"Genre\", \"Reports\", \"Age\", \"GPA\", \"Year\", \"Count\", \"Gender\", \"Nationality\", \"Resolution\"]\n",
        "\n",
        "data = pd.DataFrame(data, columns=columns)\n",
        "\n",
        "\n",
        "\n",
        "df=pd.DataFrame(data)\n",
        "\n",
        "\n",
        "df.to_csv(r\"C:\\Users\\pc\\Desktop\\student dataset\\subset_with resolution\\partition_18_part2_processed.csv\", index=False)\n",
        "\n",
        "files.download(r\"C:\\Users\\pc\\Desktop\\student dataset\\subset_with resolution\\partition_18_part2_processed.csv\")\n",
        "\n",
        "\n"
      ]
    },
    {
      "cell_type": "markdown",
      "metadata": {
        "id": "2NKuwl3Cgxv0"
      },
      "source": [
        "dataset_19"
      ]
    },
    {
      "cell_type": "code",
      "execution_count": null,
      "metadata": {
        "colab": {
          "base_uri": "https://localhost:8080/",
          "height": 17
        },
        "id": "7ffbG3jRgzpj",
        "outputId": "805117f1-4dfb-445b-ff17-c5ecf1703885"
      },
      "outputs": [
        {
          "data": {
            "application/javascript": "\n    async function download(id, filename, size) {\n      if (!google.colab.kernel.accessAllowed) {\n        return;\n      }\n      const div = document.createElement('div');\n      const label = document.createElement('label');\n      label.textContent = `Downloading \"${filename}\": `;\n      div.appendChild(label);\n      const progress = document.createElement('progress');\n      progress.max = size;\n      div.appendChild(progress);\n      document.body.appendChild(div);\n\n      const buffers = [];\n      let downloaded = 0;\n\n      const channel = await google.colab.kernel.comms.open(id);\n      // Send a message to notify the kernel that we're ready.\n      channel.send({})\n\n      for await (const message of channel.messages) {\n        // Send a message to notify the kernel that we're ready.\n        channel.send({})\n        if (message.buffers) {\n          for (const buffer of message.buffers) {\n            buffers.push(buffer);\n            downloaded += buffer.byteLength;\n            progress.value = downloaded;\n          }\n        }\n      }\n      const blob = new Blob(buffers, {type: 'application/binary'});\n      const a = document.createElement('a');\n      a.href = window.URL.createObjectURL(blob);\n      a.download = filename;\n      div.appendChild(a);\n      a.click();\n      div.remove();\n    }\n  ",
            "text/plain": [
              "<IPython.core.display.Javascript object>"
            ]
          },
          "metadata": {},
          "output_type": "display_data"
        },
        {
          "data": {
            "application/javascript": "download(\"download_5c1e6a77-932a-40b6-9a6e-adc6423d9937\", \"C:\\\\Users\\\\pc\\\\Desktop\\\\student dataset\\\\subset_with resolution\\\\partition_19_part1_processed.csv\", 5770)",
            "text/plain": [
              "<IPython.core.display.Javascript object>"
            ]
          },
          "metadata": {},
          "output_type": "display_data"
        }
      ],
      "source": [
        "\n",
        "import pandas as pd\n",
        "\n",
        "data = [\n",
        "    [\"Food and Cantines\", \"The cafeteria is always crowded during peak hours, making it difficult to find a place to sit and eat.\", 21, 1.02, 3, 1, \"F\", \"Indonesia\", \"Expand the cafeteria or add additional dining areas to reduce overcrowding during peak hours.\"],\n",
        "    [\"Food and Cantines\", \"The quality of the food in the campus dining hall needs to be improved. It's often bland and unappetizing.\", 23, 1.13, 3, 1, \"F\", \"Indonesia\", \"Improve the quality of food in the dining hall by introducing more flavorful and appetizing options.\"],\n",
        "    [\"Food and Cantines\", \"The food served in the campus cafe is often overpriced and not very tasty. I wish there were more options available.\", 18, 3.98, 3, 1, \"F\", \"Indonesia\", \"Reduce prices and improve the taste of food in the campus cafe, while also expanding the menu options.\"],\n",
        "    [\"Food and Cantines\", \"The campus food options are not very diverse, and I often end up eating the same things over and over again.\", 21, 3.0, 1, 1, \"F\", \"Indonesia\", \"Introduce more diverse food options in the campus dining facilities to provide students with a wider variety of meals.\"],\n",
        "    [\"Food and Cantines\", \"I appreciate that the campus has a few healthy options available, but they are often more expensive than the other menu items.\", 18, 1.25, 5, 1, \"F\", \"Indonesia\", \"Offer healthy food options at more affordable prices to encourage students to make healthier choices.\"],\n",
        "    [\"Food and Cantines\", \"The snacks available in the vending machines are often stale or expired. I wish they were restocked more frequently.\", 20, 2.86, 2, 1, \"F\", \"Indonesia\", \"Regularly restock vending machines with fresh snacks and ensure expired items are removed promptly.\"],\n",
        "    [\"Food and Cantines\", \"The cafeteria should offer more options for students with dietary restrictions or food allergies.\", 20, 1.38, 2, 1, \"F\", \"Indonesia\", \"Expand the menu to include more options for students with dietary restrictions or food allergies.\"],\n",
        "    [\"Food and Cantines\", \"The food options on campus are limited and often overpriced. I end up having to spend a lot of money on food each week.\", 19, 2.03, 2, 1, \"F\", \"Indonesia\", \"Reduce food prices on campus and offer more affordable meal plans for students.\"],\n",
        "    [\"Food and Cantines\", \"The cafeteria is always very crowded during lunchtime, which makes it difficult to find a place to sit and eat.\", 20, 4.21, 1, 1, \"F\", \"Indonesia\", \"Expand the cafeteria or add additional dining areas to reduce overcrowding during peak hours.\"],\n",
        "    [\"Food and Cantines\", \"I wish there were more options available for breakfast on campus. The current selection is quite limited.\", 21, 4.02, 5, 1, \"F\", \"Indonesia\", \"Expand breakfast options in the campus cafeteria, with a focus on healthy and diverse choices.\"],\n",
        "    [\"Food and Cantines\", \"The cafeteria often runs out of popular menu items before the end of the day, leaving students with limited options.\", 18, 4.9, 1, 1, \"F\", \"Indonesia\", \"Ensure popular menu items are consistently stocked and replenished throughout the day.\"],\n",
        "    [\"Food and Cantines\", \"The food served in the student center is often cold and unappetizing. I wish the quality were better.\", 21, 3.32, 2, 1, \"F\", \"Indonesia\", \"Improve the quality of food served in the student center by ensuring it is served at the appropriate temperature and is more appetizing.\"],\n",
        "    [\"Food and Cantines\", \"The vending machines on campus are often out of order, making it difficult to find snacks and drinks.\", 20, 4.64, 3, 1, \"F\", \"Indonesia\", \"Regularly maintain and repair vending machines to ensure they are always operational.\"],\n",
        "    [\"Food and Cantines\", \"The campus needs to provide more healthy snack options, like fresh fruits and vegetables.\", 22, 3.99, 2, 1, \"F\", \"Indonesia\", \"Introduce more healthy snack options, such as fresh fruits and vegetables, in campus dining facilities.\"],\n",
        "    [\"Food and Cantines\", \"The prices for food on campus are too high, especially considering the quality and variety of the options available.\", 23, 4.2, 5, 1, \"F\", \"Indonesia\", \"Reduce food prices on campus and improve the quality and variety of food options.\"],\n",
        "    [\"Food and Cantines\", \"The cafeteria should offer more vegetarian and vegan options, as there are many students on campus with these dietary restrictions.\", 19, 1.09, 5, 1, \"F\", \"Indonesia\", \"Expand vegetarian and vegan options in the cafeteria to accommodate students with dietary restrictions.\"],\n",
        "    [\"Food and Cantines\", \"The coffee served in the campus cafe is often burnt and bitter. I wish there were better options available.\", 18, 4.94, 5, 1, \"F\", \"Indonesia\", \"Improve the quality of coffee served in the campus cafe and introduce more drink options.\"],\n",
        "    [\"Food and Cantines\", \"The campus should provide more options for students who need to grab a quick bite between classes.\", 21, 1.35, 2, 1, \"F\", \"Indonesia\", \"Introduce more grab-and-go options in the campus dining facilities for students with busy schedules.\"],\n",
        "    [\"Food and Cantines\", \"The snacks available in the campus store are often overpriced and not very appetizing.\", 22, 1.61, 5, 1, \"F\", \"Indonesia\", \"Reduce prices and improve the quality of snacks available in the campus store.\"],\n",
        "    [\"Food and Cantines\", \"The cafeteria should offer more international food options, to better reflect the diverse student population.\", 18, 4.84, 1, 1, \"F\", \"Indonesia\", \"Introduce more international cuisine options in the cafeteria to cater to the diverse student population.\"],\n",
        "    [\"Food and Cantines\", \"The campus needs to provide more options for students who have early morning classes and need breakfast on the go.\", 19, 4.6, 1, 1, \"F\", \"Indonesia\", \"Expand grab-and-go breakfast options for students with early morning classes.\"],\n",
        "    [\"Food and Cantines\", \"The quality of the food in the campus cafe needs to be improved. It's often stale and unappetizing.\", 20, 1.44, 2, 1, \"F\", \"Indonesia\", \"Improve the quality of food served in the campus cafe by ensuring it is fresh and appetizing.\"],\n",
        "    [\"Food and Cantines\", \"The campus should consider offering a meal plan for students, to make dining on campus more affordable.\", 23, 2.58, 5, 1, \"F\", \"Indonesia\", \"Introduce a meal plan option for students to make dining on campus more affordable.\"]\n",
        "]\n",
        "\n",
        "columns = [\"Genre\", \"Reports\", \"Age\", \"GPA\", \"Year\", \"Count\", \"Gender\", \"Nationality\", \"Resolution\"]\n",
        "\n",
        "data = pd.DataFrame(data, columns=columns)\n",
        "\n",
        "\n",
        "\n",
        "df=pd.DataFrame(data)\n",
        "\n",
        "\n",
        "df.to_csv(r\"C:\\Users\\pc\\Desktop\\student dataset\\subset_with resolution\\partition_19_part1_processed.csv\", index=False)\n",
        "\n",
        "files.download(r\"C:\\Users\\pc\\Desktop\\student dataset\\subset_with resolution\\partition_19_part1_processed.csv\")\n"
      ]
    },
    {
      "cell_type": "code",
      "execution_count": null,
      "metadata": {
        "colab": {
          "base_uri": "https://localhost:8080/",
          "height": 17
        },
        "id": "IoRBYcMshWTK",
        "outputId": "1d71e762-0725-46ab-8ed9-b7c38fe5e069"
      },
      "outputs": [
        {
          "data": {
            "application/javascript": "\n    async function download(id, filename, size) {\n      if (!google.colab.kernel.accessAllowed) {\n        return;\n      }\n      const div = document.createElement('div');\n      const label = document.createElement('label');\n      label.textContent = `Downloading \"${filename}\": `;\n      div.appendChild(label);\n      const progress = document.createElement('progress');\n      progress.max = size;\n      div.appendChild(progress);\n      document.body.appendChild(div);\n\n      const buffers = [];\n      let downloaded = 0;\n\n      const channel = await google.colab.kernel.comms.open(id);\n      // Send a message to notify the kernel that we're ready.\n      channel.send({})\n\n      for await (const message of channel.messages) {\n        // Send a message to notify the kernel that we're ready.\n        channel.send({})\n        if (message.buffers) {\n          for (const buffer of message.buffers) {\n            buffers.push(buffer);\n            downloaded += buffer.byteLength;\n            progress.value = downloaded;\n          }\n        }\n      }\n      const blob = new Blob(buffers, {type: 'application/binary'});\n      const a = document.createElement('a');\n      a.href = window.URL.createObjectURL(blob);\n      a.download = filename;\n      div.appendChild(a);\n      a.click();\n      div.remove();\n    }\n  ",
            "text/plain": [
              "<IPython.core.display.Javascript object>"
            ]
          },
          "metadata": {},
          "output_type": "display_data"
        },
        {
          "data": {
            "application/javascript": "download(\"download_6cbe40fa-f301-441c-9028-20612a3e078e\", \"C:\\\\Users\\\\pc\\\\Desktop\\\\student dataset\\\\subset_with resolution\\\\partition_19_part2_processed.csv\", 5222)",
            "text/plain": [
              "<IPython.core.display.Javascript object>"
            ]
          },
          "metadata": {},
          "output_type": "display_data"
        }
      ],
      "source": [
        "\n",
        "import pandas as pd\n",
        "\n",
        "data = [\n",
        "    [\"Food and Cantines\", \"The vending machines on campus should offer healthier options, like granola bars and trail mix.\", 19, 2.16, 4, 1, \"F\", \"Indonesia\", \"Stock vending machines with healthier snack options, such as granola bars and trail mix.\"],\n",
        "    [\"Food and Cantines\", \"The campus needs to provide more options for students who have late classes and need dinner on the go.\", 21, 2.76, 2, 1, \"F\", \"Indonesia\", \"Expand grab-and-go dinner options for students with late classes.\"],\n",
        "    [\"Food and Cantines\", \"The food on campus is decent, but the snacks available at the cantine are too expensive.\", 19, 3.74, 5, 1, \"F\", \"Indonesia\", \"Reduce the prices of snacks in the cantine to make them more affordable for students.\"],\n",
        "    [\"Food and Cantines\", \"I wish there were more vegan options in the cafeteria.\", 18, 4.49, 3, 1, \"F\", \"Indonesia\", \"Expand vegan options in the cafeteria to accommodate students with dietary preferences.\"],\n",
        "    [\"Food and Cantines\", \"The sandwiches available in the cantine are always stale.\", 23, 2.19, 3, 1, \"F\", \"Indonesia\", \"Ensure sandwiches in the cantine are fresh and regularly restocked.\"],\n",
        "    [\"Food and Cantines\", \"The food on campus is great, but the cantine is always crowded during lunchtime.\", 18, 4.14, 3, 1, \"F\", \"Indonesia\", \"Expand the cantine or add additional dining areas to reduce overcrowding during peak hours.\"],\n",
        "    [\"Food and Cantines\", \"The vegetarian options in the cafeteria are delicious!\", 22, 1.39, 1, 1, \"F\", \"Indonesia\", \"Continue to offer and expand delicious vegetarian options in the cafeteria.\"],\n",
        "    [\"Food and Cantines\", \"The pizza available in the cantine is terrible.\", 21, 1.67, 5, 1, \"F\", \"Indonesia\", \"Improve the quality of pizza served in the cantine to make it more enjoyable for students.\"],\n",
        "    [\"Food and Cantines\", \"The coffee in the cafeteria is always lukewarm.\", 19, 2.76, 2, 1, \"F\", \"Indonesia\", \"Ensure coffee in the cafeteria is served at the appropriate temperature.\"],\n",
        "    [\"Food and Cantines\", \"The portions served in the cafeteria are too small for the price.\", 19, 2.71, 3, 1, \"F\", \"Indonesia\", \"Increase portion sizes in the cafeteria to ensure students feel they are getting value for their money.\"],\n",
        "    [\"Food and Cantines\", \"The sandwiches in the cafeteria are always made with stale bread.\", 18, 4.82, 1, 1, \"F\", \"Indonesia\", \"Ensure sandwiches in the cafeteria are made with fresh bread and regularly restocked.\"],\n",
        "    [\"Food and Cantines\", \"The cantine should offer more gluten-free options.\", 18, 2.74, 4, 1, \"F\", \"Indonesia\", \"Expand gluten-free options in the cantine to accommodate students with dietary restrictions.\"],\n",
        "    [\"Food and Cantines\", \"The salad bar in the cafeteria is always fresh and delicious.\", 21, 3.95, 1, 1, \"F\", \"Indonesia\", \"Continue to maintain the quality and freshness of the salad bar in the cafeteria.\"],\n",
        "    [\"Food and Cantines\", \"The pastries in the cantine are always stale and tasteless.\", 22, 3.81, 3, 1, \"F\", \"Indonesia\", \"Ensure pastries in the cantine are fresh and regularly restocked.\"],\n",
        "    [\"Food and Cantines\", \"The fruit options in the cafeteria are limited and often not ripe.\", 19, 1.15, 5, 1, \"F\", \"Indonesia\", \"Expand and improve the quality of fruit options in the cafeteria.\"],\n",
        "    [\"Food and Cantines\", \"The cafeteria should offer more international cuisine options.\", 23, 3.88, 1, 1, \"F\", \"Indonesia\", \"Introduce more international cuisine options in the cafeteria to cater to diverse student preferences.\"],\n",
        "    [\"Food and Cantines\", \"The cantine is always closed during the weekends, which is inconvenient.\", 19, 4.15, 1, 1, \"F\", \"Indonesia\", \"Extend the operating hours of the cantine to include weekends for the convenience of students.\"],\n",
        "    [\"Food and Cantines\", \"The burgers in the cafeteria are always overcooked.\", 19, 1.87, 1, 1, \"F\", \"Indonesia\", \"Improve the cooking process for burgers in the cafeteria to ensure they are not overcooked.\"],\n",
        "    [\"Food and Cantines\", \"The drinks available in the cantine are overpriced.\", 23, 2.29, 3, 1, \"F\", \"Indonesia\", \"Reduce the prices of drinks in the cantine to make them more affordable for students.\"],\n",
        "    [\"Food and Cantines\", \"The cafeteria should offer more healthy options.\", 21, 2.1, 2, 1, \"F\", \"Indonesia\", \"Introduce more healthy food options in the cafeteria to promote student well-being.\"],\n",
        "    [\"Food and Cantines\", \"The chips available in the cantine are always stale and overpriced.\", 22, 4.51, 4, 1, \"F\", \"Indonesia\", \"Ensure chips in the cantine are fresh and reduce their prices to make them more affordable.\"],\n",
        "    [\"Food and Cantines\", \"The staff in the cafeteria is always friendly and helpful.\", 20, 2.13, 4, 1, \"F\", \"Indonesia\", \"Continue to maintain the high level of customer service provided by the cafeteria staff.\"],\n",
        "    [\"Food and Cantines\", \"The cantine should offer more vegetarian options.\", 18, 4.4, 3, 1, \"F\", \"Indonesia\", \"Expand vegetarian options in the cantine to accommodate students with dietary preferences.\"],\n",
        "    [\"Food and Cantines\", \"The pasta in the cafeteria is always overcooked and bland.\", 19, 3.04, 2, 1, \"F\", \"Indonesia\", \"Improve the cooking process for pasta in the cafeteria to ensure it is not overcooked and is more flavorful.\"],\n",
        "    [\"Food and Cantines\", \"The prices at the cantine are too high for the quality of the food.\", 22, 4.85, 1, 1, \"F\", \"Indonesia\", \"Reduce prices and improve the quality of food served in the cantine.\"],\n",
        "    [\"Food and Cantines\", \"The selection of snacks in the cafeteria is limited.\", 21, 1.49, 5, 1, \"F\", \"Indonesia\", \"Expand the selection of snacks in the cafeteria to provide more variety for students.\"],\n",
        "    [\"Food and Cantines\", \"The cantine should offer more options for people with food allergies.\", 20, 3.63, 5, 1, \"F\", \"Indonesia\", \"Expand the menu to include more options for students with food allergies.\"]\n",
        "]\n",
        "\n",
        "\n",
        "columns = [\"Genre\", \"Reports\", \"Age\", \"GPA\", \"Year\", \"Count\", \"Gender\", \"Nationality\", \"Resolution\"]\n",
        "\n",
        "data = pd.DataFrame(data, columns=columns)\n",
        "\n",
        "\n",
        "\n",
        "df=pd.DataFrame(data)\n",
        "\n",
        "\n",
        "df.to_csv(r\"C:\\Users\\pc\\Desktop\\student dataset\\subset_with resolution\\partition_19_part2_processed.csv\", index=False)\n",
        "\n",
        "files.download(r\"C:\\Users\\pc\\Desktop\\student dataset\\subset_with resolution\\partition_19_part2_processed.csv\")\n"
      ]
    },
    {
      "cell_type": "markdown",
      "metadata": {
        "id": "dJr2n7kEhgpc"
      },
      "source": [
        "dataset_20"
      ]
    },
    {
      "cell_type": "code",
      "execution_count": null,
      "metadata": {
        "colab": {
          "base_uri": "https://localhost:8080/",
          "height": 17
        },
        "id": "47Sb90CFhfkK",
        "outputId": "f5c195c3-7599-4228-adb0-24afcb81fe7a"
      },
      "outputs": [
        {
          "data": {
            "application/javascript": "\n    async function download(id, filename, size) {\n      if (!google.colab.kernel.accessAllowed) {\n        return;\n      }\n      const div = document.createElement('div');\n      const label = document.createElement('label');\n      label.textContent = `Downloading \"${filename}\": `;\n      div.appendChild(label);\n      const progress = document.createElement('progress');\n      progress.max = size;\n      div.appendChild(progress);\n      document.body.appendChild(div);\n\n      const buffers = [];\n      let downloaded = 0;\n\n      const channel = await google.colab.kernel.comms.open(id);\n      // Send a message to notify the kernel that we're ready.\n      channel.send({})\n\n      for await (const message of channel.messages) {\n        // Send a message to notify the kernel that we're ready.\n        channel.send({})\n        if (message.buffers) {\n          for (const buffer of message.buffers) {\n            buffers.push(buffer);\n            downloaded += buffer.byteLength;\n            progress.value = downloaded;\n          }\n        }\n      }\n      const blob = new Blob(buffers, {type: 'application/binary'});\n      const a = document.createElement('a');\n      a.href = window.URL.createObjectURL(blob);\n      a.download = filename;\n      div.appendChild(a);\n      a.click();\n      div.remove();\n    }\n  ",
            "text/plain": [
              "<IPython.core.display.Javascript object>"
            ]
          },
          "metadata": {},
          "output_type": "display_data"
        },
        {
          "data": {
            "application/javascript": "download(\"download_7b507cf3-0d05-4c29-9243-1f92edd6444c\", \"C:\\\\Users\\\\pc\\\\Desktop\\\\student dataset\\\\subset_with resolution\\\\partition_20_part1_processed.csv\", 4503)",
            "text/plain": [
              "<IPython.core.display.Javascript object>"
            ]
          },
          "metadata": {},
          "output_type": "display_data"
        }
      ],
      "source": [
        "import pandas as pd\n",
        "\n",
        "\n",
        "\n",
        "data = [\n",
        "    [\"Food and Cantines\", \"26. \\\"The soup in the cafeteria is always too salty.\\\"\", 23, 3.02, 5, 1, \"F\", \"Indonesia\", \"Adjust seasoning in cafeteria soups and provide feedback channels for students to report issues.\"],\n",
        "    [\"Food and Cantines\", \"27. \\\"The sandwiches in the cafeteria are always made with processed meat.\\\"\", 22, 3.88, 3, 1, \"F\", \"Indonesia\", \"Introduce healthier sandwich options with fresh, non-processed ingredients.\"],\n",
        "    [\"Food and Cantines\", \"28. \\\"The desserts in the cantine are always too sweet and unhealthy.\\\"\", 19, 1.36, 3, 1, \"F\", \"Indonesia\", \"Offer a variety of desserts with reduced sugar and healthier alternatives.\"],\n",
        "    [\"Food and Cantines\", \"29. \\\"The cantine should offer more organic options.\\\"\", 23, 2.57, 1, 1, \"F\", \"Indonesia\", \"Increase the availability of organic food options in the cafeteria.\"],\n",
        "    [\"Food and Cantines\", \"30. \\\"The sushi available in the cafeteria is always stale and overpriced.\\\"\", 22, 1.59, 1, 1, \"F\", \"Indonesia\", \"Improve the freshness of sushi and adjust pricing to be more reasonable.\"],\n",
        "    [\"Food and Cantines\", \"31. \\\"The cafeteria should offer more options for people who are lactose intolerant.\\\"\", 18, 1.32, 2, 1, \"F\", \"Indonesia\", \"Introduce lactose-free options and clearly label them for easy identification.\"],\n",
        "    [\"Food and Cantines\", \"32. \\\"The cantine should offer more options for people who are gluten intolerant.\\\"\", 19, 1.14, 3, 1, \"F\", \"Indonesia\", \"Add gluten-free options and ensure proper labeling to avoid cross-contamination.\"],\n",
        "    [\"Food and Cantines\", \"33. \\\"The food in the cafeteria is always fresh and delicious.\\\"\", 21, 4.12, 4, 1, \"M\", \"Indonesia\", \"Maintain the quality and freshness of food while continuing to seek positive feedback.\"],\n",
        "    [\"Food and Cantines\", \"34. \\\"The cantine should offer more options for people who are vegan.\\\"\", 19, 4.14, 3, 1, \"F\", \"Indonesia\", \"Expand vegan menu options and ensure they are clearly labeled.\"],\n",
        "    [\"Food and Cantines\", \"35. \\\"The chips in the cafeteria are always stale and overpriced.\\\"\", 21, 4.94, 4, 1, \"F\", \"Indonesia\", \"Improve the freshness of chips and adjust pricing to be more reasonable.\"],\n",
        "    [\"Food and Cantines\", \"36. \\\"The drinks available in the cafeteria are overpriced.\\\"\", 21, 3.61, 5, 1, \"F\", \"Indonesia\", \"Review drink pricing and consider offering discounts or promotions.\"],\n",
        "    [\"Food and Cantines\", \"37. \\\"The cantine should offer more options for people who are on a diet.\\\"\", 21, 4.93, 5, 1, \"M\", \"Indonesia\", \"Introduce low-calorie and diet-friendly options in the cafeteria.\"],\n",
        "    [\"Food and Cantines\", \"38. \\\"The pizza in the cafeteria is always undercooked and soggy.\\\"\", 22, 4.56, 2, 1, \"F\", \"Indonesia\", \"Improve pizza preparation to ensure it is properly cooked and crispy.\"],\n",
        "    [\"Food and Cantines\", \"39. \\\"The sandwiches in the cafeteria are always made with cheap ingredients.\\\"\", 21, 4.97, 4, 1, \"F\", \"Indonesia\", \"Upgrade sandwich ingredients to higher-quality options.\"],\n",
        "    [\"Food and Cantines\", \"40. \\\"The staff in the cantine is always rude and unhelpful.\\\"\", 19, 4.38, 5, 1, \"F\", \"Indonesia\", \"Provide staff training on customer service and implement a feedback system for students to report issues.\"],\n",
        "    [\"Food and Cantines\", \"41. \\\"The cafeteria should offer more international snacks options.\\\"\", 20, 1.05, 3, 1, \"F\", \"Indonesia\", \"Introduce a variety of international snacks to cater to diverse tastes.\"],\n",
        "    [\"Food and Cantines\", \"42. \\\"The cantine should offer more halal options.\\\"\", 19, 2.35, 4, 1, \"F\", \"Indonesia\", \"Expand halal food options and ensure proper certification and labeling.\"],\n",
        "    [\"Food and Cantines\", \"43. \\\"The prices at the cafeteria are reasonable for the quality of the food.\\\"\", 22, 3.12, 2, 1, \"M\", \"Indonesia\", \"Maintain current pricing and quality standards while continuing to monitor feedback.\"],\n",
        "    [\"Food and Cantines\", \"44. \\\"The cantine should offer more kosher options.\\\"\", 19, 4.86, 2, 1, \"F\", \"Indonesia\", \"Introduce kosher-certified food options and ensure proper labeling.\"],\n",
        "    [\"Food and Cantines\", \"45. \\\"The cafeteria should offer more organic options.\\\"\", 21, 4.13, 3, 1, \"F\", \"Indonesia\", \"Increase the availability of organic food options in the cafeteria.\"],\n",
        "    [\"Food and Cantines\", \"46. \\\"The cantine should offer more fresh fruit options.\\\"\", 21, 4.44, 4, 1, \"F\", \"Indonesia\", \"Add a variety of fresh fruits to the cafeteria menu.\"],\n",
        "    [\"Food and Cantines\", \"47. \\\"The hot dogs in the cafeteria are always cold and rubbery.\\\"\", 18, 1.65, 3, 1, \"M\", \"Indonesia\", \"Improve the preparation and serving temperature of hot dogs.\"],\n",
        "    [\"Food and Cantines\", \"48. \\\"The cantine should offer more locally sourced options.\\\"\", 18, 1.04, 4, 1, \"F\", \"Indonesia\", \"Partner with local suppliers to offer more locally sourced food options.\"],\n",
        "    [\"Food and Cantines\", \"49. \\\"The cafeteria should offer more vegetarian options.\\\"\", 20, 1.71, 2, 1, \"M\", \"Indonesia\", \"Expand vegetarian menu options and ensure they are clearly labeled.\"]\n",
        "]\n",
        "\n",
        "\n",
        "\n",
        "\n",
        "\n",
        "columns = [\"Genre\", \"Reports\", \"Age\", \"GPA\", \"Year\", \"Count\", \"Gender\", \"Nationality\", \"Resolution\"]\n",
        "\n",
        "data = pd.DataFrame(data, columns=columns)\n",
        "\n",
        "\n",
        "\n",
        "df=pd.DataFrame(data)\n",
        "\n",
        "\n",
        "df.to_csv(r\"C:\\Users\\pc\\Desktop\\student dataset\\subset_with resolution\\partition_20_part1_processed.csv\", index=False)\n",
        "\n",
        "files.download(r\"C:\\Users\\pc\\Desktop\\student dataset\\subset_with resolution\\partition_20_part1_processed.csv\")\n"
      ]
    },
    {
      "cell_type": "markdown",
      "metadata": {
        "id": "cLePYYziKBAX"
      },
      "source": []
    },
    {
      "cell_type": "code",
      "execution_count": null,
      "metadata": {
        "colab": {
          "base_uri": "https://localhost:8080/",
          "height": 17
        },
        "id": "zKb9U53nh2SV",
        "outputId": "db6ab024-a8b6-4fb1-8995-04e40041eed7"
      },
      "outputs": [
        {
          "data": {
            "application/javascript": "\n    async function download(id, filename, size) {\n      if (!google.colab.kernel.accessAllowed) {\n        return;\n      }\n      const div = document.createElement('div');\n      const label = document.createElement('label');\n      label.textContent = `Downloading \"${filename}\": `;\n      div.appendChild(label);\n      const progress = document.createElement('progress');\n      progress.max = size;\n      div.appendChild(progress);\n      document.body.appendChild(div);\n\n      const buffers = [];\n      let downloaded = 0;\n\n      const channel = await google.colab.kernel.comms.open(id);\n      // Send a message to notify the kernel that we're ready.\n      channel.send({})\n\n      for await (const message of channel.messages) {\n        // Send a message to notify the kernel that we're ready.\n        channel.send({})\n        if (message.buffers) {\n          for (const buffer of message.buffers) {\n            buffers.push(buffer);\n            downloaded += buffer.byteLength;\n            progress.value = downloaded;\n          }\n        }\n      }\n      const blob = new Blob(buffers, {type: 'application/binary'});\n      const a = document.createElement('a');\n      a.href = window.URL.createObjectURL(blob);\n      a.download = filename;\n      div.appendChild(a);\n      a.click();\n      div.remove();\n    }\n  ",
            "text/plain": [
              "<IPython.core.display.Javascript object>"
            ]
          },
          "metadata": {},
          "output_type": "display_data"
        },
        {
          "data": {
            "application/javascript": "download(\"download_a00eb780-3592-4fda-9c82-534f2827fc60\", \"C:\\\\Users\\\\pc\\\\Desktop\\\\student dataset\\\\subset_with resolution\\\\partition_20_part2_processed.csv\", 4602)",
            "text/plain": [
              "<IPython.core.display.Javascript object>"
            ]
          },
          "metadata": {},
          "output_type": "display_data"
        }
      ],
      "source": [
        "import pandas as pd\n",
        "\n",
        "\n",
        "data = [\n",
        "    [\"Food and Cantines\", \"50. \\\"The cantine should offer more breakfast options.\\\"\", 19, 3.11, 1, 1, \"M\", \"Indonesia\", \"Introduce a wider variety of breakfast options to cater to different preferences.\"],\n",
        "    [\"Food and Cantines\", \"1. The food in the dining hall is not healthy or nutritious.\", 20, 2.77, 3, 1, \"M\", \"Indonesia\", \"Improve the nutritional quality of food in the dining hall by offering more balanced and healthy meals.\"],\n",
        "    [\"Food and Cantines\", \"2. The food in the dining hall is bland and tasteless.\", 23, 1.7, 1, 1, \"M\", \"Indonesia\", \"Enhance the flavor of food by using more herbs, spices, and seasoning.\"],\n",
        "    [\"Food and Cantines\", \"3. The food in the dining hall is overpriced.\", 22, 2.23, 3, 1, \"M\", \"Indonesia\", \"Review pricing and consider offering more affordable meal options.\"],\n",
        "    [\"Food and Cantines\", \"4. The dining hall is always crowded and there are long lines.\", 19, 3.46, 1, 1, \"M\", \"Indonesia\", \"Implement a system to manage crowds, such as staggered meal times or additional serving stations.\"],\n",
        "    [\"Food and Cantines\", \"5. The dining hall is dirty and unsanitary.\", 22, 3.55, 5, 1, \"M\", \"Indonesia\", \"Increase cleaning frequency and ensure proper sanitation standards are maintained.\"],\n",
        "    [\"Food and Cantines\", \"6. The food in the vending machines is unhealthy and overpriced.\", 19, 3.25, 2, 1, \"M\", \"Indonesia\", \"Replace unhealthy options in vending machines with healthier snacks and adjust pricing.\"],\n",
        "    [\"Food and Cantines\", \"7. The food in the convenience store is unhealthy and overpriced.\", 21, 3.42, 3, 1, \"M\", \"Indonesia\", \"Offer healthier food options in the convenience store and review pricing.\"],\n",
        "    [\"Food and Cantines\", \"8. There are not enough vegan or vegetarian options available.\", 21, 2.54, 3, 1, \"M\", \"Indonesia\", \"Expand vegan and vegetarian menu options in the dining hall.\"],\n",
        "    [\"Food and Cantines\", \"9. There are not enough gluten-free options available.\", 22, 2.01, 2, 1, \"M\", \"Indonesia\", \"Introduce more gluten-free options and ensure proper labeling.\"],\n",
        "    [\"Food and Cantines\", \"10. There are not enough halal or kosher options available.\", 20, 3.11, 4, 1, \"M\", \"Indonesia\", \"Increase the availability of halal and kosher food options.\"],\n",
        "    [\"Food and Cantines\", \"11. There are not enough international options available.\", 20, 1.2, 5, 1, \"M\", \"Indonesia\", \"Introduce more international cuisine options to cater to diverse tastes.\"],\n",
        "    [\"Food and Cantines\", \"12. The food is not cooked to my liking.\", 21, 3.19, 2, 1, \"M\", \"Indonesia\", \"Offer customizable food options to allow students to choose their preferred cooking style.\"],\n",
        "    [\"Food and Cantines\", \"13. The food is not served hot enough.\", 22, 4.37, 5, 1, \"M\", \"Indonesia\", \"Ensure food is served at the appropriate temperature by improving heating and serving processes.\"],\n",
        "    [\"Food and Cantines\", \"14. The food is not fresh.\", 23, 1.3, 1, 1, \"M\", \"Indonesia\", \"Improve food storage and rotation to ensure freshness.\"],\n",
        "    [\"Food and Cantines\", \"15. The food is not appealing to look at.\", 20, 3.15, 1, 1, \"M\", \"Indonesia\", \"Enhance food presentation to make it more visually appealing.\"],\n",
        "    [\"Food and Cantines\", \"16. The food is not filling.\", 18, 4.63, 3, 1, \"M\", \"Indonesia\", \"Increase portion sizes or offer more filling meal options.\"],\n",
        "    [\"Food and Cantines\", \"17. I have gotten sick from eating the food in the dining hall.\", 19, 2.9, 3, 1, \"M\", \"Indonesia\", \"Investigate food safety practices and ensure proper hygiene and food handling standards.\"],\n",
        "    [\"Food and Cantines\", \"18. I have seen rodents or insects in the dining hall.\", 18, 4.34, 4, 1, \"M\", \"Indonesia\", \"Conduct a thorough pest control inspection and implement measures to prevent infestations.\"],\n",
        "    [\"Food and Cantines\", \"19. I have seen food being prepared in unsanitary conditions.\", 21, 3.71, 1, 1, \"M\", \"Indonesia\", \"Enforce strict hygiene standards in food preparation areas and conduct regular inspections.\"],\n",
        "    [\"Food and Cantines\", \"20. I have been served food that was not what I ordered.\", 19, 2.03, 2, 1, \"M\", \"Indonesia\", \"Improve order accuracy by training staff and implementing a double-check system.\"],\n",
        "    [\"Food and Cantines\", \"21. I have been charged for food that I did not receive.\", 19, 4.16, 4, 1, \"M\", \"Indonesia\", \"Review billing processes and ensure accurate charges for food orders.\"],\n",
        "    [\"Food and Cantines\", \"22. I have been treated rudely by staff in the dining hall.\", 22, 4.0, 5, 1, \"M\", \"Indonesia\", \"Provide customer service training for staff and implement a feedback system for students to report issues.\"],\n",
        "    [\"Food and Cantines\", \"23. I have had my food stolen from me in the dining hall.\", 18, 2.93, 1, 1, \"M\", \"Indonesia\", \"Increase security measures in the dining hall to prevent theft.\"],\n",
        "    [\"Food and Cantines\", \"24. I have been harassed or assaulted in the dining hall.\", 18, 2.06, 1, 1, \"M\", \"Indonesia\", \"Implement strict anti-harassment policies and provide support for affected students.\"],\n",
        "    [\"Food and Cantines\", \"25. I have felt unsafe in the dining hall.\", 19, 3.35, 3, 1, \"M\", \"Indonesia\", \"Increase security presence in the dining hall and ensure a safe environment for all students.\"]\n",
        "]\n",
        "\n",
        "\n",
        "\n",
        "columns = [\"Genre\", \"Reports\", \"Age\", \"GPA\", \"Year\", \"Count\", \"Gender\", \"Nationality\", \"Resolution\"]\n",
        "\n",
        "data = pd.DataFrame(data, columns=columns)\n",
        "\n",
        "\n",
        "\n",
        "df=pd.DataFrame(data)\n",
        "\n",
        "\n",
        "df.to_csv(r\"C:\\Users\\pc\\Desktop\\student dataset\\subset_with resolution\\partition_20_part2_processed.csv\", index=False)\n",
        "\n",
        "files.download(r\"C:\\Users\\pc\\Desktop\\student dataset\\subset_with resolution\\partition_20_part2_processed.csv\")\n"
      ]
    },
    {
      "cell_type": "markdown",
      "metadata": {
        "id": "4fgMDmdOiHOE"
      },
      "source": [
        "dataset_21"
      ]
    },
    {
      "cell_type": "code",
      "execution_count": null,
      "metadata": {
        "colab": {
          "base_uri": "https://localhost:8080/",
          "height": 17
        },
        "id": "9YsQ2_IeiJOk",
        "outputId": "7909872c-3806-4d60-bc12-0c767912688a"
      },
      "outputs": [
        {
          "data": {
            "application/javascript": "\n    async function download(id, filename, size) {\n      if (!google.colab.kernel.accessAllowed) {\n        return;\n      }\n      const div = document.createElement('div');\n      const label = document.createElement('label');\n      label.textContent = `Downloading \"${filename}\": `;\n      div.appendChild(label);\n      const progress = document.createElement('progress');\n      progress.max = size;\n      div.appendChild(progress);\n      document.body.appendChild(div);\n\n      const buffers = [];\n      let downloaded = 0;\n\n      const channel = await google.colab.kernel.comms.open(id);\n      // Send a message to notify the kernel that we're ready.\n      channel.send({})\n\n      for await (const message of channel.messages) {\n        // Send a message to notify the kernel that we're ready.\n        channel.send({})\n        if (message.buffers) {\n          for (const buffer of message.buffers) {\n            buffers.push(buffer);\n            downloaded += buffer.byteLength;\n            progress.value = downloaded;\n          }\n        }\n      }\n      const blob = new Blob(buffers, {type: 'application/binary'});\n      const a = document.createElement('a');\n      a.href = window.URL.createObjectURL(blob);\n      a.download = filename;\n      div.appendChild(a);\n      a.click();\n      div.remove();\n    }\n  ",
            "text/plain": [
              "<IPython.core.display.Javascript object>"
            ]
          },
          "metadata": {},
          "output_type": "display_data"
        },
        {
          "data": {
            "application/javascript": "download(\"download_8a221c23-3ea6-4707-a01b-ac2c5596841c\", \"C:\\\\Users\\\\pc\\\\Desktop\\\\student dataset\\\\subset_with resolution\\\\partition_21_part1_processed.csv\", 1302)",
            "text/plain": [
              "<IPython.core.display.Javascript object>"
            ]
          },
          "metadata": {},
          "output_type": "display_data"
        }
      ],
      "source": [
        "import pandas as pd\n",
        "\n",
        "\n",
        "\n",
        "data = [\n",
        "    [\"Food and Cantines\", \"26. I have been unable to find food that meets my dietary needs.\", 18, 1.16, 4, 1, \"M\", \"Indonesia\", \"Expand the variety of dietary-specific options (e.g., gluten-free, vegan, halal) and ensure clear labeling to help students identify suitable meals.\"],\n",
        "    [\"Food and Cantines\", \"27. I have been unable to find food that I can afford.\", 20, 4.05, 2, 1, \"M\", \"Indonesia\", \"Introduce more affordable meal options, such as budget-friendly meals or meal plans, to accommodate students with financial constraints.\"],\n",
        "    [\"Food and Cantines\", \"28. I have been unable to find food that I enjoy.\", 22, 1.86, 3, 1, \"M\", \"Indonesia\", \"Conduct a survey to understand student preferences and introduce a wider variety of cuisines and dishes to cater to diverse tastes.\"],\n",
        "    [\"Food and Cantines\", \"29. I have been unable to find food that is healthy and nutritious.\", 20, 2.06, 2, 1, \"M\", \"Indonesia\", \"Improve the nutritional quality of meals by offering more balanced, fresh, and healthy options, and provide nutritional information for each dish.\"],\n",
        "    [\"Food and Cantines\", \"30. I have been unable to find food that is cooked to my liking.\", 21, 2.58, 1, 1, \"M\", \"Indonesia\", \"Offer customizable food options where students can choose their preferred cooking style or ingredients, and train staff to accommodate special requests.\"]\n",
        "]\n",
        "\n",
        "columns = [\"Genre\", \"Reports\", \"Age\", \"GPA\", \"Year\", \"Count\", \"Gender\", \"Nationality\", \"Resolution\"]\n",
        "\n",
        "data = pd.DataFrame(data, columns=columns)\n",
        "\n",
        "\n",
        "\n",
        "df=pd.DataFrame(data)\n",
        "\n",
        "\n",
        "df.to_csv(r\"C:\\Users\\pc\\Desktop\\student dataset\\subset_with resolution\\partition_21_part1_processed.csv\", index=False)\n",
        "\n",
        "files.download(r\"C:\\Users\\pc\\Desktop\\student dataset\\subset_with resolution\\partition_21_part1_processed.csv\")\n",
        "\n"
      ]
    },
    {
      "cell_type": "code",
      "execution_count": null,
      "metadata": {
        "colab": {
          "base_uri": "https://localhost:8080/"
        },
        "id": "vPJBTDJV_6J4",
        "outputId": "fe2c3fbf-b52a-4328-f401-c4e6a7cdb10a"
      },
      "outputs": [
        {
          "data": {
            "text/plain": [
              "np.int64(0)"
            ]
          },
          "execution_count": 136,
          "metadata": {},
          "output_type": "execute_result"
        }
      ],
      "source": [
        "import pandas as pd\n",
        "student_data=pd.read_csv(\"/content/student_resolution.csv\",)\n",
        "\n",
        "student_data.duplicated().sum()"
      ]
    },
    {
      "cell_type": "code",
      "execution_count": null,
      "metadata": {
        "colab": {
          "base_uri": "https://localhost:8080/"
        },
        "id": "sISH9YGSnwnq",
        "outputId": "93423868-3bee-4ebf-c395-e5206f77c7d5"
      },
      "outputs": [
        {
          "data": {
            "text/plain": [
              "Index(['Genre', 'Reports', 'Age', 'GPA', 'Year', 'Count', 'Gender',\n",
              "       'Nationality', 'Resolution'],\n",
              "      dtype='object')"
            ]
          },
          "execution_count": 137,
          "metadata": {},
          "output_type": "execute_result"
        }
      ],
      "source": [
        "student_data.columns"
      ]
    },
    {
      "cell_type": "code",
      "execution_count": null,
      "metadata": {
        "colab": {
          "base_uri": "https://localhost:8080/"
        },
        "id": "a_zUk-9WAejO",
        "outputId": "8f1ac83a-f098-48df-a77d-360d76c58764"
      },
      "outputs": [
        {
          "data": {
            "text/plain": [
              "array(['France', 'Mexico', 'South Africa', 'Yemen', 'Indonesia', 'Egypt',\n",
              "       'Soudan'], dtype=object)"
            ]
          },
          "execution_count": 138,
          "metadata": {},
          "output_type": "execute_result"
        }
      ],
      "source": [
        "student_data[\"Nationality\"].unique()"
      ]
    },
    {
      "cell_type": "markdown",
      "metadata": {
        "id": "i2MAiruiBzp_"
      },
      "source": [
        "generate student name and ticket_id"
      ]
    },
    {
      "cell_type": "code",
      "execution_count": null,
      "metadata": {
        "colab": {
          "base_uri": "https://localhost:8080/"
        },
        "id": "AVaOORY9CXWO",
        "outputId": "ce83f6e6-deb2-4a84-e97a-22d44ffc4775"
      },
      "outputs": [
        {
          "name": "stdout",
          "output_type": "stream",
          "text": [
            "Collecting Faker\n",
            "  Downloading faker-37.1.0-py3-none-any.whl.metadata (15 kB)\n",
            "Requirement already satisfied: tzdata in /usr/local/lib/python3.11/dist-packages (from Faker) (2025.2)\n",
            "Downloading faker-37.1.0-py3-none-any.whl (1.9 MB)\n",
            "\u001b[?25l   \u001b[90m━━━━━━━━━━━━━━━━━━━━━━━━━━━━━━━━━━━━━━━━\u001b[0m \u001b[32m0.0/1.9 MB\u001b[0m \u001b[31m?\u001b[0m eta \u001b[36m-:--:--\u001b[0m\r\u001b[2K   \u001b[91m━━━━━━━━━━━━━━━\u001b[0m\u001b[91m╸\u001b[0m\u001b[90m━━━━━━━━━━━━━━━━━━━━━━━━\u001b[0m \u001b[32m0.8/1.9 MB\u001b[0m \u001b[31m22.8 MB/s\u001b[0m eta \u001b[36m0:00:01\u001b[0m\r\u001b[2K   \u001b[90m━━━━━━━━━━━━━━━━━━━━━━━━━━━━━━━━━━━━━━━━\u001b[0m \u001b[32m1.9/1.9 MB\u001b[0m \u001b[31m30.3 MB/s\u001b[0m eta \u001b[36m0:00:00\u001b[0m\n",
            "\u001b[?25hInstalling collected packages: Faker\n",
            "Successfully installed Faker-37.1.0\n"
          ]
        }
      ],
      "source": [
        "pip install Faker"
      ]
    },
    {
      "cell_type": "code",
      "execution_count": null,
      "metadata": {
        "colab": {
          "base_uri": "https://localhost:8080/",
          "height": 458
        },
        "id": "roEIpeb6dl5z",
        "outputId": "7c89e4db-a6eb-4150-c3fe-d4945683404a"
      },
      "outputs": [
        {
          "data": {
            "text/html": [
              "<div>\n",
              "<style scoped>\n",
              "    .dataframe tbody tr th:only-of-type {\n",
              "        vertical-align: middle;\n",
              "    }\n",
              "\n",
              "    .dataframe tbody tr th {\n",
              "        vertical-align: top;\n",
              "    }\n",
              "\n",
              "    .dataframe thead th {\n",
              "        text-align: right;\n",
              "    }\n",
              "</style>\n",
              "<table border=\"1\" class=\"dataframe\">\n",
              "  <thead>\n",
              "    <tr style=\"text-align: right;\">\n",
              "      <th></th>\n",
              "      <th>Year</th>\n",
              "    </tr>\n",
              "  </thead>\n",
              "  <tbody>\n",
              "    <tr>\n",
              "      <th>0</th>\n",
              "      <td>Fifth</td>\n",
              "    </tr>\n",
              "    <tr>\n",
              "      <th>1</th>\n",
              "      <td>First</td>\n",
              "    </tr>\n",
              "    <tr>\n",
              "      <th>2</th>\n",
              "      <td>Fourth</td>\n",
              "    </tr>\n",
              "    <tr>\n",
              "      <th>3</th>\n",
              "      <td>Fifth</td>\n",
              "    </tr>\n",
              "    <tr>\n",
              "      <th>4</th>\n",
              "      <td>Second</td>\n",
              "    </tr>\n",
              "    <tr>\n",
              "      <th>...</th>\n",
              "      <td>...</td>\n",
              "    </tr>\n",
              "    <tr>\n",
              "      <th>949</th>\n",
              "      <td>Third</td>\n",
              "    </tr>\n",
              "    <tr>\n",
              "      <th>950</th>\n",
              "      <td>Second</td>\n",
              "    </tr>\n",
              "    <tr>\n",
              "      <th>951</th>\n",
              "      <td>Second</td>\n",
              "    </tr>\n",
              "    <tr>\n",
              "      <th>952</th>\n",
              "      <td>Third</td>\n",
              "    </tr>\n",
              "    <tr>\n",
              "      <th>953</th>\n",
              "      <td>Second</td>\n",
              "    </tr>\n",
              "  </tbody>\n",
              "</table>\n",
              "<p>954 rows × 1 columns</p>\n",
              "</div><br><label><b>dtype:</b> object</label>"
            ],
            "text/plain": [
              "0       Fifth\n",
              "1       First\n",
              "2      Fourth\n",
              "3       Fifth\n",
              "4      Second\n",
              "        ...  \n",
              "949     Third\n",
              "950    Second\n",
              "951    Second\n",
              "952     Third\n",
              "953    Second\n",
              "Name: Year, Length: 954, dtype: object"
            ]
          },
          "execution_count": 139,
          "metadata": {},
          "output_type": "execute_result"
        }
      ],
      "source": [
        "student_data.drop(columns=[\"GPA\"],axis=1,inplace=True)\n",
        "\n",
        "student_data[\"Gender\"].apply(lambda x:\"Male\" if x==\"M\" else \"Female\")\n",
        "\n",
        "\n",
        "def convert_yearto_level(year):\n",
        "  if year==1:\n",
        "    return \"First\"\n",
        "  elif year==2:\n",
        "    return \"Second\"\n",
        "  elif year==3:\n",
        "    return \"Third\"\n",
        "  elif year==4:\n",
        "    return \"Fourth\"\n",
        "  elif year==5:\n",
        "    return \"Fifth\"\n",
        "\n",
        "student_data[\"Year\"].apply(lambda x:convert_yearto_level(x))"
      ]
    },
    {
      "cell_type": "code",
      "execution_count": null,
      "metadata": {
        "colab": {
          "base_uri": "https://localhost:8080/"
        },
        "id": "4sFK4TxiB4wG",
        "outputId": "5446cedb-2626-49c1-bb3f-151ffe4e40bf"
      },
      "outputs": [
        {
          "name": "stdout",
          "output_type": "stream",
          "text": [
            "                               Genre  \\\n",
            "0  International student experiences   \n",
            "1  International student experiences   \n",
            "2  International student experiences   \n",
            "3  International student experiences   \n",
            "4  International student experiences   \n",
            "\n",
            "                                             Reports  Age  Year  Count  \\\n",
            "0  4. I appreciate the efforts the university has...   24     5      1   \n",
            "1  5. I've been trying to improve my language ski...   26     1      1   \n",
            "2  6. I think it would be helpful if the universi...   23     4      1   \n",
            "3  7. I appreciate the efforts of my fellow stude...   20     5      1   \n",
            "4  8. I wish the university offered more language...   27     2      1   \n",
            "\n",
            "   Gender Nationality                                         Resolution  \\\n",
            "0    Male      France  Create a feedback system for international stu...   \n",
            "1    Male      France  Provide access to online language courses and ...   \n",
            "2  Female      France  Organize study groups for international studen...   \n",
            "3    Male      France  Develop a mobile app with resources for intern...   \n",
            "4  Female      France  Offer workshops on public speaking and present...   \n",
            "\n",
            "     Student Name   Ticket ID  \n",
            "0    Billy Morgan  TKT-821766  \n",
            "1      Jamie Wade  TKT-179694  \n",
            "2  Irene O'Connor  TKT-521863  \n",
            "3    Charlie Shah  TKT-327470  \n",
            "4  Rosie Thompson  TKT-222152  \n"
          ]
        }
      ],
      "source": [
        "import pandas as pd\n",
        "from faker import Faker\n",
        "import random\n",
        "\n",
        "fake = Faker()\n",
        "\n",
        "# Use only locales supported by faker\n",
        "# generate a random names accourding to region\n",
        "nationalities = {\n",
        "    'France': 'en_GB',        # French (France)\n",
        "    'Mexico': 'es_MX',        # Spanish (Mexico)\n",
        "    'South Africa': 'en_US',  # English (United States) as fallback for South Africa\n",
        "    'Yemen': 'ar_EG',         # Generic Arabic as fallback for Yemen\n",
        "    'Indonesia': 'id_ID',     # Indonesian (Indonesia)\n",
        "    'Egypt': 'ar_EG',         # Arabic (Egypt)\n",
        "    'Soudan': 'ar_EG',        # Generic Arabic as fallback for Sudan\n",
        "    'United States': 'en_US',\n",
        "    'United Kingdom': 'en_GB',\n",
        "    'China': 'en_GB',\n",
        "    'India': 'en_GB',\n",
        "    'Japan': 'en_GB',\n",
        "    'Germany': 'de_DE',\n",
        "    'Brazil': 'pt_BR',\n",
        "    'Russia': 'ru_RU',\n",
        "    'Nigeria': 'en_US',\n",
        "    'Australia': 'en_AU',\n",
        "    'Canada': 'en_CA',\n",
        "}\n",
        "\n",
        "data = {\n",
        "    'Nationality': [random.choice(list(nationalities.keys())) for _ in range(955)],\n",
        "}\n",
        "\n",
        "df = pd.DataFrame(student_data)  # Fix: Use 'data' instead of 'student_data'\n",
        "\n",
        "# Randomly assign gender to each student\n",
        "df['Gender'] = [random.choice(['Male', 'Female']) for _ in range(len(df))]\n",
        "\n",
        "# Function to generate culturally appropriate names based on nationality and gender\n",
        "def generate_name(nationality, gender):\n",
        "    locale = nationalities[nationality]\n",
        "    fake_local = Faker(locale)\n",
        "    if gender == 'Male':\n",
        "        return fake_local.first_name_male() + ' ' + fake_local.last_name()\n",
        "    else:\n",
        "        return fake_local.first_name_female() + ' ' + fake_local.last_name()\n",
        "\n",
        "# Generate student names based on nationality and gender\n",
        "df['Student Name'] = df.apply(lambda row: generate_name(row['Nationality'], row['Gender']), axis=1)\n",
        "\n",
        "# Generate unique 7-digit ticket IDs\n",
        "\n",
        "ticket_ids = set()\n",
        "\n",
        "while len(ticket_ids) < len(df):\n",
        "    ticket_ids.add(f\"TKT-{fake.random_number(digits=6)}\")\n",
        "\n",
        "df['Ticket ID'] = list(ticket_ids)  # Conversion maintains order\n",
        "\n",
        "# Display the DataFrame\n",
        "print(df.head())\n",
        "\n",
        "df.to_csv('full_student_complaints.csv', index=False)"
      ]
    },
    {
      "cell_type": "code",
      "execution_count": null,
      "metadata": {
        "colab": {
          "base_uri": "https://localhost:8080/"
        },
        "id": "2fNvYRhKEf4A",
        "outputId": "957c819e-c4b1-4dee-cc8c-1734770f94e2"
      },
      "outputs": [
        {
          "data": {
            "text/plain": [
              "0"
            ]
          },
          "execution_count": 141,
          "metadata": {},
          "output_type": "execute_result"
        }
      ],
      "source": [
        "int(df[\"Ticket ID\"].duplicated().sum())"
      ]
    }
  ],
  "metadata": {
    "colab": {
      "provenance": []
    },
    "kernelspec": {
      "display_name": "Python 3",
      "name": "python3"
    },
    "language_info": {
      "name": "python"
    }
  },
  "nbformat": 4,
  "nbformat_minor": 0
}
